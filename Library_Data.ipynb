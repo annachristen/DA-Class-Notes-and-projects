{
  "nbformat": 4,
  "nbformat_minor": 0,
  "metadata": {
    "colab": {
      "provenance": [],
      "mount_file_id": "1bIV9sDrt-VRwouEdZ666QS1BIMSmiixS",
      "authorship_tag": "ABX9TyPY43wpdiMBywoMnytlEUPX",
      "include_colab_link": true
    },
    "kernelspec": {
      "name": "python3",
      "display_name": "Python 3"
    },
    "language_info": {
      "name": "python"
    }
  },
  "cells": [
    {
      "cell_type": "markdown",
      "metadata": {
        "id": "view-in-github",
        "colab_type": "text"
      },
      "source": [
        "<a href=\"https://colab.research.google.com/github/annachristen/DA-Class-Notes-and-projects/blob/main/Library_Data.ipynb\" target=\"_parent\"><img src=\"https://colab.research.google.com/assets/colab-badge.svg\" alt=\"Open In Colab\"/></a>"
      ]
    },
    {
      "cell_type": "code",
      "execution_count": 14,
      "metadata": {
        "id": "y1ZOUzng7EDn"
      },
      "outputs": [],
      "source": [
        "import pandas as pd\n",
        "df = pd.read_csv('Public_Libraries - updated.csv')"
      ]
    },
    {
      "cell_type": "code",
      "source": [
        "df.head(10)\n",
        "df.info(5)"
      ],
      "metadata": {
        "colab": {
          "base_uri": "https://localhost:8080/"
        },
        "id": "Ds4NfHiX8U5m",
        "outputId": "cdcee3f8-3fd0-458c-e14f-da7af6d778c0"
      },
      "execution_count": 15,
      "outputs": [
        {
          "output_type": "stream",
          "name": "stdout",
          "text": [
            "<class 'pandas.core.frame.DataFrame'>\n",
            "RangeIndex: 5105 entries, 0 to 5104\n",
            "Data columns (total 29 columns):\n",
            " #   Column                                              Non-Null Count  Dtype  \n",
            "---  ------                                              --------------  -----  \n",
            " 0   Fiscal Year                                         5105 non-null   int64  \n",
            " 1   Library                                             5105 non-null   object \n",
            " 2   County                                              5105 non-null   object \n",
            " 3   Principal Public?                                   5105 non-null   object \n",
            " 4   AENGLC Rank                                         4988 non-null   float64\n",
            " 5   Population of Service Area                          4642 non-null   float64\n",
            " 6   Total Library Visits                                4886 non-null   float64\n",
            " 7   Library Visits Per Capita Served                    4870 non-null   float64\n",
            " 8   Total Registered Borrowers                          5000 non-null   float64\n",
            " 9   Percent of Residents with Library Cards             4986 non-null   float64\n",
            " 10  Registrations Per Capita Served                     0 non-null      float64\n",
            " 11  Reference Questions                                 4709 non-null   float64\n",
            " 12  Reference Questions Per Capita Served               4680 non-null   float64\n",
            " 13  Total Circulation                                   5052 non-null   float64\n",
            " 14  Circulation Per Capita Served                       5035 non-null   float64\n",
            " 15  Total Programs (Synchronous + Prerecorded)          4937 non-null   float64\n",
            " 16  Total Program Attendance & Views                    4914 non-null   float64\n",
            " 17  Total Program Attendance & Views Per Capita Served  4892 non-null   float64\n",
            " 18  Use of Public Internet Computers                    3184 non-null   float64\n",
            " 19  Total Collection                                    5028 non-null   float64\n",
            " 20  Collection Per Capita Served                        4977 non-null   float64\n",
            " 21  Total Operating Income                              5042 non-null   object \n",
            " 22  Operating Income Per Capita                         4998 non-null   object \n",
            " 23  Town Tax Appropriation for Library                  5032 non-null   object \n",
            " 24  Tax Appropriation Per Capita Served                 4987 non-null   object \n",
            " 25  Library Materials Expenditures                      5022 non-null   object \n",
            " 26  Wages & Salaries Expenditures                       4951 non-null   object \n",
            " 27  Operating Expenditures                              5038 non-null   object \n",
            " 28  Operating Expenditures Per Capita                   5007 non-null   object \n",
            "dtypes: float64(17), int64(1), object(11)\n",
            "memory usage: 1.1+ MB\n"
          ]
        }
      ]
    },
    {
      "cell_type": "code",
      "source": [
        "df['Operating Expenditures Per Capita']\n",
        "df['Fiscal Year']\n",
        "df['County']"
      ],
      "metadata": {
        "colab": {
          "base_uri": "https://localhost:8080/",
          "height": 458
        },
        "id": "IbczHsFA_rqM",
        "outputId": "c7031988-0bac-44db-930e-9646d958f006"
      },
      "execution_count": 3,
      "outputs": [
        {
          "output_type": "execute_result",
          "data": {
            "text/plain": [
              "0          Tolland\n",
              "1        New Haven\n",
              "2          Windham\n",
              "3         Hartford\n",
              "4        New Haven\n",
              "           ...    \n",
              "5100    Litchfield\n",
              "5101       Windham\n",
              "5102       Windham\n",
              "5103       Windham\n",
              "5104       Windham\n",
              "Name: County, Length: 5105, dtype: object"
            ],
            "text/html": [
              "<div>\n",
              "<style scoped>\n",
              "    .dataframe tbody tr th:only-of-type {\n",
              "        vertical-align: middle;\n",
              "    }\n",
              "\n",
              "    .dataframe tbody tr th {\n",
              "        vertical-align: top;\n",
              "    }\n",
              "\n",
              "    .dataframe thead th {\n",
              "        text-align: right;\n",
              "    }\n",
              "</style>\n",
              "<table border=\"1\" class=\"dataframe\">\n",
              "  <thead>\n",
              "    <tr style=\"text-align: right;\">\n",
              "      <th></th>\n",
              "      <th>County</th>\n",
              "    </tr>\n",
              "  </thead>\n",
              "  <tbody>\n",
              "    <tr>\n",
              "      <th>0</th>\n",
              "      <td>Tolland</td>\n",
              "    </tr>\n",
              "    <tr>\n",
              "      <th>1</th>\n",
              "      <td>New Haven</td>\n",
              "    </tr>\n",
              "    <tr>\n",
              "      <th>2</th>\n",
              "      <td>Windham</td>\n",
              "    </tr>\n",
              "    <tr>\n",
              "      <th>3</th>\n",
              "      <td>Hartford</td>\n",
              "    </tr>\n",
              "    <tr>\n",
              "      <th>4</th>\n",
              "      <td>New Haven</td>\n",
              "    </tr>\n",
              "    <tr>\n",
              "      <th>...</th>\n",
              "      <td>...</td>\n",
              "    </tr>\n",
              "    <tr>\n",
              "      <th>5100</th>\n",
              "      <td>Litchfield</td>\n",
              "    </tr>\n",
              "    <tr>\n",
              "      <th>5101</th>\n",
              "      <td>Windham</td>\n",
              "    </tr>\n",
              "    <tr>\n",
              "      <th>5102</th>\n",
              "      <td>Windham</td>\n",
              "    </tr>\n",
              "    <tr>\n",
              "      <th>5103</th>\n",
              "      <td>Windham</td>\n",
              "    </tr>\n",
              "    <tr>\n",
              "      <th>5104</th>\n",
              "      <td>Windham</td>\n",
              "    </tr>\n",
              "  </tbody>\n",
              "</table>\n",
              "<p>5105 rows × 1 columns</p>\n",
              "</div><br><label><b>dtype:</b> object</label>"
            ]
          },
          "metadata": {},
          "execution_count": 3
        }
      ]
    },
    {
      "cell_type": "code",
      "source": [
        "df.drop(columns=[\"Registrations Per Capita Served\"], inplace=True)\n",
        "df.drop(columns=['Use of Public Internet Computers'], inplace=True)"
      ],
      "metadata": {
        "id": "26XAXT5ibJJ5"
      },
      "execution_count": 16,
      "outputs": []
    },
    {
      "cell_type": "code",
      "source": [
        "df.info(20)"
      ],
      "metadata": {
        "colab": {
          "base_uri": "https://localhost:8080/"
        },
        "id": "Xi9uPfPEWQPa",
        "outputId": "c726c60f-c561-4e88-d47c-4fec73a56822"
      },
      "execution_count": 5,
      "outputs": [
        {
          "output_type": "stream",
          "name": "stdout",
          "text": [
            "<class 'pandas.core.frame.DataFrame'>\n",
            "RangeIndex: 5105 entries, 0 to 5104\n",
            "Data columns (total 27 columns):\n",
            " #   Column                                              Non-Null Count  Dtype  \n",
            "---  ------                                              --------------  -----  \n",
            " 0   Fiscal Year                                         5105 non-null   int64  \n",
            " 1   Library                                             5105 non-null   object \n",
            " 2   County                                              5105 non-null   object \n",
            " 3   Principal Public?                                   5105 non-null   object \n",
            " 4   AENGLC Rank                                         4988 non-null   float64\n",
            " 5   Population of Service Area                          4642 non-null   float64\n",
            " 6   Total Library Visits                                4886 non-null   float64\n",
            " 7   Library Visits Per Capita Served                    4870 non-null   float64\n",
            " 8   Total Registered Borrowers                          5000 non-null   float64\n",
            " 9   Percent of Residents with Library Cards             4986 non-null   float64\n",
            " 10  Reference Questions                                 4709 non-null   float64\n",
            " 11  Reference Questions Per Capita Served               4680 non-null   float64\n",
            " 12  Total Circulation                                   5052 non-null   float64\n",
            " 13  Circulation Per Capita Served                       5035 non-null   float64\n",
            " 14  Total Programs (Synchronous + Prerecorded)          4937 non-null   float64\n",
            " 15  Total Program Attendance & Views                    4914 non-null   float64\n",
            " 16  Total Program Attendance & Views Per Capita Served  4892 non-null   float64\n",
            " 17  Total Collection                                    5028 non-null   float64\n",
            " 18  Collection Per Capita Served                        4977 non-null   float64\n",
            " 19  Total Operating Income                              5042 non-null   object \n",
            " 20  Operating Income Per Capita                         4998 non-null   object \n",
            " 21  Town Tax Appropriation for Library                  5032 non-null   object \n",
            " 22  Tax Appropriation Per Capita Served                 4987 non-null   object \n",
            " 23  Library Materials Expenditures                      5022 non-null   object \n",
            " 24  Wages & Salaries Expenditures                       4951 non-null   object \n",
            " 25  Operating Expenditures                              5038 non-null   object \n",
            " 26  Operating Expenditures Per Capita                   5007 non-null   object \n",
            "dtypes: float64(15), int64(1), object(11)\n",
            "memory usage: 1.1+ MB\n"
          ]
        }
      ]
    },
    {
      "cell_type": "code",
      "source": [
        "df['County'].value_counts()"
      ],
      "metadata": {
        "colab": {
          "base_uri": "https://localhost:8080/",
          "height": 366
        },
        "id": "-s90oCb-dqav",
        "outputId": "f395a91b-b3ea-4080-ec27-7c9978a7c10d"
      },
      "execution_count": null,
      "outputs": [
        {
          "output_type": "execute_result",
          "data": {
            "text/plain": [
              "County\n",
              "Hartford      887\n",
              "New Haven     811\n",
              "Fairfield     737\n",
              "Litchfield    719\n",
              "New London    578\n",
              "Windham       544\n",
              "Middlesex     465\n",
              "Tolland       364\n",
              "Name: count, dtype: int64"
            ],
            "text/html": [
              "<div>\n",
              "<style scoped>\n",
              "    .dataframe tbody tr th:only-of-type {\n",
              "        vertical-align: middle;\n",
              "    }\n",
              "\n",
              "    .dataframe tbody tr th {\n",
              "        vertical-align: top;\n",
              "    }\n",
              "\n",
              "    .dataframe thead th {\n",
              "        text-align: right;\n",
              "    }\n",
              "</style>\n",
              "<table border=\"1\" class=\"dataframe\">\n",
              "  <thead>\n",
              "    <tr style=\"text-align: right;\">\n",
              "      <th></th>\n",
              "      <th>count</th>\n",
              "    </tr>\n",
              "    <tr>\n",
              "      <th>County</th>\n",
              "      <th></th>\n",
              "    </tr>\n",
              "  </thead>\n",
              "  <tbody>\n",
              "    <tr>\n",
              "      <th>Hartford</th>\n",
              "      <td>887</td>\n",
              "    </tr>\n",
              "    <tr>\n",
              "      <th>New Haven</th>\n",
              "      <td>811</td>\n",
              "    </tr>\n",
              "    <tr>\n",
              "      <th>Fairfield</th>\n",
              "      <td>737</td>\n",
              "    </tr>\n",
              "    <tr>\n",
              "      <th>Litchfield</th>\n",
              "      <td>719</td>\n",
              "    </tr>\n",
              "    <tr>\n",
              "      <th>New London</th>\n",
              "      <td>578</td>\n",
              "    </tr>\n",
              "    <tr>\n",
              "      <th>Windham</th>\n",
              "      <td>544</td>\n",
              "    </tr>\n",
              "    <tr>\n",
              "      <th>Middlesex</th>\n",
              "      <td>465</td>\n",
              "    </tr>\n",
              "    <tr>\n",
              "      <th>Tolland</th>\n",
              "      <td>364</td>\n",
              "    </tr>\n",
              "  </tbody>\n",
              "</table>\n",
              "</div><br><label><b>dtype:</b> int64</label>"
            ]
          },
          "metadata": {},
          "execution_count": 6
        }
      ]
    },
    {
      "cell_type": "code",
      "source": [
        "df['Fiscal Year'].value_counts()"
      ],
      "metadata": {
        "colab": {
          "base_uri": "https://localhost:8080/",
          "height": 993
        },
        "id": "b-7NnSmHeuGY",
        "outputId": "b739d2d7-8bb3-4f33-8697-a278f5f7c4cb"
      },
      "execution_count": 6,
      "outputs": [
        {
          "output_type": "execute_result",
          "data": {
            "text/plain": [
              "Fiscal Year\n",
              "2000    185\n",
              "2002    184\n",
              "2003    184\n",
              "2001    183\n",
              "2006    183\n",
              "2017    183\n",
              "2018    183\n",
              "2019    183\n",
              "2012    183\n",
              "2013    183\n",
              "2014    183\n",
              "2015    183\n",
              "2020    183\n",
              "2021    183\n",
              "2022    183\n",
              "2023    183\n",
              "2016    183\n",
              "2011    182\n",
              "2004    182\n",
              "2005    182\n",
              "2010    182\n",
              "2009    182\n",
              "1996    181\n",
              "2007    181\n",
              "2008    181\n",
              "1998    179\n",
              "1999    179\n",
              "1997    179\n",
              "Name: count, dtype: int64"
            ],
            "text/html": [
              "<div>\n",
              "<style scoped>\n",
              "    .dataframe tbody tr th:only-of-type {\n",
              "        vertical-align: middle;\n",
              "    }\n",
              "\n",
              "    .dataframe tbody tr th {\n",
              "        vertical-align: top;\n",
              "    }\n",
              "\n",
              "    .dataframe thead th {\n",
              "        text-align: right;\n",
              "    }\n",
              "</style>\n",
              "<table border=\"1\" class=\"dataframe\">\n",
              "  <thead>\n",
              "    <tr style=\"text-align: right;\">\n",
              "      <th></th>\n",
              "      <th>count</th>\n",
              "    </tr>\n",
              "    <tr>\n",
              "      <th>Fiscal Year</th>\n",
              "      <th></th>\n",
              "    </tr>\n",
              "  </thead>\n",
              "  <tbody>\n",
              "    <tr>\n",
              "      <th>2000</th>\n",
              "      <td>185</td>\n",
              "    </tr>\n",
              "    <tr>\n",
              "      <th>2002</th>\n",
              "      <td>184</td>\n",
              "    </tr>\n",
              "    <tr>\n",
              "      <th>2003</th>\n",
              "      <td>184</td>\n",
              "    </tr>\n",
              "    <tr>\n",
              "      <th>2001</th>\n",
              "      <td>183</td>\n",
              "    </tr>\n",
              "    <tr>\n",
              "      <th>2006</th>\n",
              "      <td>183</td>\n",
              "    </tr>\n",
              "    <tr>\n",
              "      <th>2017</th>\n",
              "      <td>183</td>\n",
              "    </tr>\n",
              "    <tr>\n",
              "      <th>2018</th>\n",
              "      <td>183</td>\n",
              "    </tr>\n",
              "    <tr>\n",
              "      <th>2019</th>\n",
              "      <td>183</td>\n",
              "    </tr>\n",
              "    <tr>\n",
              "      <th>2012</th>\n",
              "      <td>183</td>\n",
              "    </tr>\n",
              "    <tr>\n",
              "      <th>2013</th>\n",
              "      <td>183</td>\n",
              "    </tr>\n",
              "    <tr>\n",
              "      <th>2014</th>\n",
              "      <td>183</td>\n",
              "    </tr>\n",
              "    <tr>\n",
              "      <th>2015</th>\n",
              "      <td>183</td>\n",
              "    </tr>\n",
              "    <tr>\n",
              "      <th>2020</th>\n",
              "      <td>183</td>\n",
              "    </tr>\n",
              "    <tr>\n",
              "      <th>2021</th>\n",
              "      <td>183</td>\n",
              "    </tr>\n",
              "    <tr>\n",
              "      <th>2022</th>\n",
              "      <td>183</td>\n",
              "    </tr>\n",
              "    <tr>\n",
              "      <th>2023</th>\n",
              "      <td>183</td>\n",
              "    </tr>\n",
              "    <tr>\n",
              "      <th>2016</th>\n",
              "      <td>183</td>\n",
              "    </tr>\n",
              "    <tr>\n",
              "      <th>2011</th>\n",
              "      <td>182</td>\n",
              "    </tr>\n",
              "    <tr>\n",
              "      <th>2004</th>\n",
              "      <td>182</td>\n",
              "    </tr>\n",
              "    <tr>\n",
              "      <th>2005</th>\n",
              "      <td>182</td>\n",
              "    </tr>\n",
              "    <tr>\n",
              "      <th>2010</th>\n",
              "      <td>182</td>\n",
              "    </tr>\n",
              "    <tr>\n",
              "      <th>2009</th>\n",
              "      <td>182</td>\n",
              "    </tr>\n",
              "    <tr>\n",
              "      <th>1996</th>\n",
              "      <td>181</td>\n",
              "    </tr>\n",
              "    <tr>\n",
              "      <th>2007</th>\n",
              "      <td>181</td>\n",
              "    </tr>\n",
              "    <tr>\n",
              "      <th>2008</th>\n",
              "      <td>181</td>\n",
              "    </tr>\n",
              "    <tr>\n",
              "      <th>1998</th>\n",
              "      <td>179</td>\n",
              "    </tr>\n",
              "    <tr>\n",
              "      <th>1999</th>\n",
              "      <td>179</td>\n",
              "    </tr>\n",
              "    <tr>\n",
              "      <th>1997</th>\n",
              "      <td>179</td>\n",
              "    </tr>\n",
              "  </tbody>\n",
              "</table>\n",
              "</div><br><label><b>dtype:</b> int64</label>"
            ]
          },
          "metadata": {},
          "execution_count": 6
        }
      ]
    },
    {
      "cell_type": "code",
      "source": [
        "df['Library'].value_counts()"
      ],
      "metadata": {
        "colab": {
          "base_uri": "https://localhost:8080/",
          "height": 489
        },
        "id": "m3I4pp_SevqL",
        "outputId": "425588ab-bab1-4176-8fc5-efcb0a09ba4e"
      },
      "execution_count": null,
      "outputs": [
        {
          "output_type": "execute_result",
          "data": {
            "text/plain": [
              "Library\n",
              "Andover                         28\n",
              "Ashford-Babcock                 28\n",
              "Avon                            28\n",
              "Beacon Falls                    28\n",
              "Bethany - Clark                 28\n",
              "                                ..\n",
              "East Windsor - Broad             1\n",
              "Plainfield - Central Village     1\n",
              "Pomfret - Abington               1\n",
              "Litchfield - Gilbert             1\n",
              "Derby-Derby Neck                 1\n",
              "Name: count, Length: 208, dtype: int64"
            ],
            "text/html": [
              "<div>\n",
              "<style scoped>\n",
              "    .dataframe tbody tr th:only-of-type {\n",
              "        vertical-align: middle;\n",
              "    }\n",
              "\n",
              "    .dataframe tbody tr th {\n",
              "        vertical-align: top;\n",
              "    }\n",
              "\n",
              "    .dataframe thead th {\n",
              "        text-align: right;\n",
              "    }\n",
              "</style>\n",
              "<table border=\"1\" class=\"dataframe\">\n",
              "  <thead>\n",
              "    <tr style=\"text-align: right;\">\n",
              "      <th></th>\n",
              "      <th>count</th>\n",
              "    </tr>\n",
              "    <tr>\n",
              "      <th>Library</th>\n",
              "      <th></th>\n",
              "    </tr>\n",
              "  </thead>\n",
              "  <tbody>\n",
              "    <tr>\n",
              "      <th>Andover</th>\n",
              "      <td>28</td>\n",
              "    </tr>\n",
              "    <tr>\n",
              "      <th>Ashford-Babcock</th>\n",
              "      <td>28</td>\n",
              "    </tr>\n",
              "    <tr>\n",
              "      <th>Avon</th>\n",
              "      <td>28</td>\n",
              "    </tr>\n",
              "    <tr>\n",
              "      <th>Beacon Falls</th>\n",
              "      <td>28</td>\n",
              "    </tr>\n",
              "    <tr>\n",
              "      <th>Bethany - Clark</th>\n",
              "      <td>28</td>\n",
              "    </tr>\n",
              "    <tr>\n",
              "      <th>...</th>\n",
              "      <td>...</td>\n",
              "    </tr>\n",
              "    <tr>\n",
              "      <th>East Windsor - Broad</th>\n",
              "      <td>1</td>\n",
              "    </tr>\n",
              "    <tr>\n",
              "      <th>Plainfield - Central Village</th>\n",
              "      <td>1</td>\n",
              "    </tr>\n",
              "    <tr>\n",
              "      <th>Pomfret - Abington</th>\n",
              "      <td>1</td>\n",
              "    </tr>\n",
              "    <tr>\n",
              "      <th>Litchfield - Gilbert</th>\n",
              "      <td>1</td>\n",
              "    </tr>\n",
              "    <tr>\n",
              "      <th>Derby-Derby Neck</th>\n",
              "      <td>1</td>\n",
              "    </tr>\n",
              "  </tbody>\n",
              "</table>\n",
              "<p>208 rows × 1 columns</p>\n",
              "</div><br><label><b>dtype:</b> int64</label>"
            ]
          },
          "metadata": {},
          "execution_count": 8
        }
      ]
    },
    {
      "cell_type": "code",
      "source": [
        "df['Principal Public?'].value_counts()"
      ],
      "metadata": {
        "colab": {
          "base_uri": "https://localhost:8080/",
          "height": 178
        },
        "id": "n8wjXzske-Ey",
        "outputId": "712c8a11-8b78-46ca-cdb2-b8daeb477224"
      },
      "execution_count": null,
      "outputs": [
        {
          "output_type": "execute_result",
          "data": {
            "text/plain": [
              "Principal Public?\n",
              "P    4617\n",
              "N     488\n",
              "Name: count, dtype: int64"
            ],
            "text/html": [
              "<div>\n",
              "<style scoped>\n",
              "    .dataframe tbody tr th:only-of-type {\n",
              "        vertical-align: middle;\n",
              "    }\n",
              "\n",
              "    .dataframe tbody tr th {\n",
              "        vertical-align: top;\n",
              "    }\n",
              "\n",
              "    .dataframe thead th {\n",
              "        text-align: right;\n",
              "    }\n",
              "</style>\n",
              "<table border=\"1\" class=\"dataframe\">\n",
              "  <thead>\n",
              "    <tr style=\"text-align: right;\">\n",
              "      <th></th>\n",
              "      <th>count</th>\n",
              "    </tr>\n",
              "    <tr>\n",
              "      <th>Principal Public?</th>\n",
              "      <th></th>\n",
              "    </tr>\n",
              "  </thead>\n",
              "  <tbody>\n",
              "    <tr>\n",
              "      <th>P</th>\n",
              "      <td>4617</td>\n",
              "    </tr>\n",
              "    <tr>\n",
              "      <th>N</th>\n",
              "      <td>488</td>\n",
              "    </tr>\n",
              "  </tbody>\n",
              "</table>\n",
              "</div><br><label><b>dtype:</b> int64</label>"
            ]
          },
          "metadata": {},
          "execution_count": 9
        }
      ]
    },
    {
      "cell_type": "code",
      "source": [
        "df.info(20)"
      ],
      "metadata": {
        "colab": {
          "base_uri": "https://localhost:8080/"
        },
        "id": "qm7e7rYVfihI",
        "outputId": "877d88d2-115c-4013-85dd-55942fe41d8e"
      },
      "execution_count": null,
      "outputs": [
        {
          "output_type": "stream",
          "name": "stdout",
          "text": [
            "<class 'pandas.core.frame.DataFrame'>\n",
            "RangeIndex: 5105 entries, 0 to 5104\n",
            "Data columns (total 27 columns):\n",
            " #   Column                                              Non-Null Count  Dtype  \n",
            "---  ------                                              --------------  -----  \n",
            " 0   Fiscal Year                                         5105 non-null   int64  \n",
            " 1   Library                                             5105 non-null   object \n",
            " 2   County                                              5105 non-null   object \n",
            " 3   Principal Public?                                   5105 non-null   object \n",
            " 4   AENGLC Rank                                         4988 non-null   float64\n",
            " 5   Population of Service Area                          4642 non-null   float64\n",
            " 6   Total Library Visits                                4886 non-null   float64\n",
            " 7   Library Visits Per Capita Served                    4870 non-null   float64\n",
            " 8   Total Registered Borrowers                          5000 non-null   float64\n",
            " 9   Percent of Residents with Library Cards             4986 non-null   float64\n",
            " 10  Reference Questions                                 4709 non-null   float64\n",
            " 11  Reference Questions Per Capita Served               4680 non-null   float64\n",
            " 12  Total Circulation                                   5052 non-null   float64\n",
            " 13  Circulation Per Capita Served                       5035 non-null   float64\n",
            " 14  Total Programs (Synchronous + Prerecorded)          4937 non-null   float64\n",
            " 15  Total Program Attendance & Views                    4914 non-null   float64\n",
            " 16  Total Program Attendance & Views Per Capita Served  4892 non-null   float64\n",
            " 17  Total Collection                                    5028 non-null   float64\n",
            " 18  Collection Per Capita Served                        4977 non-null   float64\n",
            " 19  Total Operating Income                              5042 non-null   object \n",
            " 20  Operating Income Per Capita                         4998 non-null   object \n",
            " 21  Town Tax Appropriation for Library                  5032 non-null   object \n",
            " 22  Tax Appropriation Per Capita Served                 4987 non-null   object \n",
            " 23  Library Materials Expenditures                      5022 non-null   object \n",
            " 24  Wages & Salaries Expenditures                       4951 non-null   object \n",
            " 25  Operating Expenditures                              5038 non-null   object \n",
            " 26  Operating Expenditures Per Capita                   5007 non-null   object \n",
            "dtypes: float64(15), int64(1), object(11)\n",
            "memory usage: 1.1+ MB\n"
          ]
        }
      ]
    },
    {
      "cell_type": "code",
      "source": [
        "df['AENGLC Rank'].value_counts()"
      ],
      "metadata": {
        "colab": {
          "base_uri": "https://localhost:8080/",
          "height": 489
        },
        "collapsed": true,
        "id": "AhgUmp55frk6",
        "outputId": "2612e620-2cee-4c08-dee0-a692244be6f0"
      },
      "execution_count": 8,
      "outputs": [
        {
          "output_type": "execute_result",
          "data": {
            "text/plain": [
              "AENGLC Rank\n",
              "1.0      50\n",
              "168.0    40\n",
              "167.0    40\n",
              "109.0    38\n",
              "39.0     37\n",
              "         ..\n",
              "89.0     25\n",
              "120.0    25\n",
              "147.0    25\n",
              "75.0     25\n",
              "90.0     24\n",
              "Name: count, Length: 169, dtype: int64"
            ],
            "text/html": [
              "<div>\n",
              "<style scoped>\n",
              "    .dataframe tbody tr th:only-of-type {\n",
              "        vertical-align: middle;\n",
              "    }\n",
              "\n",
              "    .dataframe tbody tr th {\n",
              "        vertical-align: top;\n",
              "    }\n",
              "\n",
              "    .dataframe thead th {\n",
              "        text-align: right;\n",
              "    }\n",
              "</style>\n",
              "<table border=\"1\" class=\"dataframe\">\n",
              "  <thead>\n",
              "    <tr style=\"text-align: right;\">\n",
              "      <th></th>\n",
              "      <th>count</th>\n",
              "    </tr>\n",
              "    <tr>\n",
              "      <th>AENGLC Rank</th>\n",
              "      <th></th>\n",
              "    </tr>\n",
              "  </thead>\n",
              "  <tbody>\n",
              "    <tr>\n",
              "      <th>1.0</th>\n",
              "      <td>50</td>\n",
              "    </tr>\n",
              "    <tr>\n",
              "      <th>168.0</th>\n",
              "      <td>40</td>\n",
              "    </tr>\n",
              "    <tr>\n",
              "      <th>167.0</th>\n",
              "      <td>40</td>\n",
              "    </tr>\n",
              "    <tr>\n",
              "      <th>109.0</th>\n",
              "      <td>38</td>\n",
              "    </tr>\n",
              "    <tr>\n",
              "      <th>39.0</th>\n",
              "      <td>37</td>\n",
              "    </tr>\n",
              "    <tr>\n",
              "      <th>...</th>\n",
              "      <td>...</td>\n",
              "    </tr>\n",
              "    <tr>\n",
              "      <th>89.0</th>\n",
              "      <td>25</td>\n",
              "    </tr>\n",
              "    <tr>\n",
              "      <th>120.0</th>\n",
              "      <td>25</td>\n",
              "    </tr>\n",
              "    <tr>\n",
              "      <th>147.0</th>\n",
              "      <td>25</td>\n",
              "    </tr>\n",
              "    <tr>\n",
              "      <th>75.0</th>\n",
              "      <td>25</td>\n",
              "    </tr>\n",
              "    <tr>\n",
              "      <th>90.0</th>\n",
              "      <td>24</td>\n",
              "    </tr>\n",
              "  </tbody>\n",
              "</table>\n",
              "<p>169 rows × 1 columns</p>\n",
              "</div><br><label><b>dtype:</b> int64</label>"
            ]
          },
          "metadata": {},
          "execution_count": 8
        }
      ]
    },
    {
      "cell_type": "code",
      "source": [
        "df['Total Circulation'].value_counts()"
      ],
      "metadata": {
        "colab": {
          "base_uri": "https://localhost:8080/",
          "height": 489
        },
        "collapsed": true,
        "id": "WxLTonhkgbil",
        "outputId": "865e5647-2475-4b38-8184-db7da8d70fbf"
      },
      "execution_count": null,
      "outputs": [
        {
          "output_type": "execute_result",
          "data": {
            "text/plain": [
              "Total Circulation\n",
              "0.0         11\n",
              "89737.0      3\n",
              "539660.0     3\n",
              "5400.0       3\n",
              "6785.0       3\n",
              "            ..\n",
              "300374.0     1\n",
              "18852.0      1\n",
              "77080.0      1\n",
              "159701.0     1\n",
              "36160.0      1\n",
              "Name: count, Length: 4964, dtype: int64"
            ],
            "text/html": [
              "<div>\n",
              "<style scoped>\n",
              "    .dataframe tbody tr th:only-of-type {\n",
              "        vertical-align: middle;\n",
              "    }\n",
              "\n",
              "    .dataframe tbody tr th {\n",
              "        vertical-align: top;\n",
              "    }\n",
              "\n",
              "    .dataframe thead th {\n",
              "        text-align: right;\n",
              "    }\n",
              "</style>\n",
              "<table border=\"1\" class=\"dataframe\">\n",
              "  <thead>\n",
              "    <tr style=\"text-align: right;\">\n",
              "      <th></th>\n",
              "      <th>count</th>\n",
              "    </tr>\n",
              "    <tr>\n",
              "      <th>Total Circulation</th>\n",
              "      <th></th>\n",
              "    </tr>\n",
              "  </thead>\n",
              "  <tbody>\n",
              "    <tr>\n",
              "      <th>0.0</th>\n",
              "      <td>11</td>\n",
              "    </tr>\n",
              "    <tr>\n",
              "      <th>89737.0</th>\n",
              "      <td>3</td>\n",
              "    </tr>\n",
              "    <tr>\n",
              "      <th>539660.0</th>\n",
              "      <td>3</td>\n",
              "    </tr>\n",
              "    <tr>\n",
              "      <th>5400.0</th>\n",
              "      <td>3</td>\n",
              "    </tr>\n",
              "    <tr>\n",
              "      <th>6785.0</th>\n",
              "      <td>3</td>\n",
              "    </tr>\n",
              "    <tr>\n",
              "      <th>...</th>\n",
              "      <td>...</td>\n",
              "    </tr>\n",
              "    <tr>\n",
              "      <th>300374.0</th>\n",
              "      <td>1</td>\n",
              "    </tr>\n",
              "    <tr>\n",
              "      <th>18852.0</th>\n",
              "      <td>1</td>\n",
              "    </tr>\n",
              "    <tr>\n",
              "      <th>77080.0</th>\n",
              "      <td>1</td>\n",
              "    </tr>\n",
              "    <tr>\n",
              "      <th>159701.0</th>\n",
              "      <td>1</td>\n",
              "    </tr>\n",
              "    <tr>\n",
              "      <th>36160.0</th>\n",
              "      <td>1</td>\n",
              "    </tr>\n",
              "  </tbody>\n",
              "</table>\n",
              "<p>4964 rows × 1 columns</p>\n",
              "</div><br><label><b>dtype:</b> int64</label>"
            ]
          },
          "metadata": {},
          "execution_count": 12
        }
      ]
    },
    {
      "cell_type": "code",
      "source": [
        "money_columns = [\n",
        "    \"Total Operating Income\", \"Operating Income Per Capita\",\n",
        "    \"Town Tax Appropriation for Library\", \"Tax Appropriation Per Capita Served\",\n",
        "    \"Library Materials Expenditures\", \"Wages & Salaries Expenditures\",\n",
        "    \"Operating Expenditures\", \"Operating Expenditures Per Capita\"\n",
        "]\n",
        "\n",
        "for col in money_columns:\n",
        "    df[col] = df[col].replace('[\\$,]', '', regex=True).astype(float)\n",
        "\n"
      ],
      "metadata": {
        "id": "27pXWSLcFQFC"
      },
      "execution_count": 17,
      "outputs": []
    },
    {
      "cell_type": "code",
      "source": [
        "df.isnull().sum().sort_values(ascending=False)\n"
      ],
      "metadata": {
        "colab": {
          "base_uri": "https://localhost:8080/",
          "height": 930
        },
        "id": "hwDeO82CFP-c",
        "outputId": "20a6b476-43d6-4516-e4c9-bc049ff2d4bc"
      },
      "execution_count": 18,
      "outputs": [
        {
          "output_type": "execute_result",
          "data": {
            "text/plain": [
              "Population of Service Area                            463\n",
              "Reference Questions Per Capita Served                 425\n",
              "Reference Questions                                   396\n",
              "Library Visits Per Capita Served                      235\n",
              "Total Library Visits                                  219\n",
              "Total Program Attendance & Views Per Capita Served    213\n",
              "Total Program Attendance & Views                      191\n",
              "Total Programs (Synchronous + Prerecorded)            168\n",
              "Wages & Salaries Expenditures                         154\n",
              "Collection Per Capita Served                          128\n",
              "Percent of Residents with Library Cards               119\n",
              "Tax Appropriation Per Capita Served                   118\n",
              "AENGLC Rank                                           117\n",
              "Operating Income Per Capita                           107\n",
              "Total Registered Borrowers                            105\n",
              "Operating Expenditures Per Capita                      98\n",
              "Library Materials Expenditures                         83\n",
              "Total Collection                                       77\n",
              "Town Tax Appropriation for Library                     73\n",
              "Circulation Per Capita Served                          70\n",
              "Operating Expenditures                                 67\n",
              "Total Operating Income                                 63\n",
              "Total Circulation                                      53\n",
              "Principal Public?                                       0\n",
              "Fiscal Year                                             0\n",
              "Library                                                 0\n",
              "County                                                  0\n",
              "dtype: int64"
            ],
            "text/html": [
              "<div>\n",
              "<style scoped>\n",
              "    .dataframe tbody tr th:only-of-type {\n",
              "        vertical-align: middle;\n",
              "    }\n",
              "\n",
              "    .dataframe tbody tr th {\n",
              "        vertical-align: top;\n",
              "    }\n",
              "\n",
              "    .dataframe thead th {\n",
              "        text-align: right;\n",
              "    }\n",
              "</style>\n",
              "<table border=\"1\" class=\"dataframe\">\n",
              "  <thead>\n",
              "    <tr style=\"text-align: right;\">\n",
              "      <th></th>\n",
              "      <th>0</th>\n",
              "    </tr>\n",
              "  </thead>\n",
              "  <tbody>\n",
              "    <tr>\n",
              "      <th>Population of Service Area</th>\n",
              "      <td>463</td>\n",
              "    </tr>\n",
              "    <tr>\n",
              "      <th>Reference Questions Per Capita Served</th>\n",
              "      <td>425</td>\n",
              "    </tr>\n",
              "    <tr>\n",
              "      <th>Reference Questions</th>\n",
              "      <td>396</td>\n",
              "    </tr>\n",
              "    <tr>\n",
              "      <th>Library Visits Per Capita Served</th>\n",
              "      <td>235</td>\n",
              "    </tr>\n",
              "    <tr>\n",
              "      <th>Total Library Visits</th>\n",
              "      <td>219</td>\n",
              "    </tr>\n",
              "    <tr>\n",
              "      <th>Total Program Attendance &amp; Views Per Capita Served</th>\n",
              "      <td>213</td>\n",
              "    </tr>\n",
              "    <tr>\n",
              "      <th>Total Program Attendance &amp; Views</th>\n",
              "      <td>191</td>\n",
              "    </tr>\n",
              "    <tr>\n",
              "      <th>Total Programs (Synchronous + Prerecorded)</th>\n",
              "      <td>168</td>\n",
              "    </tr>\n",
              "    <tr>\n",
              "      <th>Wages &amp; Salaries Expenditures</th>\n",
              "      <td>154</td>\n",
              "    </tr>\n",
              "    <tr>\n",
              "      <th>Collection Per Capita Served</th>\n",
              "      <td>128</td>\n",
              "    </tr>\n",
              "    <tr>\n",
              "      <th>Percent of Residents with Library Cards</th>\n",
              "      <td>119</td>\n",
              "    </tr>\n",
              "    <tr>\n",
              "      <th>Tax Appropriation Per Capita Served</th>\n",
              "      <td>118</td>\n",
              "    </tr>\n",
              "    <tr>\n",
              "      <th>AENGLC Rank</th>\n",
              "      <td>117</td>\n",
              "    </tr>\n",
              "    <tr>\n",
              "      <th>Operating Income Per Capita</th>\n",
              "      <td>107</td>\n",
              "    </tr>\n",
              "    <tr>\n",
              "      <th>Total Registered Borrowers</th>\n",
              "      <td>105</td>\n",
              "    </tr>\n",
              "    <tr>\n",
              "      <th>Operating Expenditures Per Capita</th>\n",
              "      <td>98</td>\n",
              "    </tr>\n",
              "    <tr>\n",
              "      <th>Library Materials Expenditures</th>\n",
              "      <td>83</td>\n",
              "    </tr>\n",
              "    <tr>\n",
              "      <th>Total Collection</th>\n",
              "      <td>77</td>\n",
              "    </tr>\n",
              "    <tr>\n",
              "      <th>Town Tax Appropriation for Library</th>\n",
              "      <td>73</td>\n",
              "    </tr>\n",
              "    <tr>\n",
              "      <th>Circulation Per Capita Served</th>\n",
              "      <td>70</td>\n",
              "    </tr>\n",
              "    <tr>\n",
              "      <th>Operating Expenditures</th>\n",
              "      <td>67</td>\n",
              "    </tr>\n",
              "    <tr>\n",
              "      <th>Total Operating Income</th>\n",
              "      <td>63</td>\n",
              "    </tr>\n",
              "    <tr>\n",
              "      <th>Total Circulation</th>\n",
              "      <td>53</td>\n",
              "    </tr>\n",
              "    <tr>\n",
              "      <th>Principal Public?</th>\n",
              "      <td>0</td>\n",
              "    </tr>\n",
              "    <tr>\n",
              "      <th>Fiscal Year</th>\n",
              "      <td>0</td>\n",
              "    </tr>\n",
              "    <tr>\n",
              "      <th>Library</th>\n",
              "      <td>0</td>\n",
              "    </tr>\n",
              "    <tr>\n",
              "      <th>County</th>\n",
              "      <td>0</td>\n",
              "    </tr>\n",
              "  </tbody>\n",
              "</table>\n",
              "</div><br><label><b>dtype:</b> int64</label>"
            ]
          },
          "metadata": {},
          "execution_count": 18
        }
      ]
    },
    {
      "cell_type": "code",
      "source": [
        "df.groupby(\"County\")[\"Operating Expenditures\"].mean().sort_values(ascending=False)\n"
      ],
      "metadata": {
        "colab": {
          "base_uri": "https://localhost:8080/",
          "height": 366
        },
        "id": "EzIsJ242FP6R",
        "outputId": "dc57203f-34bb-4103-c6b9-36c21734a1e1"
      },
      "execution_count": 19,
      "outputs": [
        {
          "output_type": "execute_result",
          "data": {
            "text/plain": [
              "County\n",
              "Fairfield     2.233785e+06\n",
              "Hartford      1.374601e+06\n",
              "New Haven     1.025052e+06\n",
              "Middlesex     5.243811e+05\n",
              "New London    4.727966e+05\n",
              "Tolland       3.694323e+05\n",
              "Litchfield    3.032179e+05\n",
              "Windham       1.475232e+05\n",
              "Name: Operating Expenditures, dtype: float64"
            ],
            "text/html": [
              "<div>\n",
              "<style scoped>\n",
              "    .dataframe tbody tr th:only-of-type {\n",
              "        vertical-align: middle;\n",
              "    }\n",
              "\n",
              "    .dataframe tbody tr th {\n",
              "        vertical-align: top;\n",
              "    }\n",
              "\n",
              "    .dataframe thead th {\n",
              "        text-align: right;\n",
              "    }\n",
              "</style>\n",
              "<table border=\"1\" class=\"dataframe\">\n",
              "  <thead>\n",
              "    <tr style=\"text-align: right;\">\n",
              "      <th></th>\n",
              "      <th>Operating Expenditures</th>\n",
              "    </tr>\n",
              "    <tr>\n",
              "      <th>County</th>\n",
              "      <th></th>\n",
              "    </tr>\n",
              "  </thead>\n",
              "  <tbody>\n",
              "    <tr>\n",
              "      <th>Fairfield</th>\n",
              "      <td>2.233785e+06</td>\n",
              "    </tr>\n",
              "    <tr>\n",
              "      <th>Hartford</th>\n",
              "      <td>1.374601e+06</td>\n",
              "    </tr>\n",
              "    <tr>\n",
              "      <th>New Haven</th>\n",
              "      <td>1.025052e+06</td>\n",
              "    </tr>\n",
              "    <tr>\n",
              "      <th>Middlesex</th>\n",
              "      <td>5.243811e+05</td>\n",
              "    </tr>\n",
              "    <tr>\n",
              "      <th>New London</th>\n",
              "      <td>4.727966e+05</td>\n",
              "    </tr>\n",
              "    <tr>\n",
              "      <th>Tolland</th>\n",
              "      <td>3.694323e+05</td>\n",
              "    </tr>\n",
              "    <tr>\n",
              "      <th>Litchfield</th>\n",
              "      <td>3.032179e+05</td>\n",
              "    </tr>\n",
              "    <tr>\n",
              "      <th>Windham</th>\n",
              "      <td>1.475232e+05</td>\n",
              "    </tr>\n",
              "  </tbody>\n",
              "</table>\n",
              "</div><br><label><b>dtype:</b> float64</label>"
            ]
          },
          "metadata": {},
          "execution_count": 19
        }
      ]
    },
    {
      "cell_type": "code",
      "source": [
        "df.groupby(\"Fiscal Year\")[\"Total Library Visits\"].sum().plot(title=\"Total Library Visits Over Time\")\n"
      ],
      "metadata": {
        "colab": {
          "base_uri": "https://localhost:8080/",
          "height": 489
        },
        "id": "iy-XAZAqFPzI",
        "outputId": "7dcb2027-f9ee-482a-a31e-a131ff596ed4"
      },
      "execution_count": 20,
      "outputs": [
        {
          "output_type": "execute_result",
          "data": {
            "text/plain": [
              "<Axes: title={'center': 'Total Library Visits Over Time'}, xlabel='Fiscal Year'>"
            ]
          },
          "metadata": {},
          "execution_count": 20
        },
        {
          "output_type": "display_data",
          "data": {
            "text/plain": [
              "<Figure size 640x480 with 1 Axes>"
            ],
            "image/png": "[encoded data removed]"
          },
          "metadata": {}
        }
      ]
    },
    {
      "cell_type": "code",
      "source": [
        "# Load the dataset\n",
        "df = pd.read_csv(\"Public_Libraries - updated.csv\")\n",
        "\n",
        "# Convert the 'Operating Expenditures' column from string to float\n",
        "df[\"Operating Expenditures\"] = df[\"Operating Expenditures\"].replace('[\\$,]', '', regex=True).astype(float)\n",
        "\n",
        "# Group by 'Fiscal Year' and calculate the average\n",
        "avg_operating_cost_per_year = df.groupby(\"Fiscal Year\")[\"Operating Expenditures\"].mean().round(2)\n",
        "\n",
        "# Display the first few results\n",
        "print(avg_operating_cost_per_year.head())\n"
      ],
      "metadata": {
        "colab": {
          "base_uri": "https://localhost:8080/"
        },
        "id": "buL8z151FPn7",
        "outputId": "fb50925b-e15a-41d1-b5e2-c8502abb5366"
      },
      "execution_count": 21,
      "outputs": [
        {
          "output_type": "stream",
          "name": "stdout",
          "text": [
            "Fiscal Year\n",
            "1996    472684.27\n",
            "1997    506812.95\n",
            "1998    532974.88\n",
            "1999    566167.87\n",
            "2000    666045.37\n",
            "Name: Operating Expenditures, dtype: float64\n"
          ]
        }
      ]
    },
    {
      "cell_type": "code",
      "source": [
        "# Load the dataset\n",
        "df = pd.read_csv(\"Public_Libraries - updated.csv\")\n",
        "\n",
        "# Clean the 'Operating Expenditures' column by removing dollar signs and commas, then convert to float\n",
        "df[\"Operating Expenditures\"] = df[\"Operating Expenditures\"].replace('[\\$,]', '', regex=True).astype(float)\n",
        "\n",
        "# Group by 'Fiscal Year' and calculate the average operating expenditures\n",
        "avg_operating_cost_per_year = df.groupby(\"Fiscal Year\")[\"Operating Expenditures\"].mean().round(2)\n",
        "\n",
        "# Convert the result to a DataFrame\n",
        "avg_operating_cost_per_year_df = avg_operating_cost_per_year.reset_index()\n",
        "\n",
        "# Display the result\n",
        "print(avg_operating_cost_per_year_df)\n"
      ],
      "metadata": {
        "colab": {
          "base_uri": "https://localhost:8080/"
        },
        "id": "GhjnYfUESrP1",
        "outputId": "5ca586c0-23fb-4613-ae6a-0aa6f4239a72"
      },
      "execution_count": 22,
      "outputs": [
        {
          "output_type": "stream",
          "name": "stdout",
          "text": [
            "    Fiscal Year  Operating Expenditures\n",
            "0          1996               472684.27\n",
            "1          1997               506812.95\n",
            "2          1998               532974.88\n",
            "3          1999               566167.87\n",
            "4          2000               666045.37\n",
            "5          2001               627406.56\n",
            "6          2002               660394.98\n",
            "7          2003               791209.05\n",
            "8          2004               774299.46\n",
            "9          2005               793028.36\n",
            "10         2006               908726.79\n",
            "11         2007               891693.80\n",
            "12         2008               959298.67\n",
            "13         2009              1007707.69\n",
            "14         2010               987776.51\n",
            "15         2011              1010986.47\n",
            "16         2012              1003524.82\n",
            "17         2013              1028467.29\n",
            "18         2014              1067908.50\n",
            "19         2015              1083701.78\n",
            "20         2016              1106339.03\n",
            "21         2017              1113120.38\n",
            "22         2018              1112754.90\n",
            "23         2019              1134609.92\n",
            "24         2020              1123545.80\n",
            "25         2021              1121589.43\n",
            "26         2022              1157398.61\n",
            "27         2023              1244632.76\n"
          ]
        }
      ]
    },
    {
      "cell_type": "code",
      "source": [
        "# Calculate the overall average operating expenditure across all years\n",
        "overall_avg_operating_cost = df[\"Operating Expenditures\"].mean().round(2)\n",
        "print(\"Overall Average Operating Cost:\", overall_avg_operating_cost)\n"
      ],
      "metadata": {
        "colab": {
          "base_uri": "https://localhost:8080/"
        },
        "id": "JYErP7DUS3PB",
        "outputId": "5960e668-f9d1-4e68-e707-b9b34308078e"
      },
      "execution_count": 23,
      "outputs": [
        {
          "output_type": "stream",
          "name": "stdout",
          "text": [
            "Overall Average Operating Cost: 909472.54\n"
          ]
        }
      ]
    },
    {
      "cell_type": "code",
      "source": [
        "# Filter data for the last 10 years (assuming the most recent year is 2023)\n",
        "recent_years_df = df[df[\"Fiscal Year\"] >= 2014]\n",
        "\n",
        "# Calculate the total operating cost over the last 10 years\n",
        "total_operating_cost_last_10_years = recent_years_df[\"Operating Expenditures\"].sum().round(2)\n",
        "total_operating_cost_last_10_years\n"
      ],
      "metadata": {
        "colab": {
          "base_uri": "https://localhost:8080/"
        },
        "id": "cPdbFP3-S73j",
        "outputId": "d106099c-d333-47dc-bb7b-e0a538133bea"
      },
      "execution_count": 25,
      "outputs": [
        {
          "output_type": "execute_result",
          "data": {
            "text/plain": [
              "np.float64(2021999373.16)"
            ]
          },
          "metadata": {},
          "execution_count": 25
        }
      ]
    },
    {
      "cell_type": "code",
      "source": [
        "# Clean the 'Operating Expenditures' column\n",
        "df[\"Operating Expenditures\"] = df[\"Operating Expenditures\"].replace('[\\$,]', '', regex=True).astype(float)\n",
        "\n",
        "# Filter to the last 10 years (2014–2023)\n",
        "recent_years_df = df[df[\"Fiscal Year\"] >= 2014]\n",
        "\n",
        "# Group by County and calculate total Operating Expenditures\n",
        "operating_cost_by_county_last_10_years = (\n",
        "    recent_years_df.groupby(\"County\")[\"Operating Expenditures\"]\n",
        "    .sum()\n",
        "    .round(2)\n",
        "    .reset_index()\n",
        "    .sort_values(by=\"Operating Expenditures\", ascending=False)\n",
        ")\n",
        "\n",
        "# Display the result\n",
        "print(operating_cost_by_county_last_10_years)\n"
      ],
      "metadata": {
        "colab": {
          "base_uri": "https://localhost:8080/"
        },
        "id": "cE5n7b6BS7qU",
        "outputId": "bd93689f-10fb-488e-b970-c8c094c051a4"
      },
      "execution_count": 27,
      "outputs": [
        {
          "output_type": "stream",
          "name": "stdout",
          "text": [
            "       County  Operating Expenditures\n",
            "0   Fairfield            7.233773e+08\n",
            "1    Hartford            5.226821e+08\n",
            "4   New Haven            3.626856e+08\n",
            "5  New London            1.176347e+08\n",
            "3   Middlesex            1.071051e+08\n",
            "2  Litchfield            9.452862e+07\n",
            "6     Tolland            6.141602e+07\n",
            "7     Windham            3.256994e+07\n"
          ]
        }
      ]
    },
    {
      "cell_type": "code",
      "source": [
        "# Clean the 'Operating Expenditures' column\n",
        "df[\"Operating Expenditures\"] = df[\"Operating Expenditures\"].replace('[\\$,]', '', regex=True).astype(float)\n",
        "\n",
        "# Filter to the last 10 years (2014–2023)\n",
        "recent_years_df = df[df[\"Fiscal Year\"] >= 2014]\n",
        "\n",
        "# Group by County and calculate total Operating Expenditures\n",
        "operating_cost_by_county_last_10_years = (\n",
        "    recent_years_df.groupby(\"County\")[\"Operating Expenditures\"]\n",
        "    .sum()\n",
        "    .round(2)\n",
        "    .reset_index()\n",
        "    .sort_values(by=\"Operating Expenditures\", ascending=False)\n",
        ")\n",
        "\n",
        "# Display the result\n",
        "print(operating_cost_by_county_last_10_years)\n"
      ],
      "metadata": {
        "colab": {
          "base_uri": "https://localhost:8080/"
        },
        "id": "LXZGfF8_S7mb",
        "outputId": "224d4936-0af1-4dbf-a8c4-903ccb859e10"
      },
      "execution_count": 29,
      "outputs": [
        {
          "output_type": "stream",
          "name": "stdout",
          "text": [
            "       County  Operating Expenditures\n",
            "0   Fairfield            7.233773e+08\n",
            "1    Hartford            5.226821e+08\n",
            "4   New Haven            3.626856e+08\n",
            "5  New London            1.176347e+08\n",
            "3   Middlesex            1.071051e+08\n",
            "2  Litchfield            9.452862e+07\n",
            "6     Tolland            6.141602e+07\n",
            "7     Windham            3.256994e+07\n"
          ]
        }
      ]
    },
    {
      "cell_type": "code",
      "source": [],
      "metadata": {
        "id": "FxmYHEz-S7lQ"
      },
      "execution_count": null,
      "outputs": []
    },
    {
      "cell_type": "code",
      "source": [],
      "metadata": {
        "id": "khtU2RWbS7hk"
      },
      "execution_count": null,
      "outputs": []
    },
    {
      "cell_type": "code",
      "source": [
        "df.to_csv('LibraryData - Updated.csv', index=False)"
      ],
      "metadata": {
        "id": "ee1vrEhUlOUO"
      },
      "execution_count": null,
      "outputs": []
    }
  ]
}