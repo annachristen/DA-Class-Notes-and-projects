{
  "nbformat": 4,
  "nbformat_minor": 0,
  "metadata": {
    "colab": {
      "provenance": []
    },
    "kernelspec": {
      "name": "python3",
      "display_name": "Python 3"
    },
    "language_info": {
      "name": "python"
    }
  },
  "cells": [
    {
      "cell_type": "markdown",
      "source": [
        "#Exploratory Data Analysis on Wide World Importers\n",
        "---\n",
        "⌨ Anna Christensen\n",
        "\n",
        "#About the data\n",
        "\n",
        "---\n",
        "\n",
        "Wide World Importers is a fake company that sells a variety of different products such as slippers, coffee mugs, and flash drives. The company has extensive records of invoices that have been created during the past several years and would like you, the data analyst, to explore the data to determine if there is anything noteworthy that executives should incorporate into their business strategy. However, because the data has been input over the years using several different programs, there are some holes in the data set that need \"cleaning\". The data will eventually be run through a machine learning model and thus cannot contain any null values.\n",
        "\n",
        "You should perform the following cleaning steps as indicated in the questions below, in this order:\n",
        "\n",
        "*  Fix standardization errors, where applicable\n",
        "*  Fix business logic errors, where applicable\n",
        "*  Impute null values, where possible\n",
        "*  Drop columns with many null values, where applicable\n",
        "*  Drop rows with null values, where applicable\n",
        "*  Drop duplicate rows, where applicable\n",
        "*  Identify outliers and fix them as instructed\n",
        "\n",
        "---\n",
        "\n",
        "The company would like you to answer the following questions, after cleaning has been performed:\n",
        "\n",
        "* 1.Which customer has the most invoices?\n",
        "* 2.Which item has the highest total quantity sold?\n",
        "* 3.Which item has generated the most total profit?\n",
        "* 4.Which item do customers purchase the most quantity of, on average?\n"
      ],
      "metadata": {
        "id": "NqxRLZBtL308"
      }
    },
    {
      "cell_type": "markdown",
      "source": [
        "#Analysis Questions"
      ],
      "metadata": {
        "id": "nuWXNYhV3S89"
      }
    },
    {
      "cell_type": "code",
      "source": [
        "import pandas as pd\n",
        "df = pd.read_csv('/content/invoices_dirty.csv', low_memory=False)\n",
        "df.head()"
      ],
      "metadata": {
        "colab": {
          "base_uri": "https://localhost:8080/",
          "height": 451
        },
        "id": "lEqPExmG4kA_",
        "outputId": "8d0a6a0d-8b5b-44ea-f560-4c6460384f46"
      },
      "execution_count": null,
      "outputs": [
        {
          "output_type": "execute_result",
          "data": {
            "text/plain": [
              "   InvoiceLineID  InvoiceID  StockItemID  \\\n",
              "0              1          1         67.0   \n",
              "1              2          2         50.0   \n",
              "2              3          2         10.0   \n",
              "3              4          3        114.0   \n",
              "4              5          4        206.0   \n",
              "\n",
              "                                         Description  PackageTypeID  Quantity  \\\n",
              "0           Ride on toy sedan car (Black) 1/12 scale              7        10   \n",
              "1  Developer joke mug - old C developers never di...              7         9   \n",
              "2               USB food flash drive - chocolate bar              7         9   \n",
              "3                 Superhero action jacket (Blue) XXL              7         3   \n",
              "4         Permanent marker black 5mm nib (Black) 5mm              7        96   \n",
              "\n",
              "   UnitPrice  TaxRate  TaxAmount  LineProfit  ExtendedPrice  LastEditedBy  \\\n",
              "0      230.0       15      345.0       850.0         2645.0             7   \n",
              "1       13.0       15        NaN        76.5         -999.0             7   \n",
              "2       32.0       15       43.2       180.0          331.2             7   \n",
              "3       30.0       15        NaN        24.0         -999.0             7   \n",
              "4        2.7       15        NaN        96.0            NaN             7   \n",
              "\n",
              "   LastEditedWhen          Customer  \n",
              "0             NaN     Stuff by Stew  \n",
              "1  1/1/2013 12:00   Wholesaler Plus  \n",
              "2             NaN   Wholesaler Plus  \n",
              "3             NaN   Big Buys Retail  \n",
              "4  1/1/2013 12:00  Terry's Trinkets  "
            ],
            "text/html": [
              "\n",
              "  <div id=\"df-b56be069-9927-4e1d-a160-390d5c17df99\" class=\"colab-df-container\">\n",
              "    <div>\n",
              "<style scoped>\n",
              "    .dataframe tbody tr th:only-of-type {\n",
              "        vertical-align: middle;\n",
              "    }\n",
              "\n",
              "    .dataframe tbody tr th {\n",
              "        vertical-align: top;\n",
              "    }\n",
              "\n",
              "    .dataframe thead th {\n",
              "        text-align: right;\n",
              "    }\n",
              "</style>\n",
              "<table border=\"1\" class=\"dataframe\">\n",
              "  <thead>\n",
              "    <tr style=\"text-align: right;\">\n",
              "      <th></th>\n",
              "      <th>InvoiceLineID</th>\n",
              "      <th>InvoiceID</th>\n",
              "      <th>StockItemID</th>\n",
              "      <th>Description</th>\n",
              "      <th>PackageTypeID</th>\n",
              "      <th>Quantity</th>\n",
              "      <th>UnitPrice</th>\n",
              "      <th>TaxRate</th>\n",
              "      <th>TaxAmount</th>\n",
              "      <th>LineProfit</th>\n",
              "      <th>ExtendedPrice</th>\n",
              "      <th>LastEditedBy</th>\n",
              "      <th>LastEditedWhen</th>\n",
              "      <th>Customer</th>\n",
              "    </tr>\n",
              "  </thead>\n",
              "  <tbody>\n",
              "    <tr>\n",
              "      <th>0</th>\n",
              "      <td>1</td>\n",
              "      <td>1</td>\n",
              "      <td>67.0</td>\n",
              "      <td>Ride on toy sedan car (Black) 1/12 scale</td>\n",
              "      <td>7</td>\n",
              "      <td>10</td>\n",
              "      <td>230.0</td>\n",
              "      <td>15</td>\n",
              "      <td>345.0</td>\n",
              "      <td>850.0</td>\n",
              "      <td>2645.0</td>\n",
              "      <td>7</td>\n",
              "      <td>NaN</td>\n",
              "      <td>Stuff by Stew</td>\n",
              "    </tr>\n",
              "    <tr>\n",
              "      <th>1</th>\n",
              "      <td>2</td>\n",
              "      <td>2</td>\n",
              "      <td>50.0</td>\n",
              "      <td>Developer joke mug - old C developers never di...</td>\n",
              "      <td>7</td>\n",
              "      <td>9</td>\n",
              "      <td>13.0</td>\n",
              "      <td>15</td>\n",
              "      <td>NaN</td>\n",
              "      <td>76.5</td>\n",
              "      <td>-999.0</td>\n",
              "      <td>7</td>\n",
              "      <td>1/1/2013 12:00</td>\n",
              "      <td>Wholesaler Plus</td>\n",
              "    </tr>\n",
              "    <tr>\n",
              "      <th>2</th>\n",
              "      <td>3</td>\n",
              "      <td>2</td>\n",
              "      <td>10.0</td>\n",
              "      <td>USB food flash drive - chocolate bar</td>\n",
              "      <td>7</td>\n",
              "      <td>9</td>\n",
              "      <td>32.0</td>\n",
              "      <td>15</td>\n",
              "      <td>43.2</td>\n",
              "      <td>180.0</td>\n",
              "      <td>331.2</td>\n",
              "      <td>7</td>\n",
              "      <td>NaN</td>\n",
              "      <td>Wholesaler Plus</td>\n",
              "    </tr>\n",
              "    <tr>\n",
              "      <th>3</th>\n",
              "      <td>4</td>\n",
              "      <td>3</td>\n",
              "      <td>114.0</td>\n",
              "      <td>Superhero action jacket (Blue) XXL</td>\n",
              "      <td>7</td>\n",
              "      <td>3</td>\n",
              "      <td>30.0</td>\n",
              "      <td>15</td>\n",
              "      <td>NaN</td>\n",
              "      <td>24.0</td>\n",
              "      <td>-999.0</td>\n",
              "      <td>7</td>\n",
              "      <td>NaN</td>\n",
              "      <td>Big Buys Retail</td>\n",
              "    </tr>\n",
              "    <tr>\n",
              "      <th>4</th>\n",
              "      <td>5</td>\n",
              "      <td>4</td>\n",
              "      <td>206.0</td>\n",
              "      <td>Permanent marker black 5mm nib (Black) 5mm</td>\n",
              "      <td>7</td>\n",
              "      <td>96</td>\n",
              "      <td>2.7</td>\n",
              "      <td>15</td>\n",
              "      <td>NaN</td>\n",
              "      <td>96.0</td>\n",
              "      <td>NaN</td>\n",
              "      <td>7</td>\n",
              "      <td>1/1/2013 12:00</td>\n",
              "      <td>Terry's Trinkets</td>\n",
              "    </tr>\n",
              "  </tbody>\n",
              "</table>\n",
              "</div>\n",
              "    <div class=\"colab-df-buttons\">\n",
              "\n",
              "  <div class=\"colab-df-container\">\n",
              "    <button class=\"colab-df-convert\" onclick=\"convertToInteractive('df-b56be069-9927-4e1d-a160-390d5c17df99')\"\n",
              "            title=\"Convert this dataframe to an interactive table.\"\n",
              "            style=\"display:none;\">\n",
              "\n",
              "  <svg xmlns=\"http://www.w3.org/2000/svg\" height=\"24px\" viewBox=\"0 -960 960 960\">\n",
              "    <path d=\"M120-120v-720h720v720H120Zm60-500h600v-160H180v160Zm220 220h160v-160H400v160Zm0 220h160v-160H400v160ZM180-400h160v-160H180v160Zm440 0h160v-160H620v160ZM180-180h160v-160H180v160Zm440 0h160v-160H620v160Z\"/>\n",
              "  </svg>\n",
              "    </button>\n",
              "\n",
              "  <style>\n",
              "    .colab-df-container {\n",
              "      display:flex;\n",
              "      gap: 12px;\n",
              "    }\n",
              "\n",
              "    .colab-df-convert {\n",
              "      background-color: #E8F0FE;\n",
              "      border: none;\n",
              "      border-radius: 50%;\n",
              "      cursor: pointer;\n",
              "      display: none;\n",
              "      fill: #1967D2;\n",
              "      height: 32px;\n",
              "      padding: 0 0 0 0;\n",
              "      width: 32px;\n",
              "    }\n",
              "\n",
              "    .colab-df-convert:hover {\n",
              "      background-color: #E2EBFA;\n",
              "      box-shadow: 0px 1px 2px rgba(60, 64, 67, 0.3), 0px 1px 3px 1px rgba(60, 64, 67, 0.15);\n",
              "      fill: #174EA6;\n",
              "    }\n",
              "\n",
              "    .colab-df-buttons div {\n",
              "      margin-bottom: 4px;\n",
              "    }\n",
              "\n",
              "    [theme=dark] .colab-df-convert {\n",
              "      background-color: #3B4455;\n",
              "      fill: #D2E3FC;\n",
              "    }\n",
              "\n",
              "    [theme=dark] .colab-df-convert:hover {\n",
              "      background-color: #434B5C;\n",
              "      box-shadow: 0px 1px 3px 1px rgba(0, 0, 0, 0.15);\n",
              "      filter: drop-shadow(0px 1px 2px rgba(0, 0, 0, 0.3));\n",
              "      fill: #FFFFFF;\n",
              "    }\n",
              "  </style>\n",
              "\n",
              "    <script>\n",
              "      const buttonEl =\n",
              "        document.querySelector('#df-b56be069-9927-4e1d-a160-390d5c17df99 button.colab-df-convert');\n",
              "      buttonEl.style.display =\n",
              "        google.colab.kernel.accessAllowed ? 'block' : 'none';\n",
              "\n",
              "      async function convertToInteractive(key) {\n",
              "        const element = document.querySelector('#df-b56be069-9927-4e1d-a160-390d5c17df99');\n",
              "        const dataTable =\n",
              "          await google.colab.kernel.invokeFunction('convertToInteractive',\n",
              "                                                    [key], {});\n",
              "        if (!dataTable) return;\n",
              "\n",
              "        const docLinkHtml = 'Like what you see? Visit the ' +\n",
              "          '<a target=\"_blank\" href=https://colab.research.google.com/notebooks/data_table.ipynb>data table notebook</a>'\n",
              "          + ' to learn more about interactive tables.';\n",
              "        element.innerHTML = '';\n",
              "        dataTable['output_type'] = 'display_data';\n",
              "        await google.colab.output.renderOutput(dataTable, element);\n",
              "        const docLink = document.createElement('div');\n",
              "        docLink.innerHTML = docLinkHtml;\n",
              "        element.appendChild(docLink);\n",
              "      }\n",
              "    </script>\n",
              "  </div>\n",
              "\n",
              "\n",
              "<div id=\"df-de25a49f-fecd-4285-8256-6327a5eb3489\">\n",
              "  <button class=\"colab-df-quickchart\" onclick=\"quickchart('df-de25a49f-fecd-4285-8256-6327a5eb3489')\"\n",
              "            title=\"Suggest charts\"\n",
              "            style=\"display:none;\">\n",
              "\n",
              "<svg xmlns=\"http://www.w3.org/2000/svg\" height=\"24px\"viewBox=\"0 0 24 24\"\n",
              "     width=\"24px\">\n",
              "    <g>\n",
              "        <path d=\"M19 3H5c-1.1 0-2 .9-2 2v14c0 1.1.9 2 2 2h14c1.1 0 2-.9 2-2V5c0-1.1-.9-2-2-2zM9 17H7v-7h2v7zm4 0h-2V7h2v10zm4 0h-2v-4h2v4z\"/>\n",
              "    </g>\n",
              "</svg>\n",
              "  </button>\n",
              "\n",
              "<style>\n",
              "  .colab-df-quickchart {\n",
              "      --bg-color: #E8F0FE;\n",
              "      --fill-color: #1967D2;\n",
              "      --hover-bg-color: #E2EBFA;\n",
              "      --hover-fill-color: #174EA6;\n",
              "      --disabled-fill-color: #AAA;\n",
              "      --disabled-bg-color: #DDD;\n",
              "  }\n",
              "\n",
              "  [theme=dark] .colab-df-quickchart {\n",
              "      --bg-color: #3B4455;\n",
              "      --fill-color: #D2E3FC;\n",
              "      --hover-bg-color: #434B5C;\n",
              "      --hover-fill-color: #FFFFFF;\n",
              "      --disabled-bg-color: #3B4455;\n",
              "      --disabled-fill-color: #666;\n",
              "  }\n",
              "\n",
              "  .colab-df-quickchart {\n",
              "    background-color: var(--bg-color);\n",
              "    border: none;\n",
              "    border-radius: 50%;\n",
              "    cursor: pointer;\n",
              "    display: none;\n",
              "    fill: var(--fill-color);\n",
              "    height: 32px;\n",
              "    padding: 0;\n",
              "    width: 32px;\n",
              "  }\n",
              "\n",
              "  .colab-df-quickchart:hover {\n",
              "    background-color: var(--hover-bg-color);\n",
              "    box-shadow: 0 1px 2px rgba(60, 64, 67, 0.3), 0 1px 3px 1px rgba(60, 64, 67, 0.15);\n",
              "    fill: var(--button-hover-fill-color);\n",
              "  }\n",
              "\n",
              "  .colab-df-quickchart-complete:disabled,\n",
              "  .colab-df-quickchart-complete:disabled:hover {\n",
              "    background-color: var(--disabled-bg-color);\n",
              "    fill: var(--disabled-fill-color);\n",
              "    box-shadow: none;\n",
              "  }\n",
              "\n",
              "  .colab-df-spinner {\n",
              "    border: 2px solid var(--fill-color);\n",
              "    border-color: transparent;\n",
              "    border-bottom-color: var(--fill-color);\n",
              "    animation:\n",
              "      spin 1s steps(1) infinite;\n",
              "  }\n",
              "\n",
              "  @keyframes spin {\n",
              "    0% {\n",
              "      border-color: transparent;\n",
              "      border-bottom-color: var(--fill-color);\n",
              "      border-left-color: var(--fill-color);\n",
              "    }\n",
              "    20% {\n",
              "      border-color: transparent;\n",
              "      border-left-color: var(--fill-color);\n",
              "      border-top-color: var(--fill-color);\n",
              "    }\n",
              "    30% {\n",
              "      border-color: transparent;\n",
              "      border-left-color: var(--fill-color);\n",
              "      border-top-color: var(--fill-color);\n",
              "      border-right-color: var(--fill-color);\n",
              "    }\n",
              "    40% {\n",
              "      border-color: transparent;\n",
              "      border-right-color: var(--fill-color);\n",
              "      border-top-color: var(--fill-color);\n",
              "    }\n",
              "    60% {\n",
              "      border-color: transparent;\n",
              "      border-right-color: var(--fill-color);\n",
              "    }\n",
              "    80% {\n",
              "      border-color: transparent;\n",
              "      border-right-color: var(--fill-color);\n",
              "      border-bottom-color: var(--fill-color);\n",
              "    }\n",
              "    90% {\n",
              "      border-color: transparent;\n",
              "      border-bottom-color: var(--fill-color);\n",
              "    }\n",
              "  }\n",
              "</style>\n",
              "\n",
              "  <script>\n",
              "    async function quickchart(key) {\n",
              "      const quickchartButtonEl =\n",
              "        document.querySelector('#' + key + ' button');\n",
              "      quickchartButtonEl.disabled = true;  // To prevent multiple clicks.\n",
              "      quickchartButtonEl.classList.add('colab-df-spinner');\n",
              "      try {\n",
              "        const charts = await google.colab.kernel.invokeFunction(\n",
              "            'suggestCharts', [key], {});\n",
              "      } catch (error) {\n",
              "        console.error('Error during call to suggestCharts:', error);\n",
              "      }\n",
              "      quickchartButtonEl.classList.remove('colab-df-spinner');\n",
              "      quickchartButtonEl.classList.add('colab-df-quickchart-complete');\n",
              "    }\n",
              "    (() => {\n",
              "      let quickchartButtonEl =\n",
              "        document.querySelector('#df-de25a49f-fecd-4285-8256-6327a5eb3489 button');\n",
              "      quickchartButtonEl.style.display =\n",
              "        google.colab.kernel.accessAllowed ? 'block' : 'none';\n",
              "    })();\n",
              "  </script>\n",
              "</div>\n",
              "\n",
              "    </div>\n",
              "  </div>\n"
            ],
            "application/vnd.google.colaboratory.intrinsic+json": {
              "type": "dataframe",
              "variable_name": "df"
            }
          },
          "metadata": {},
          "execution_count": 1
        }
      ]
    },
    {
      "cell_type": "markdown",
      "source": [
        "1. How many rows does the data set have?\n"
      ],
      "metadata": {
        "id": "hOgblqJbL8N-"
      }
    },
    {
      "cell_type": "code",
      "source": [
        "df.shape"
      ],
      "metadata": {
        "colab": {
          "base_uri": "https://localhost:8080/"
        },
        "id": "ogSrd6Qn5LUQ",
        "outputId": "1fa2fe09-5bd9-4e01-aa21-7ba5c1eb754f"
      },
      "execution_count": null,
      "outputs": [
        {
          "output_type": "execute_result",
          "data": {
            "text/plain": [
              "(230548, 14)"
            ]
          },
          "metadata": {},
          "execution_count": 2
        }
      ]
    },
    {
      "cell_type": "markdown",
      "source": [
        "2. Which of the following columns contain null values?\n"
      ],
      "metadata": {
        "id": "TC2ksOf9MA0z"
      }
    },
    {
      "cell_type": "code",
      "source": [
        "df.info()"
      ],
      "metadata": {
        "colab": {
          "base_uri": "https://localhost:8080/"
        },
        "id": "Se44JXUX5NON",
        "outputId": "b68be202-18f7-4742-c35e-5fb60c558bf9"
      },
      "execution_count": null,
      "outputs": [
        {
          "output_type": "stream",
          "name": "stdout",
          "text": [
            "<class 'pandas.core.frame.DataFrame'>\n",
            "RangeIndex: 230548 entries, 0 to 230547\n",
            "Data columns (total 14 columns):\n",
            " #   Column          Non-Null Count   Dtype  \n",
            "---  ------          --------------   -----  \n",
            " 0   InvoiceLineID   230548 non-null  int64  \n",
            " 1   InvoiceID       230548 non-null  int64  \n",
            " 2   StockItemID     230087 non-null  float64\n",
            " 3   Description     229876 non-null  object \n",
            " 4   PackageTypeID   230548 non-null  int64  \n",
            " 5   Quantity        230548 non-null  int64  \n",
            " 6   UnitPrice       230548 non-null  float64\n",
            " 7   TaxRate         230548 non-null  int64  \n",
            " 8   TaxAmount       109623 non-null  float64\n",
            " 9   LineProfit      230548 non-null  float64\n",
            " 10  ExtendedPrice   113081 non-null  float64\n",
            " 11  LastEditedBy    230548 non-null  int64  \n",
            " 12  LastEditedWhen  6 non-null       object \n",
            " 13  Customer        230548 non-null  object \n",
            "dtypes: float64(5), int64(6), object(3)\n",
            "memory usage: 24.6+ MB\n"
          ]
        }
      ]
    },
    {
      "cell_type": "markdown",
      "source": [
        "3. Compute the descriptive statistics on the data set. Which columns appear to have logical errors?"
      ],
      "metadata": {
        "id": "L-7o0Ce8MC6O"
      }
    },
    {
      "cell_type": "code",
      "source": [
        "df.describe()"
      ],
      "metadata": {
        "colab": {
          "base_uri": "https://localhost:8080/",
          "height": 320
        },
        "id": "LVkVa_mE5XRR",
        "outputId": "5267ee0a-3352-45e6-a0ef-7ce3f0ffbb33"
      },
      "execution_count": null,
      "outputs": [
        {
          "output_type": "execute_result",
          "data": {
            "text/plain": [
              "       InvoiceLineID      InvoiceID    StockItemID  PackageTypeID  \\\n",
              "count  230548.000000  230548.000000  230087.000000  230548.000000   \n",
              "mean   114127.066880   35177.386891     110.181827       7.073638   \n",
              "std     65900.142929   20338.920057      63.722514       0.644528   \n",
              "min         1.000000       1.000000       1.000000       1.000000   \n",
              "25%     57062.750000   17570.000000      54.000000       7.000000   \n",
              "50%    114130.500000   35151.000000     111.000000       7.000000   \n",
              "75%    171203.250000   52766.000000     165.000000       7.000000   \n",
              "max    228265.000000   70510.000000     227.000000      10.000000   \n",
              "\n",
              "            Quantity      UnitPrice        TaxRate      TaxAmount  \\\n",
              "count  230548.000000  230548.000000  230548.000000  109623.000000   \n",
              "mean       39.252524      45.539361      14.463409     113.328006   \n",
              "std        55.193934     139.510031       3.904056     221.866696   \n",
              "min         1.000000       0.660000     -15.000000       0.380000   \n",
              "25%         5.000000      13.000000      15.000000      14.400000   \n",
              "50%        10.000000      18.000000      15.000000      34.500000   \n",
              "75%        60.000000      32.000000      15.000000     129.600000   \n",
              "max      3150.000000    1899.000000      15.000000   14994.000000   \n",
              "\n",
              "         LineProfit  ExtendedPrice   LastEditedBy  \n",
              "count  230548.00000  113081.000000  230548.000000  \n",
              "mean      375.38894     740.092626      10.800480  \n",
              "std       753.17041    1705.229089       5.509623  \n",
              "min      -645.00000    -999.000000       2.000000  \n",
              "25%        51.00000      89.700000       6.000000  \n",
              "50%       120.00000     248.400000      11.000000  \n",
              "75%       390.00000     919.080000      16.000000  \n",
              "max      9200.00000  114954.000000      20.000000  "
            ],
            "text/html": [
              "\n",
              "  <div id=\"df-7899a9aa-4988-4e53-ba9b-b3f54c16b462\" class=\"colab-df-container\">\n",
              "    <div>\n",
              "<style scoped>\n",
              "    .dataframe tbody tr th:only-of-type {\n",
              "        vertical-align: middle;\n",
              "    }\n",
              "\n",
              "    .dataframe tbody tr th {\n",
              "        vertical-align: top;\n",
              "    }\n",
              "\n",
              "    .dataframe thead th {\n",
              "        text-align: right;\n",
              "    }\n",
              "</style>\n",
              "<table border=\"1\" class=\"dataframe\">\n",
              "  <thead>\n",
              "    <tr style=\"text-align: right;\">\n",
              "      <th></th>\n",
              "      <th>InvoiceLineID</th>\n",
              "      <th>InvoiceID</th>\n",
              "      <th>StockItemID</th>\n",
              "      <th>PackageTypeID</th>\n",
              "      <th>Quantity</th>\n",
              "      <th>UnitPrice</th>\n",
              "      <th>TaxRate</th>\n",
              "      <th>TaxAmount</th>\n",
              "      <th>LineProfit</th>\n",
              "      <th>ExtendedPrice</th>\n",
              "      <th>LastEditedBy</th>\n",
              "    </tr>\n",
              "  </thead>\n",
              "  <tbody>\n",
              "    <tr>\n",
              "      <th>count</th>\n",
              "      <td>230548.000000</td>\n",
              "      <td>230548.000000</td>\n",
              "      <td>230087.000000</td>\n",
              "      <td>230548.000000</td>\n",
              "      <td>230548.000000</td>\n",
              "      <td>230548.000000</td>\n",
              "      <td>230548.000000</td>\n",
              "      <td>109623.000000</td>\n",
              "      <td>230548.00000</td>\n",
              "      <td>113081.000000</td>\n",
              "      <td>230548.000000</td>\n",
              "    </tr>\n",
              "    <tr>\n",
              "      <th>mean</th>\n",
              "      <td>114127.066880</td>\n",
              "      <td>35177.386891</td>\n",
              "      <td>110.181827</td>\n",
              "      <td>7.073638</td>\n",
              "      <td>39.252524</td>\n",
              "      <td>45.539361</td>\n",
              "      <td>14.463409</td>\n",
              "      <td>113.328006</td>\n",
              "      <td>375.38894</td>\n",
              "      <td>740.092626</td>\n",
              "      <td>10.800480</td>\n",
              "    </tr>\n",
              "    <tr>\n",
              "      <th>std</th>\n",
              "      <td>65900.142929</td>\n",
              "      <td>20338.920057</td>\n",
              "      <td>63.722514</td>\n",
              "      <td>0.644528</td>\n",
              "      <td>55.193934</td>\n",
              "      <td>139.510031</td>\n",
              "      <td>3.904056</td>\n",
              "      <td>221.866696</td>\n",
              "      <td>753.17041</td>\n",
              "      <td>1705.229089</td>\n",
              "      <td>5.509623</td>\n",
              "    </tr>\n",
              "    <tr>\n",
              "      <th>min</th>\n",
              "      <td>1.000000</td>\n",
              "      <td>1.000000</td>\n",
              "      <td>1.000000</td>\n",
              "      <td>1.000000</td>\n",
              "      <td>1.000000</td>\n",
              "      <td>0.660000</td>\n",
              "      <td>-15.000000</td>\n",
              "      <td>0.380000</td>\n",
              "      <td>-645.00000</td>\n",
              "      <td>-999.000000</td>\n",
              "      <td>2.000000</td>\n",
              "    </tr>\n",
              "    <tr>\n",
              "      <th>25%</th>\n",
              "      <td>57062.750000</td>\n",
              "      <td>17570.000000</td>\n",
              "      <td>54.000000</td>\n",
              "      <td>7.000000</td>\n",
              "      <td>5.000000</td>\n",
              "      <td>13.000000</td>\n",
              "      <td>15.000000</td>\n",
              "      <td>14.400000</td>\n",
              "      <td>51.00000</td>\n",
              "      <td>89.700000</td>\n",
              "      <td>6.000000</td>\n",
              "    </tr>\n",
              "    <tr>\n",
              "      <th>50%</th>\n",
              "      <td>114130.500000</td>\n",
              "      <td>35151.000000</td>\n",
              "      <td>111.000000</td>\n",
              "      <td>7.000000</td>\n",
              "      <td>10.000000</td>\n",
              "      <td>18.000000</td>\n",
              "      <td>15.000000</td>\n",
              "      <td>34.500000</td>\n",
              "      <td>120.00000</td>\n",
              "      <td>248.400000</td>\n",
              "      <td>11.000000</td>\n",
              "    </tr>\n",
              "    <tr>\n",
              "      <th>75%</th>\n",
              "      <td>171203.250000</td>\n",
              "      <td>52766.000000</td>\n",
              "      <td>165.000000</td>\n",
              "      <td>7.000000</td>\n",
              "      <td>60.000000</td>\n",
              "      <td>32.000000</td>\n",
              "      <td>15.000000</td>\n",
              "      <td>129.600000</td>\n",
              "      <td>390.00000</td>\n",
              "      <td>919.080000</td>\n",
              "      <td>16.000000</td>\n",
              "    </tr>\n",
              "    <tr>\n",
              "      <th>max</th>\n",
              "      <td>228265.000000</td>\n",
              "      <td>70510.000000</td>\n",
              "      <td>227.000000</td>\n",
              "      <td>10.000000</td>\n",
              "      <td>3150.000000</td>\n",
              "      <td>1899.000000</td>\n",
              "      <td>15.000000</td>\n",
              "      <td>14994.000000</td>\n",
              "      <td>9200.00000</td>\n",
              "      <td>114954.000000</td>\n",
              "      <td>20.000000</td>\n",
              "    </tr>\n",
              "  </tbody>\n",
              "</table>\n",
              "</div>\n",
              "    <div class=\"colab-df-buttons\">\n",
              "\n",
              "  <div class=\"colab-df-container\">\n",
              "    <button class=\"colab-df-convert\" onclick=\"convertToInteractive('df-7899a9aa-4988-4e53-ba9b-b3f54c16b462')\"\n",
              "            title=\"Convert this dataframe to an interactive table.\"\n",
              "            style=\"display:none;\">\n",
              "\n",
              "  <svg xmlns=\"http://www.w3.org/2000/svg\" height=\"24px\" viewBox=\"0 -960 960 960\">\n",
              "    <path d=\"M120-120v-720h720v720H120Zm60-500h600v-160H180v160Zm220 220h160v-160H400v160Zm0 220h160v-160H400v160ZM180-400h160v-160H180v160Zm440 0h160v-160H620v160ZM180-180h160v-160H180v160Zm440 0h160v-160H620v160Z\"/>\n",
              "  </svg>\n",
              "    </button>\n",
              "\n",
              "  <style>\n",
              "    .colab-df-container {\n",
              "      display:flex;\n",
              "      gap: 12px;\n",
              "    }\n",
              "\n",
              "    .colab-df-convert {\n",
              "      background-color: #E8F0FE;\n",
              "      border: none;\n",
              "      border-radius: 50%;\n",
              "      cursor: pointer;\n",
              "      display: none;\n",
              "      fill: #1967D2;\n",
              "      height: 32px;\n",
              "      padding: 0 0 0 0;\n",
              "      width: 32px;\n",
              "    }\n",
              "\n",
              "    .colab-df-convert:hover {\n",
              "      background-color: #E2EBFA;\n",
              "      box-shadow: 0px 1px 2px rgba(60, 64, 67, 0.3), 0px 1px 3px 1px rgba(60, 64, 67, 0.15);\n",
              "      fill: #174EA6;\n",
              "    }\n",
              "\n",
              "    .colab-df-buttons div {\n",
              "      margin-bottom: 4px;\n",
              "    }\n",
              "\n",
              "    [theme=dark] .colab-df-convert {\n",
              "      background-color: #3B4455;\n",
              "      fill: #D2E3FC;\n",
              "    }\n",
              "\n",
              "    [theme=dark] .colab-df-convert:hover {\n",
              "      background-color: #434B5C;\n",
              "      box-shadow: 0px 1px 3px 1px rgba(0, 0, 0, 0.15);\n",
              "      filter: drop-shadow(0px 1px 2px rgba(0, 0, 0, 0.3));\n",
              "      fill: #FFFFFF;\n",
              "    }\n",
              "  </style>\n",
              "\n",
              "    <script>\n",
              "      const buttonEl =\n",
              "        document.querySelector('#df-7899a9aa-4988-4e53-ba9b-b3f54c16b462 button.colab-df-convert');\n",
              "      buttonEl.style.display =\n",
              "        google.colab.kernel.accessAllowed ? 'block' : 'none';\n",
              "\n",
              "      async function convertToInteractive(key) {\n",
              "        const element = document.querySelector('#df-7899a9aa-4988-4e53-ba9b-b3f54c16b462');\n",
              "        const dataTable =\n",
              "          await google.colab.kernel.invokeFunction('convertToInteractive',\n",
              "                                                    [key], {});\n",
              "        if (!dataTable) return;\n",
              "\n",
              "        const docLinkHtml = 'Like what you see? Visit the ' +\n",
              "          '<a target=\"_blank\" href=https://colab.research.google.com/notebooks/data_table.ipynb>data table notebook</a>'\n",
              "          + ' to learn more about interactive tables.';\n",
              "        element.innerHTML = '';\n",
              "        dataTable['output_type'] = 'display_data';\n",
              "        await google.colab.output.renderOutput(dataTable, element);\n",
              "        const docLink = document.createElement('div');\n",
              "        docLink.innerHTML = docLinkHtml;\n",
              "        element.appendChild(docLink);\n",
              "      }\n",
              "    </script>\n",
              "  </div>\n",
              "\n",
              "\n",
              "<div id=\"df-b5b9a0c5-2cf0-4607-987a-d54134ef1ce0\">\n",
              "  <button class=\"colab-df-quickchart\" onclick=\"quickchart('df-b5b9a0c5-2cf0-4607-987a-d54134ef1ce0')\"\n",
              "            title=\"Suggest charts\"\n",
              "            style=\"display:none;\">\n",
              "\n",
              "<svg xmlns=\"http://www.w3.org/2000/svg\" height=\"24px\"viewBox=\"0 0 24 24\"\n",
              "     width=\"24px\">\n",
              "    <g>\n",
              "        <path d=\"M19 3H5c-1.1 0-2 .9-2 2v14c0 1.1.9 2 2 2h14c1.1 0 2-.9 2-2V5c0-1.1-.9-2-2-2zM9 17H7v-7h2v7zm4 0h-2V7h2v10zm4 0h-2v-4h2v4z\"/>\n",
              "    </g>\n",
              "</svg>\n",
              "  </button>\n",
              "\n",
              "<style>\n",
              "  .colab-df-quickchart {\n",
              "      --bg-color: #E8F0FE;\n",
              "      --fill-color: #1967D2;\n",
              "      --hover-bg-color: #E2EBFA;\n",
              "      --hover-fill-color: #174EA6;\n",
              "      --disabled-fill-color: #AAA;\n",
              "      --disabled-bg-color: #DDD;\n",
              "  }\n",
              "\n",
              "  [theme=dark] .colab-df-quickchart {\n",
              "      --bg-color: #3B4455;\n",
              "      --fill-color: #D2E3FC;\n",
              "      --hover-bg-color: #434B5C;\n",
              "      --hover-fill-color: #FFFFFF;\n",
              "      --disabled-bg-color: #3B4455;\n",
              "      --disabled-fill-color: #666;\n",
              "  }\n",
              "\n",
              "  .colab-df-quickchart {\n",
              "    background-color: var(--bg-color);\n",
              "    border: none;\n",
              "    border-radius: 50%;\n",
              "    cursor: pointer;\n",
              "    display: none;\n",
              "    fill: var(--fill-color);\n",
              "    height: 32px;\n",
              "    padding: 0;\n",
              "    width: 32px;\n",
              "  }\n",
              "\n",
              "  .colab-df-quickchart:hover {\n",
              "    background-color: var(--hover-bg-color);\n",
              "    box-shadow: 0 1px 2px rgba(60, 64, 67, 0.3), 0 1px 3px 1px rgba(60, 64, 67, 0.15);\n",
              "    fill: var(--button-hover-fill-color);\n",
              "  }\n",
              "\n",
              "  .colab-df-quickchart-complete:disabled,\n",
              "  .colab-df-quickchart-complete:disabled:hover {\n",
              "    background-color: var(--disabled-bg-color);\n",
              "    fill: var(--disabled-fill-color);\n",
              "    box-shadow: none;\n",
              "  }\n",
              "\n",
              "  .colab-df-spinner {\n",
              "    border: 2px solid var(--fill-color);\n",
              "    border-color: transparent;\n",
              "    border-bottom-color: var(--fill-color);\n",
              "    animation:\n",
              "      spin 1s steps(1) infinite;\n",
              "  }\n",
              "\n",
              "  @keyframes spin {\n",
              "    0% {\n",
              "      border-color: transparent;\n",
              "      border-bottom-color: var(--fill-color);\n",
              "      border-left-color: var(--fill-color);\n",
              "    }\n",
              "    20% {\n",
              "      border-color: transparent;\n",
              "      border-left-color: var(--fill-color);\n",
              "      border-top-color: var(--fill-color);\n",
              "    }\n",
              "    30% {\n",
              "      border-color: transparent;\n",
              "      border-left-color: var(--fill-color);\n",
              "      border-top-color: var(--fill-color);\n",
              "      border-right-color: var(--fill-color);\n",
              "    }\n",
              "    40% {\n",
              "      border-color: transparent;\n",
              "      border-right-color: var(--fill-color);\n",
              "      border-top-color: var(--fill-color);\n",
              "    }\n",
              "    60% {\n",
              "      border-color: transparent;\n",
              "      border-right-color: var(--fill-color);\n",
              "    }\n",
              "    80% {\n",
              "      border-color: transparent;\n",
              "      border-right-color: var(--fill-color);\n",
              "      border-bottom-color: var(--fill-color);\n",
              "    }\n",
              "    90% {\n",
              "      border-color: transparent;\n",
              "      border-bottom-color: var(--fill-color);\n",
              "    }\n",
              "  }\n",
              "</style>\n",
              "\n",
              "  <script>\n",
              "    async function quickchart(key) {\n",
              "      const quickchartButtonEl =\n",
              "        document.querySelector('#' + key + ' button');\n",
              "      quickchartButtonEl.disabled = true;  // To prevent multiple clicks.\n",
              "      quickchartButtonEl.classList.add('colab-df-spinner');\n",
              "      try {\n",
              "        const charts = await google.colab.kernel.invokeFunction(\n",
              "            'suggestCharts', [key], {});\n",
              "      } catch (error) {\n",
              "        console.error('Error during call to suggestCharts:', error);\n",
              "      }\n",
              "      quickchartButtonEl.classList.remove('colab-df-spinner');\n",
              "      quickchartButtonEl.classList.add('colab-df-quickchart-complete');\n",
              "    }\n",
              "    (() => {\n",
              "      let quickchartButtonEl =\n",
              "        document.querySelector('#df-b5b9a0c5-2cf0-4607-987a-d54134ef1ce0 button');\n",
              "      quickchartButtonEl.style.display =\n",
              "        google.colab.kernel.accessAllowed ? 'block' : 'none';\n",
              "    })();\n",
              "  </script>\n",
              "</div>\n",
              "\n",
              "    </div>\n",
              "  </div>\n"
            ],
            "application/vnd.google.colaboratory.intrinsic+json": {
              "type": "dataframe",
              "summary": "{\n  \"name\": \"df\",\n  \"rows\": 8,\n  \"fields\": [\n    {\n      \"column\": \"InvoiceLineID\",\n      \"properties\": {\n        \"dtype\": \"number\",\n        \"std\": 82690.60893921297,\n        \"min\": 1.0,\n        \"max\": 230548.0,\n        \"num_unique_values\": 8,\n        \"samples\": [\n          114127.06687978208,\n          114130.5,\n          230548.0\n        ],\n        \"semantic_type\": \"\",\n        \"description\": \"\"\n      }\n    },\n    {\n      \"column\": \"InvoiceID\",\n      \"properties\": {\n        \"dtype\": \"number\",\n        \"std\": 73110.49576968589,\n        \"min\": 1.0,\n        \"max\": 230548.0,\n        \"num_unique_values\": 8,\n        \"samples\": [\n          35177.386891233065,\n          35151.0,\n          230548.0\n        ],\n        \"semantic_type\": \"\",\n        \"description\": \"\"\n      }\n    },\n    {\n      \"column\": \"StockItemID\",\n      \"properties\": {\n        \"dtype\": \"number\",\n        \"std\": 81311.10180434084,\n        \"min\": 1.0,\n        \"max\": 230087.0,\n        \"num_unique_values\": 8,\n        \"samples\": [\n          110.18182687418238,\n          111.0,\n          230087.0\n        ],\n        \"semantic_type\": \"\",\n        \"description\": \"\"\n      }\n    },\n    {\n      \"column\": \"PackageTypeID\",\n      \"properties\": {\n        \"dtype\": \"number\",\n        \"std\": 81509.0210882701,\n        \"min\": 0.6445275389721171,\n        \"max\": 230548.0,\n        \"num_unique_values\": 6,\n        \"samples\": [\n          230548.0,\n          7.073637593906692,\n          10.0\n        ],\n        \"semantic_type\": \"\",\n        \"description\": \"\"\n      }\n    },\n    {\n      \"column\": \"Quantity\",\n      \"properties\": {\n        \"dtype\": \"number\",\n        \"std\": 81350.65618842984,\n        \"min\": 1.0,\n        \"max\": 230548.0,\n        \"num_unique_values\": 8,\n        \"samples\": [\n          39.25252442007738,\n          10.0,\n          230548.0\n        ],\n        \"semantic_type\": \"\",\n        \"description\": \"\"\n      }\n    },\n    {\n      \"column\": \"UnitPrice\",\n      \"properties\": {\n        \"dtype\": \"number\",\n        \"std\": 81405.1577105313,\n        \"min\": 0.66,\n        \"max\": 230548.0,\n        \"num_unique_values\": 8,\n        \"samples\": [\n          45.53936091399622,\n          18.0,\n          230548.0\n        ],\n        \"semantic_type\": \"\",\n        \"description\": \"\"\n      }\n    },\n    {\n      \"column\": \"TaxRate\",\n      \"properties\": {\n        \"dtype\": \"number\",\n        \"std\": 81507.82723403964,\n        \"min\": -15.0,\n        \"max\": 230548.0,\n        \"num_unique_values\": 5,\n        \"samples\": [\n          14.463408921352602,\n          15.0,\n          3.90405649194504\n        ],\n        \"semantic_type\": \"\",\n        \"description\": \"\"\n      }\n    },\n    {\n      \"column\": \"TaxAmount\",\n      \"properties\": {\n        \"dtype\": \"number\",\n        \"std\": 38331.03776869645,\n        \"min\": 0.38,\n        \"max\": 109623.0,\n        \"num_unique_values\": 8,\n        \"samples\": [\n          113.3280061665891,\n          34.5,\n          109623.0\n        ],\n        \"semantic_type\": \"\",\n        \"description\": \"\"\n      }\n    },\n    {\n      \"column\": \"LineProfit\",\n      \"properties\": {\n        \"dtype\": \"number\",\n        \"std\": 81056.13710153813,\n        \"min\": -645.0,\n        \"max\": 230548.0,\n        \"num_unique_values\": 8,\n        \"samples\": [\n          375.3889396134428,\n          120.0,\n          230548.0\n        ],\n        \"semantic_type\": \"\",\n        \"description\": \"\"\n      }\n    },\n    {\n      \"column\": \"ExtendedPrice\",\n      \"properties\": {\n        \"dtype\": \"number\",\n        \"std\": 52579.287959591384,\n        \"min\": -999.0,\n        \"max\": 114954.0,\n        \"num_unique_values\": 8,\n        \"samples\": [\n          740.0926255515956,\n          248.4,\n          113081.0\n        ],\n        \"semantic_type\": \"\",\n        \"description\": \"\"\n      }\n    },\n    {\n      \"column\": \"LastEditedBy\",\n      \"properties\": {\n        \"dtype\": \"number\",\n        \"std\": 81507.42559857415,\n        \"min\": 2.0,\n        \"max\": 230548.0,\n        \"num_unique_values\": 8,\n        \"samples\": [\n          10.800479726564534,\n          11.0,\n          230548.0\n        ],\n        \"semantic_type\": \"\",\n        \"description\": \"\"\n      }\n    }\n  ]\n}"
            }
          },
          "metadata": {},
          "execution_count": 4
        }
      ]
    },
    {
      "cell_type": "markdown",
      "source": [
        "4. Why might a negative number in the LineProfit column not be considered a logic error?"
      ],
      "metadata": {
        "id": "Y-j2uPJ-ME6o"
      }
    },
    {
      "cell_type": "markdown",
      "source": [
        "*You can have a negative profit for a product.*"
      ],
      "metadata": {
        "id": "KmIOV4j2UIsY"
      }
    },
    {
      "cell_type": "markdown",
      "source": [
        "5. Fix standardization issues in the data set to determine which customer has created the most unique invoices. Which customer created the most invoices?"
      ],
      "metadata": {
        "id": "dAMFN9VEMHwd"
      }
    },
    {
      "cell_type": "code",
      "source": [
        "df['Customer'].value_counts()"
      ],
      "metadata": {
        "colab": {
          "base_uri": "https://localhost:8080/",
          "height": 334
        },
        "id": "oFM9R12ECCsz",
        "outputId": "78dab491-81f5-4513-d77b-89b5740066d8"
      },
      "execution_count": null,
      "outputs": [
        {
          "output_type": "execute_result",
          "data": {
            "text/plain": [
              "Customer\n",
              "terry's trinkets       85593\n",
              "stuff by stew          69820\n",
              "stuf by stew           31984\n",
              "wholesaler plus        15735\n",
              "big buys retail        13461\n",
              "terry's trinket         9483\n",
              "dennis distribution     4472\n",
              "Name: count, dtype: int64"
            ],
            "text/html": [
              "<div>\n",
              "<style scoped>\n",
              "    .dataframe tbody tr th:only-of-type {\n",
              "        vertical-align: middle;\n",
              "    }\n",
              "\n",
              "    .dataframe tbody tr th {\n",
              "        vertical-align: top;\n",
              "    }\n",
              "\n",
              "    .dataframe thead th {\n",
              "        text-align: right;\n",
              "    }\n",
              "</style>\n",
              "<table border=\"1\" class=\"dataframe\">\n",
              "  <thead>\n",
              "    <tr style=\"text-align: right;\">\n",
              "      <th></th>\n",
              "      <th>count</th>\n",
              "    </tr>\n",
              "    <tr>\n",
              "      <th>Customer</th>\n",
              "      <th></th>\n",
              "    </tr>\n",
              "  </thead>\n",
              "  <tbody>\n",
              "    <tr>\n",
              "      <th>terry's trinkets</th>\n",
              "      <td>85593</td>\n",
              "    </tr>\n",
              "    <tr>\n",
              "      <th>stuff by stew</th>\n",
              "      <td>69820</td>\n",
              "    </tr>\n",
              "    <tr>\n",
              "      <th>stuf by stew</th>\n",
              "      <td>31984</td>\n",
              "    </tr>\n",
              "    <tr>\n",
              "      <th>wholesaler plus</th>\n",
              "      <td>15735</td>\n",
              "    </tr>\n",
              "    <tr>\n",
              "      <th>big buys retail</th>\n",
              "      <td>13461</td>\n",
              "    </tr>\n",
              "    <tr>\n",
              "      <th>terry's trinket</th>\n",
              "      <td>9483</td>\n",
              "    </tr>\n",
              "    <tr>\n",
              "      <th>dennis distribution</th>\n",
              "      <td>4472</td>\n",
              "    </tr>\n",
              "  </tbody>\n",
              "</table>\n",
              "</div><br><label><b>dtype:</b> int64</label>"
            ]
          },
          "metadata": {},
          "execution_count": 59
        }
      ]
    },
    {
      "cell_type": "code",
      "source": [
        "df['Customer_cleaned'] = df['Customer'].str.lower().str.strip()\n",
        "corrections = {\n",
        "    \"stuf by stew\": \"stuff by stew\",\n",
        "    \"terry's trinket\": \"terry's trinkets\"\n",
        "}\n",
        "df['Customer_cleaned'] = df['Customer_cleaned'].replace(corrections)\n",
        "df['Customer_final'] = (\n",
        "    df['Customer_cleaned']\n",
        "    .str.title()\n",
        "    .str.replace(\"'S\", \"'s\", regex=False)  # Fix apostrophes\n",
        ")\n",
        "\n",
        "print(df['Customer_final'].value_counts())\n"
      ],
      "metadata": {
        "colab": {
          "base_uri": "https://localhost:8080/"
        },
        "id": "2ECfUcSdC1Ju",
        "outputId": "fa2aa635-801d-4bdb-f50c-91567ddd4a0e"
      },
      "execution_count": null,
      "outputs": [
        {
          "output_type": "stream",
          "name": "stdout",
          "text": [
            "Customer_final\n",
            "Stuff By Stew          101804\n",
            "Terry's Trinkets        95076\n",
            "Wholesaler Plus         15735\n",
            "Big Buys Retail         13461\n",
            "Dennis Distribution      4472\n",
            "Name: count, dtype: int64\n"
          ]
        }
      ]
    },
    {
      "cell_type": "markdown",
      "source": [
        "6. Observe the null values in the LastEditedWhen column. Based on the number of null values in the column and the questions being asked by executives, what do you recommend doing to eliminate null values?"
      ],
      "metadata": {
        "id": "_RF41GxOMLfx"
      }
    },
    {
      "cell_type": "code",
      "source": [
        "df['LastEditedWhen']"
      ],
      "metadata": {
        "colab": {
          "base_uri": "https://localhost:8080/",
          "height": 458
        },
        "id": "yHlWJfi4Wz0J",
        "outputId": "553e89e6-ff9f-4574-d068-341c126eb43a"
      },
      "execution_count": null,
      "outputs": [
        {
          "output_type": "execute_result",
          "data": {
            "text/plain": [
              "0                    NaN\n",
              "1         1/1/2013 12:00\n",
              "2                    NaN\n",
              "3                    NaN\n",
              "4         1/1/2013 12:00\n",
              "               ...      \n",
              "230543               NaN\n",
              "230544               NaN\n",
              "230545               NaN\n",
              "230546               NaN\n",
              "230547               NaN\n",
              "Name: LastEditedWhen, Length: 230548, dtype: object"
            ],
            "text/html": [
              "<div>\n",
              "<style scoped>\n",
              "    .dataframe tbody tr th:only-of-type {\n",
              "        vertical-align: middle;\n",
              "    }\n",
              "\n",
              "    .dataframe tbody tr th {\n",
              "        vertical-align: top;\n",
              "    }\n",
              "\n",
              "    .dataframe thead th {\n",
              "        text-align: right;\n",
              "    }\n",
              "</style>\n",
              "<table border=\"1\" class=\"dataframe\">\n",
              "  <thead>\n",
              "    <tr style=\"text-align: right;\">\n",
              "      <th></th>\n",
              "      <th>LastEditedWhen</th>\n",
              "    </tr>\n",
              "  </thead>\n",
              "  <tbody>\n",
              "    <tr>\n",
              "      <th>0</th>\n",
              "      <td>NaN</td>\n",
              "    </tr>\n",
              "    <tr>\n",
              "      <th>1</th>\n",
              "      <td>1/1/2013 12:00</td>\n",
              "    </tr>\n",
              "    <tr>\n",
              "      <th>2</th>\n",
              "      <td>NaN</td>\n",
              "    </tr>\n",
              "    <tr>\n",
              "      <th>3</th>\n",
              "      <td>NaN</td>\n",
              "    </tr>\n",
              "    <tr>\n",
              "      <th>4</th>\n",
              "      <td>1/1/2013 12:00</td>\n",
              "    </tr>\n",
              "    <tr>\n",
              "      <th>...</th>\n",
              "      <td>...</td>\n",
              "    </tr>\n",
              "    <tr>\n",
              "      <th>230543</th>\n",
              "      <td>NaN</td>\n",
              "    </tr>\n",
              "    <tr>\n",
              "      <th>230544</th>\n",
              "      <td>NaN</td>\n",
              "    </tr>\n",
              "    <tr>\n",
              "      <th>230545</th>\n",
              "      <td>NaN</td>\n",
              "    </tr>\n",
              "    <tr>\n",
              "      <th>230546</th>\n",
              "      <td>NaN</td>\n",
              "    </tr>\n",
              "    <tr>\n",
              "      <th>230547</th>\n",
              "      <td>NaN</td>\n",
              "    </tr>\n",
              "  </tbody>\n",
              "</table>\n",
              "<p>230548 rows × 1 columns</p>\n",
              "</div><br><label><b>dtype:</b> object</label>"
            ]
          },
          "metadata": {},
          "execution_count": 6
        }
      ]
    },
    {
      "cell_type": "markdown",
      "source": [
        "*I would drop the column completely due to the amount of missing data. This column also will not play a integral part in the analyis so removing the data shouldn't impact the analyis.*"
      ],
      "metadata": {
        "id": "9ssSf5SsYBr-"
      }
    },
    {
      "cell_type": "markdown",
      "source": [
        "7. Perform the action that you recommended above. After performing the action, which column contains the most null values?"
      ],
      "metadata": {
        "id": "gvI0RfYNMN2g"
      }
    },
    {
      "cell_type": "code",
      "source": [
        "df_cleaned = df.drop(columns=['LastEditedWhen'])\n",
        "null_counts = df_cleaned.isnull().sum()\n",
        "most_null_column = null_counts.idxmax()\n",
        "most_null_count = null_counts.max()\n",
        "\n",
        "most_null_column, most_null_count\n"
      ],
      "metadata": {
        "colab": {
          "base_uri": "https://localhost:8080/"
        },
        "id": "EbewAT1gZuaS",
        "outputId": "0c25b397-b7da-4192-f773-b96f97657499"
      },
      "execution_count": null,
      "outputs": [
        {
          "output_type": "execute_result",
          "data": {
            "text/plain": [
              "('TaxAmount', 120925)"
            ]
          },
          "metadata": {},
          "execution_count": 71
        }
      ]
    },
    {
      "cell_type": "markdown",
      "source": [
        "8. Observe the columns StockItemID and Description. Notice that StockItemID is a single number, and each number has a corresponding Description. Thus, by knowing the StockItemID of a row, its Description can be imputed. However, if both the StockItemID and Description are missing, the item is unknown.\n",
        "\n",
        "How many rows have both a null StockItemID and a null Description?"
      ],
      "metadata": {
        "id": "iYlXz9FoMQfT"
      }
    },
    {
      "cell_type": "code",
      "source": [
        "df_cleaned[['StockItemID', 'Description']]"
      ],
      "metadata": {
        "colab": {
          "base_uri": "https://localhost:8080/",
          "height": 423
        },
        "id": "_bb7xvlj1XaY",
        "outputId": "86fe6558-d823-4831-e408-08f079a97eda"
      },
      "execution_count": null,
      "outputs": [
        {
          "output_type": "execute_result",
          "data": {
            "text/plain": [
              "        StockItemID                                        Description\n",
              "0              67.0           Ride on toy sedan car (Black) 1/12 scale\n",
              "1              50.0  Developer joke mug - old C developers never di...\n",
              "2              10.0               USB food flash drive - chocolate bar\n",
              "3             114.0                 Superhero action jacket (Blue) XXL\n",
              "4             206.0         Permanent marker black 5mm nib (Black) 5mm\n",
              "...             ...                                                ...\n",
              "230543        139.0                        Furry animal socks (Pink) M\n",
              "230544          9.0                      USB food flash drive - banana\n",
              "230545        179.0              Shipping carton (Brown) 229x229x229mm\n",
              "230546         20.0       DBA joke mug - you might be a DBA if (White)\n",
              "230547         70.0           Ride on toy sedan car (Green) 1/12 scale\n",
              "\n",
              "[230548 rows x 2 columns]"
            ],
            "text/html": [
              "\n",
              "  <div id=\"df-f7e49c2b-f154-4f40-be80-22ed77526edb\" class=\"colab-df-container\">\n",
              "    <div>\n",
              "<style scoped>\n",
              "    .dataframe tbody tr th:only-of-type {\n",
              "        vertical-align: middle;\n",
              "    }\n",
              "\n",
              "    .dataframe tbody tr th {\n",
              "        vertical-align: top;\n",
              "    }\n",
              "\n",
              "    .dataframe thead th {\n",
              "        text-align: right;\n",
              "    }\n",
              "</style>\n",
              "<table border=\"1\" class=\"dataframe\">\n",
              "  <thead>\n",
              "    <tr style=\"text-align: right;\">\n",
              "      <th></th>\n",
              "      <th>StockItemID</th>\n",
              "      <th>Description</th>\n",
              "    </tr>\n",
              "  </thead>\n",
              "  <tbody>\n",
              "    <tr>\n",
              "      <th>0</th>\n",
              "      <td>67.0</td>\n",
              "      <td>Ride on toy sedan car (Black) 1/12 scale</td>\n",
              "    </tr>\n",
              "    <tr>\n",
              "      <th>1</th>\n",
              "      <td>50.0</td>\n",
              "      <td>Developer joke mug - old C developers never di...</td>\n",
              "    </tr>\n",
              "    <tr>\n",
              "      <th>2</th>\n",
              "      <td>10.0</td>\n",
              "      <td>USB food flash drive - chocolate bar</td>\n",
              "    </tr>\n",
              "    <tr>\n",
              "      <th>3</th>\n",
              "      <td>114.0</td>\n",
              "      <td>Superhero action jacket (Blue) XXL</td>\n",
              "    </tr>\n",
              "    <tr>\n",
              "      <th>4</th>\n",
              "      <td>206.0</td>\n",
              "      <td>Permanent marker black 5mm nib (Black) 5mm</td>\n",
              "    </tr>\n",
              "    <tr>\n",
              "      <th>...</th>\n",
              "      <td>...</td>\n",
              "      <td>...</td>\n",
              "    </tr>\n",
              "    <tr>\n",
              "      <th>230543</th>\n",
              "      <td>139.0</td>\n",
              "      <td>Furry animal socks (Pink) M</td>\n",
              "    </tr>\n",
              "    <tr>\n",
              "      <th>230544</th>\n",
              "      <td>9.0</td>\n",
              "      <td>USB food flash drive - banana</td>\n",
              "    </tr>\n",
              "    <tr>\n",
              "      <th>230545</th>\n",
              "      <td>179.0</td>\n",
              "      <td>Shipping carton (Brown) 229x229x229mm</td>\n",
              "    </tr>\n",
              "    <tr>\n",
              "      <th>230546</th>\n",
              "      <td>20.0</td>\n",
              "      <td>DBA joke mug - you might be a DBA if (White)</td>\n",
              "    </tr>\n",
              "    <tr>\n",
              "      <th>230547</th>\n",
              "      <td>70.0</td>\n",
              "      <td>Ride on toy sedan car (Green) 1/12 scale</td>\n",
              "    </tr>\n",
              "  </tbody>\n",
              "</table>\n",
              "<p>230548 rows × 2 columns</p>\n",
              "</div>\n",
              "    <div class=\"colab-df-buttons\">\n",
              "\n",
              "  <div class=\"colab-df-container\">\n",
              "    <button class=\"colab-df-convert\" onclick=\"convertToInteractive('df-f7e49c2b-f154-4f40-be80-22ed77526edb')\"\n",
              "            title=\"Convert this dataframe to an interactive table.\"\n",
              "            style=\"display:none;\">\n",
              "\n",
              "  <svg xmlns=\"http://www.w3.org/2000/svg\" height=\"24px\" viewBox=\"0 -960 960 960\">\n",
              "    <path d=\"M120-120v-720h720v720H120Zm60-500h600v-160H180v160Zm220 220h160v-160H400v160Zm0 220h160v-160H400v160ZM180-400h160v-160H180v160Zm440 0h160v-160H620v160ZM180-180h160v-160H180v160Zm440 0h160v-160H620v160Z\"/>\n",
              "  </svg>\n",
              "    </button>\n",
              "\n",
              "  <style>\n",
              "    .colab-df-container {\n",
              "      display:flex;\n",
              "      gap: 12px;\n",
              "    }\n",
              "\n",
              "    .colab-df-convert {\n",
              "      background-color: #E8F0FE;\n",
              "      border: none;\n",
              "      border-radius: 50%;\n",
              "      cursor: pointer;\n",
              "      display: none;\n",
              "      fill: #1967D2;\n",
              "      height: 32px;\n",
              "      padding: 0 0 0 0;\n",
              "      width: 32px;\n",
              "    }\n",
              "\n",
              "    .colab-df-convert:hover {\n",
              "      background-color: #E2EBFA;\n",
              "      box-shadow: 0px 1px 2px rgba(60, 64, 67, 0.3), 0px 1px 3px 1px rgba(60, 64, 67, 0.15);\n",
              "      fill: #174EA6;\n",
              "    }\n",
              "\n",
              "    .colab-df-buttons div {\n",
              "      margin-bottom: 4px;\n",
              "    }\n",
              "\n",
              "    [theme=dark] .colab-df-convert {\n",
              "      background-color: #3B4455;\n",
              "      fill: #D2E3FC;\n",
              "    }\n",
              "\n",
              "    [theme=dark] .colab-df-convert:hover {\n",
              "      background-color: #434B5C;\n",
              "      box-shadow: 0px 1px 3px 1px rgba(0, 0, 0, 0.15);\n",
              "      filter: drop-shadow(0px 1px 2px rgba(0, 0, 0, 0.3));\n",
              "      fill: #FFFFFF;\n",
              "    }\n",
              "  </style>\n",
              "\n",
              "    <script>\n",
              "      const buttonEl =\n",
              "        document.querySelector('#df-f7e49c2b-f154-4f40-be80-22ed77526edb button.colab-df-convert');\n",
              "      buttonEl.style.display =\n",
              "        google.colab.kernel.accessAllowed ? 'block' : 'none';\n",
              "\n",
              "      async function convertToInteractive(key) {\n",
              "        const element = document.querySelector('#df-f7e49c2b-f154-4f40-be80-22ed77526edb');\n",
              "        const dataTable =\n",
              "          await google.colab.kernel.invokeFunction('convertToInteractive',\n",
              "                                                    [key], {});\n",
              "        if (!dataTable) return;\n",
              "\n",
              "        const docLinkHtml = 'Like what you see? Visit the ' +\n",
              "          '<a target=\"_blank\" href=https://colab.research.google.com/notebooks/data_table.ipynb>data table notebook</a>'\n",
              "          + ' to learn more about interactive tables.';\n",
              "        element.innerHTML = '';\n",
              "        dataTable['output_type'] = 'display_data';\n",
              "        await google.colab.output.renderOutput(dataTable, element);\n",
              "        const docLink = document.createElement('div');\n",
              "        docLink.innerHTML = docLinkHtml;\n",
              "        element.appendChild(docLink);\n",
              "      }\n",
              "    </script>\n",
              "  </div>\n",
              "\n",
              "\n",
              "<div id=\"df-acf0dda5-24bf-424d-b814-4a63e7543f82\">\n",
              "  <button class=\"colab-df-quickchart\" onclick=\"quickchart('df-acf0dda5-24bf-424d-b814-4a63e7543f82')\"\n",
              "            title=\"Suggest charts\"\n",
              "            style=\"display:none;\">\n",
              "\n",
              "<svg xmlns=\"http://www.w3.org/2000/svg\" height=\"24px\"viewBox=\"0 0 24 24\"\n",
              "     width=\"24px\">\n",
              "    <g>\n",
              "        <path d=\"M19 3H5c-1.1 0-2 .9-2 2v14c0 1.1.9 2 2 2h14c1.1 0 2-.9 2-2V5c0-1.1-.9-2-2-2zM9 17H7v-7h2v7zm4 0h-2V7h2v10zm4 0h-2v-4h2v4z\"/>\n",
              "    </g>\n",
              "</svg>\n",
              "  </button>\n",
              "\n",
              "<style>\n",
              "  .colab-df-quickchart {\n",
              "      --bg-color: #E8F0FE;\n",
              "      --fill-color: #1967D2;\n",
              "      --hover-bg-color: #E2EBFA;\n",
              "      --hover-fill-color: #174EA6;\n",
              "      --disabled-fill-color: #AAA;\n",
              "      --disabled-bg-color: #DDD;\n",
              "  }\n",
              "\n",
              "  [theme=dark] .colab-df-quickchart {\n",
              "      --bg-color: #3B4455;\n",
              "      --fill-color: #D2E3FC;\n",
              "      --hover-bg-color: #434B5C;\n",
              "      --hover-fill-color: #FFFFFF;\n",
              "      --disabled-bg-color: #3B4455;\n",
              "      --disabled-fill-color: #666;\n",
              "  }\n",
              "\n",
              "  .colab-df-quickchart {\n",
              "    background-color: var(--bg-color);\n",
              "    border: none;\n",
              "    border-radius: 50%;\n",
              "    cursor: pointer;\n",
              "    display: none;\n",
              "    fill: var(--fill-color);\n",
              "    height: 32px;\n",
              "    padding: 0;\n",
              "    width: 32px;\n",
              "  }\n",
              "\n",
              "  .colab-df-quickchart:hover {\n",
              "    background-color: var(--hover-bg-color);\n",
              "    box-shadow: 0 1px 2px rgba(60, 64, 67, 0.3), 0 1px 3px 1px rgba(60, 64, 67, 0.15);\n",
              "    fill: var(--button-hover-fill-color);\n",
              "  }\n",
              "\n",
              "  .colab-df-quickchart-complete:disabled,\n",
              "  .colab-df-quickchart-complete:disabled:hover {\n",
              "    background-color: var(--disabled-bg-color);\n",
              "    fill: var(--disabled-fill-color);\n",
              "    box-shadow: none;\n",
              "  }\n",
              "\n",
              "  .colab-df-spinner {\n",
              "    border: 2px solid var(--fill-color);\n",
              "    border-color: transparent;\n",
              "    border-bottom-color: var(--fill-color);\n",
              "    animation:\n",
              "      spin 1s steps(1) infinite;\n",
              "  }\n",
              "\n",
              "  @keyframes spin {\n",
              "    0% {\n",
              "      border-color: transparent;\n",
              "      border-bottom-color: var(--fill-color);\n",
              "      border-left-color: var(--fill-color);\n",
              "    }\n",
              "    20% {\n",
              "      border-color: transparent;\n",
              "      border-left-color: var(--fill-color);\n",
              "      border-top-color: var(--fill-color);\n",
              "    }\n",
              "    30% {\n",
              "      border-color: transparent;\n",
              "      border-left-color: var(--fill-color);\n",
              "      border-top-color: var(--fill-color);\n",
              "      border-right-color: var(--fill-color);\n",
              "    }\n",
              "    40% {\n",
              "      border-color: transparent;\n",
              "      border-right-color: var(--fill-color);\n",
              "      border-top-color: var(--fill-color);\n",
              "    }\n",
              "    60% {\n",
              "      border-color: transparent;\n",
              "      border-right-color: var(--fill-color);\n",
              "    }\n",
              "    80% {\n",
              "      border-color: transparent;\n",
              "      border-right-color: var(--fill-color);\n",
              "      border-bottom-color: var(--fill-color);\n",
              "    }\n",
              "    90% {\n",
              "      border-color: transparent;\n",
              "      border-bottom-color: var(--fill-color);\n",
              "    }\n",
              "  }\n",
              "</style>\n",
              "\n",
              "  <script>\n",
              "    async function quickchart(key) {\n",
              "      const quickchartButtonEl =\n",
              "        document.querySelector('#' + key + ' button');\n",
              "      quickchartButtonEl.disabled = true;  // To prevent multiple clicks.\n",
              "      quickchartButtonEl.classList.add('colab-df-spinner');\n",
              "      try {\n",
              "        const charts = await google.colab.kernel.invokeFunction(\n",
              "            'suggestCharts', [key], {});\n",
              "      } catch (error) {\n",
              "        console.error('Error during call to suggestCharts:', error);\n",
              "      }\n",
              "      quickchartButtonEl.classList.remove('colab-df-spinner');\n",
              "      quickchartButtonEl.classList.add('colab-df-quickchart-complete');\n",
              "    }\n",
              "    (() => {\n",
              "      let quickchartButtonEl =\n",
              "        document.querySelector('#df-acf0dda5-24bf-424d-b814-4a63e7543f82 button');\n",
              "      quickchartButtonEl.style.display =\n",
              "        google.colab.kernel.accessAllowed ? 'block' : 'none';\n",
              "    })();\n",
              "  </script>\n",
              "</div>\n",
              "\n",
              "    </div>\n",
              "  </div>\n"
            ],
            "application/vnd.google.colaboratory.intrinsic+json": {
              "type": "dataframe"
            }
          },
          "metadata": {},
          "execution_count": 8
        }
      ]
    },
    {
      "cell_type": "code",
      "source": [
        "missing_both = (df['StockItemID'].isnull() & df['Description'].isnull()).sum()\n",
        "print(missing_both)"
      ],
      "metadata": {
        "colab": {
          "base_uri": "https://localhost:8080/"
        },
        "id": "Xa4biLW_aHuh",
        "outputId": "7f52ba14-ae87-4b7f-c1c4-051d8f03e1ae"
      },
      "execution_count": null,
      "outputs": [
        {
          "output_type": "stream",
          "name": "stdout",
          "text": [
            "461\n"
          ]
        }
      ]
    },
    {
      "cell_type": "markdown",
      "source": [
        "9. Observe the rows that have both a null StockItemID and a null Description. Based on the number of null values and the questions asked by the executives, what do you recommend doing to remove null values from these columns?"
      ],
      "metadata": {
        "id": "WPjhiRBqMS7H"
      }
    },
    {
      "cell_type": "code",
      "source": [
        "df_cleaned[['StockItemID', 'Description']]"
      ],
      "metadata": {
        "colab": {
          "base_uri": "https://localhost:8080/",
          "height": 423
        },
        "id": "UszQQ4vJcUBR",
        "outputId": "8948e566-0acb-4fcc-c54b-acc83d56f79f"
      },
      "execution_count": null,
      "outputs": [
        {
          "output_type": "execute_result",
          "data": {
            "text/plain": [
              "        StockItemID                                        Description\n",
              "0              67.0           Ride on toy sedan car (Black) 1/12 scale\n",
              "1              50.0  Developer joke mug - old C developers never di...\n",
              "2              10.0               USB food flash drive - chocolate bar\n",
              "3             114.0                 Superhero action jacket (Blue) XXL\n",
              "4             206.0         Permanent marker black 5mm nib (Black) 5mm\n",
              "...             ...                                                ...\n",
              "230543        139.0                        Furry animal socks (Pink) M\n",
              "230544          9.0                      USB food flash drive - banana\n",
              "230545        179.0              Shipping carton (Brown) 229x229x229mm\n",
              "230546         20.0       DBA joke mug - you might be a DBA if (White)\n",
              "230547         70.0           Ride on toy sedan car (Green) 1/12 scale\n",
              "\n",
              "[230548 rows x 2 columns]"
            ],
            "text/html": [
              "\n",
              "  <div id=\"df-99344c4f-9764-4c6e-96e1-78a449787d41\" class=\"colab-df-container\">\n",
              "    <div>\n",
              "<style scoped>\n",
              "    .dataframe tbody tr th:only-of-type {\n",
              "        vertical-align: middle;\n",
              "    }\n",
              "\n",
              "    .dataframe tbody tr th {\n",
              "        vertical-align: top;\n",
              "    }\n",
              "\n",
              "    .dataframe thead th {\n",
              "        text-align: right;\n",
              "    }\n",
              "</style>\n",
              "<table border=\"1\" class=\"dataframe\">\n",
              "  <thead>\n",
              "    <tr style=\"text-align: right;\">\n",
              "      <th></th>\n",
              "      <th>StockItemID</th>\n",
              "      <th>Description</th>\n",
              "    </tr>\n",
              "  </thead>\n",
              "  <tbody>\n",
              "    <tr>\n",
              "      <th>0</th>\n",
              "      <td>67.0</td>\n",
              "      <td>Ride on toy sedan car (Black) 1/12 scale</td>\n",
              "    </tr>\n",
              "    <tr>\n",
              "      <th>1</th>\n",
              "      <td>50.0</td>\n",
              "      <td>Developer joke mug - old C developers never di...</td>\n",
              "    </tr>\n",
              "    <tr>\n",
              "      <th>2</th>\n",
              "      <td>10.0</td>\n",
              "      <td>USB food flash drive - chocolate bar</td>\n",
              "    </tr>\n",
              "    <tr>\n",
              "      <th>3</th>\n",
              "      <td>114.0</td>\n",
              "      <td>Superhero action jacket (Blue) XXL</td>\n",
              "    </tr>\n",
              "    <tr>\n",
              "      <th>4</th>\n",
              "      <td>206.0</td>\n",
              "      <td>Permanent marker black 5mm nib (Black) 5mm</td>\n",
              "    </tr>\n",
              "    <tr>\n",
              "      <th>...</th>\n",
              "      <td>...</td>\n",
              "      <td>...</td>\n",
              "    </tr>\n",
              "    <tr>\n",
              "      <th>230543</th>\n",
              "      <td>139.0</td>\n",
              "      <td>Furry animal socks (Pink) M</td>\n",
              "    </tr>\n",
              "    <tr>\n",
              "      <th>230544</th>\n",
              "      <td>9.0</td>\n",
              "      <td>USB food flash drive - banana</td>\n",
              "    </tr>\n",
              "    <tr>\n",
              "      <th>230545</th>\n",
              "      <td>179.0</td>\n",
              "      <td>Shipping carton (Brown) 229x229x229mm</td>\n",
              "    </tr>\n",
              "    <tr>\n",
              "      <th>230546</th>\n",
              "      <td>20.0</td>\n",
              "      <td>DBA joke mug - you might be a DBA if (White)</td>\n",
              "    </tr>\n",
              "    <tr>\n",
              "      <th>230547</th>\n",
              "      <td>70.0</td>\n",
              "      <td>Ride on toy sedan car (Green) 1/12 scale</td>\n",
              "    </tr>\n",
              "  </tbody>\n",
              "</table>\n",
              "<p>230548 rows × 2 columns</p>\n",
              "</div>\n",
              "    <div class=\"colab-df-buttons\">\n",
              "\n",
              "  <div class=\"colab-df-container\">\n",
              "    <button class=\"colab-df-convert\" onclick=\"convertToInteractive('df-99344c4f-9764-4c6e-96e1-78a449787d41')\"\n",
              "            title=\"Convert this dataframe to an interactive table.\"\n",
              "            style=\"display:none;\">\n",
              "\n",
              "  <svg xmlns=\"http://www.w3.org/2000/svg\" height=\"24px\" viewBox=\"0 -960 960 960\">\n",
              "    <path d=\"M120-120v-720h720v720H120Zm60-500h600v-160H180v160Zm220 220h160v-160H400v160Zm0 220h160v-160H400v160ZM180-400h160v-160H180v160Zm440 0h160v-160H620v160ZM180-180h160v-160H180v160Zm440 0h160v-160H620v160Z\"/>\n",
              "  </svg>\n",
              "    </button>\n",
              "\n",
              "  <style>\n",
              "    .colab-df-container {\n",
              "      display:flex;\n",
              "      gap: 12px;\n",
              "    }\n",
              "\n",
              "    .colab-df-convert {\n",
              "      background-color: #E8F0FE;\n",
              "      border: none;\n",
              "      border-radius: 50%;\n",
              "      cursor: pointer;\n",
              "      display: none;\n",
              "      fill: #1967D2;\n",
              "      height: 32px;\n",
              "      padding: 0 0 0 0;\n",
              "      width: 32px;\n",
              "    }\n",
              "\n",
              "    .colab-df-convert:hover {\n",
              "      background-color: #E2EBFA;\n",
              "      box-shadow: 0px 1px 2px rgba(60, 64, 67, 0.3), 0px 1px 3px 1px rgba(60, 64, 67, 0.15);\n",
              "      fill: #174EA6;\n",
              "    }\n",
              "\n",
              "    .colab-df-buttons div {\n",
              "      margin-bottom: 4px;\n",
              "    }\n",
              "\n",
              "    [theme=dark] .colab-df-convert {\n",
              "      background-color: #3B4455;\n",
              "      fill: #D2E3FC;\n",
              "    }\n",
              "\n",
              "    [theme=dark] .colab-df-convert:hover {\n",
              "      background-color: #434B5C;\n",
              "      box-shadow: 0px 1px 3px 1px rgba(0, 0, 0, 0.15);\n",
              "      filter: drop-shadow(0px 1px 2px rgba(0, 0, 0, 0.3));\n",
              "      fill: #FFFFFF;\n",
              "    }\n",
              "  </style>\n",
              "\n",
              "    <script>\n",
              "      const buttonEl =\n",
              "        document.querySelector('#df-99344c4f-9764-4c6e-96e1-78a449787d41 button.colab-df-convert');\n",
              "      buttonEl.style.display =\n",
              "        google.colab.kernel.accessAllowed ? 'block' : 'none';\n",
              "\n",
              "      async function convertToInteractive(key) {\n",
              "        const element = document.querySelector('#df-99344c4f-9764-4c6e-96e1-78a449787d41');\n",
              "        const dataTable =\n",
              "          await google.colab.kernel.invokeFunction('convertToInteractive',\n",
              "                                                    [key], {});\n",
              "        if (!dataTable) return;\n",
              "\n",
              "        const docLinkHtml = 'Like what you see? Visit the ' +\n",
              "          '<a target=\"_blank\" href=https://colab.research.google.com/notebooks/data_table.ipynb>data table notebook</a>'\n",
              "          + ' to learn more about interactive tables.';\n",
              "        element.innerHTML = '';\n",
              "        dataTable['output_type'] = 'display_data';\n",
              "        await google.colab.output.renderOutput(dataTable, element);\n",
              "        const docLink = document.createElement('div');\n",
              "        docLink.innerHTML = docLinkHtml;\n",
              "        element.appendChild(docLink);\n",
              "      }\n",
              "    </script>\n",
              "  </div>\n",
              "\n",
              "\n",
              "<div id=\"df-8ed7c121-7967-49b4-b1af-5556d2f5f639\">\n",
              "  <button class=\"colab-df-quickchart\" onclick=\"quickchart('df-8ed7c121-7967-49b4-b1af-5556d2f5f639')\"\n",
              "            title=\"Suggest charts\"\n",
              "            style=\"display:none;\">\n",
              "\n",
              "<svg xmlns=\"http://www.w3.org/2000/svg\" height=\"24px\"viewBox=\"0 0 24 24\"\n",
              "     width=\"24px\">\n",
              "    <g>\n",
              "        <path d=\"M19 3H5c-1.1 0-2 .9-2 2v14c0 1.1.9 2 2 2h14c1.1 0 2-.9 2-2V5c0-1.1-.9-2-2-2zM9 17H7v-7h2v7zm4 0h-2V7h2v10zm4 0h-2v-4h2v4z\"/>\n",
              "    </g>\n",
              "</svg>\n",
              "  </button>\n",
              "\n",
              "<style>\n",
              "  .colab-df-quickchart {\n",
              "      --bg-color: #E8F0FE;\n",
              "      --fill-color: #1967D2;\n",
              "      --hover-bg-color: #E2EBFA;\n",
              "      --hover-fill-color: #174EA6;\n",
              "      --disabled-fill-color: #AAA;\n",
              "      --disabled-bg-color: #DDD;\n",
              "  }\n",
              "\n",
              "  [theme=dark] .colab-df-quickchart {\n",
              "      --bg-color: #3B4455;\n",
              "      --fill-color: #D2E3FC;\n",
              "      --hover-bg-color: #434B5C;\n",
              "      --hover-fill-color: #FFFFFF;\n",
              "      --disabled-bg-color: #3B4455;\n",
              "      --disabled-fill-color: #666;\n",
              "  }\n",
              "\n",
              "  .colab-df-quickchart {\n",
              "    background-color: var(--bg-color);\n",
              "    border: none;\n",
              "    border-radius: 50%;\n",
              "    cursor: pointer;\n",
              "    display: none;\n",
              "    fill: var(--fill-color);\n",
              "    height: 32px;\n",
              "    padding: 0;\n",
              "    width: 32px;\n",
              "  }\n",
              "\n",
              "  .colab-df-quickchart:hover {\n",
              "    background-color: var(--hover-bg-color);\n",
              "    box-shadow: 0 1px 2px rgba(60, 64, 67, 0.3), 0 1px 3px 1px rgba(60, 64, 67, 0.15);\n",
              "    fill: var(--button-hover-fill-color);\n",
              "  }\n",
              "\n",
              "  .colab-df-quickchart-complete:disabled,\n",
              "  .colab-df-quickchart-complete:disabled:hover {\n",
              "    background-color: var(--disabled-bg-color);\n",
              "    fill: var(--disabled-fill-color);\n",
              "    box-shadow: none;\n",
              "  }\n",
              "\n",
              "  .colab-df-spinner {\n",
              "    border: 2px solid var(--fill-color);\n",
              "    border-color: transparent;\n",
              "    border-bottom-color: var(--fill-color);\n",
              "    animation:\n",
              "      spin 1s steps(1) infinite;\n",
              "  }\n",
              "\n",
              "  @keyframes spin {\n",
              "    0% {\n",
              "      border-color: transparent;\n",
              "      border-bottom-color: var(--fill-color);\n",
              "      border-left-color: var(--fill-color);\n",
              "    }\n",
              "    20% {\n",
              "      border-color: transparent;\n",
              "      border-left-color: var(--fill-color);\n",
              "      border-top-color: var(--fill-color);\n",
              "    }\n",
              "    30% {\n",
              "      border-color: transparent;\n",
              "      border-left-color: var(--fill-color);\n",
              "      border-top-color: var(--fill-color);\n",
              "      border-right-color: var(--fill-color);\n",
              "    }\n",
              "    40% {\n",
              "      border-color: transparent;\n",
              "      border-right-color: var(--fill-color);\n",
              "      border-top-color: var(--fill-color);\n",
              "    }\n",
              "    60% {\n",
              "      border-color: transparent;\n",
              "      border-right-color: var(--fill-color);\n",
              "    }\n",
              "    80% {\n",
              "      border-color: transparent;\n",
              "      border-right-color: var(--fill-color);\n",
              "      border-bottom-color: var(--fill-color);\n",
              "    }\n",
              "    90% {\n",
              "      border-color: transparent;\n",
              "      border-bottom-color: var(--fill-color);\n",
              "    }\n",
              "  }\n",
              "</style>\n",
              "\n",
              "  <script>\n",
              "    async function quickchart(key) {\n",
              "      const quickchartButtonEl =\n",
              "        document.querySelector('#' + key + ' button');\n",
              "      quickchartButtonEl.disabled = true;  // To prevent multiple clicks.\n",
              "      quickchartButtonEl.classList.add('colab-df-spinner');\n",
              "      try {\n",
              "        const charts = await google.colab.kernel.invokeFunction(\n",
              "            'suggestCharts', [key], {});\n",
              "      } catch (error) {\n",
              "        console.error('Error during call to suggestCharts:', error);\n",
              "      }\n",
              "      quickchartButtonEl.classList.remove('colab-df-spinner');\n",
              "      quickchartButtonEl.classList.add('colab-df-quickchart-complete');\n",
              "    }\n",
              "    (() => {\n",
              "      let quickchartButtonEl =\n",
              "        document.querySelector('#df-8ed7c121-7967-49b4-b1af-5556d2f5f639 button');\n",
              "      quickchartButtonEl.style.display =\n",
              "        google.colab.kernel.accessAllowed ? 'block' : 'none';\n",
              "    })();\n",
              "  </script>\n",
              "</div>\n",
              "\n",
              "    </div>\n",
              "  </div>\n"
            ],
            "application/vnd.google.colaboratory.intrinsic+json": {
              "type": "dataframe"
            }
          },
          "metadata": {},
          "execution_count": 10
        }
      ]
    },
    {
      "cell_type": "markdown",
      "source": [
        "*I recommend droping these rows because we cannot tell what item is being sold. In order for our anaylsis to be accurate we cannot have unidentified items.*"
      ],
      "metadata": {
        "id": "oDmzlHO8cjWG"
      }
    },
    {
      "cell_type": "markdown",
      "source": [
        "10. Perform the action that you recommended above. How many rows are left in the data frame?"
      ],
      "metadata": {
        "id": "6XaYZ2YoMV4I"
      }
    },
    {
      "cell_type": "code",
      "source": [
        "df_cleaned = df_cleaned.dropna(subset=['StockItemID', 'Description'], how='all')\n",
        "remaining_rows = df_cleaned.shape[0]\n",
        "\n",
        "remaining_rows\n"
      ],
      "metadata": {
        "colab": {
          "base_uri": "https://localhost:8080/"
        },
        "id": "291A5sxTdGWC",
        "outputId": "86bb3657-8c55-42b8-f72e-ebfa4aeb0845"
      },
      "execution_count": null,
      "outputs": [
        {
          "output_type": "execute_result",
          "data": {
            "text/plain": [
              "230087"
            ]
          },
          "metadata": {},
          "execution_count": 84
        }
      ]
    },
    {
      "cell_type": "markdown",
      "source": [
        "11. Observe the TaxRate column, which contains some negative values. Based on your domain knowledge and best guess of what tax rates should be, which of the following actions might you recommend for preparing this data set for analysis?"
      ],
      "metadata": {
        "id": "DbNp-Kq4MZO7"
      }
    },
    {
      "cell_type": "code",
      "source": [
        "df_cleaned[['TaxRate']]"
      ],
      "metadata": {
        "colab": {
          "base_uri": "https://localhost:8080/",
          "height": 423
        },
        "id": "GxflvnX73jLN",
        "outputId": "7e7ecdb7-4dc4-4580-d9c4-1f932a7043ce"
      },
      "execution_count": null,
      "outputs": [
        {
          "output_type": "execute_result",
          "data": {
            "text/plain": [
              "        TaxRate\n",
              "0            15\n",
              "1            15\n",
              "2            15\n",
              "3            15\n",
              "4            15\n",
              "...         ...\n",
              "230543       15\n",
              "230544       15\n",
              "230545       15\n",
              "230546       15\n",
              "230547       15\n",
              "\n",
              "[230087 rows x 1 columns]"
            ],
            "text/html": [
              "\n",
              "  <div id=\"df-98112af7-b5d8-43ad-b77f-977a2979f7d6\" class=\"colab-df-container\">\n",
              "    <div>\n",
              "<style scoped>\n",
              "    .dataframe tbody tr th:only-of-type {\n",
              "        vertical-align: middle;\n",
              "    }\n",
              "\n",
              "    .dataframe tbody tr th {\n",
              "        vertical-align: top;\n",
              "    }\n",
              "\n",
              "    .dataframe thead th {\n",
              "        text-align: right;\n",
              "    }\n",
              "</style>\n",
              "<table border=\"1\" class=\"dataframe\">\n",
              "  <thead>\n",
              "    <tr style=\"text-align: right;\">\n",
              "      <th></th>\n",
              "      <th>TaxRate</th>\n",
              "    </tr>\n",
              "  </thead>\n",
              "  <tbody>\n",
              "    <tr>\n",
              "      <th>0</th>\n",
              "      <td>15</td>\n",
              "    </tr>\n",
              "    <tr>\n",
              "      <th>1</th>\n",
              "      <td>15</td>\n",
              "    </tr>\n",
              "    <tr>\n",
              "      <th>2</th>\n",
              "      <td>15</td>\n",
              "    </tr>\n",
              "    <tr>\n",
              "      <th>3</th>\n",
              "      <td>15</td>\n",
              "    </tr>\n",
              "    <tr>\n",
              "      <th>4</th>\n",
              "      <td>15</td>\n",
              "    </tr>\n",
              "    <tr>\n",
              "      <th>...</th>\n",
              "      <td>...</td>\n",
              "    </tr>\n",
              "    <tr>\n",
              "      <th>230543</th>\n",
              "      <td>15</td>\n",
              "    </tr>\n",
              "    <tr>\n",
              "      <th>230544</th>\n",
              "      <td>15</td>\n",
              "    </tr>\n",
              "    <tr>\n",
              "      <th>230545</th>\n",
              "      <td>15</td>\n",
              "    </tr>\n",
              "    <tr>\n",
              "      <th>230546</th>\n",
              "      <td>15</td>\n",
              "    </tr>\n",
              "    <tr>\n",
              "      <th>230547</th>\n",
              "      <td>15</td>\n",
              "    </tr>\n",
              "  </tbody>\n",
              "</table>\n",
              "<p>230087 rows × 1 columns</p>\n",
              "</div>\n",
              "    <div class=\"colab-df-buttons\">\n",
              "\n",
              "  <div class=\"colab-df-container\">\n",
              "    <button class=\"colab-df-convert\" onclick=\"convertToInteractive('df-98112af7-b5d8-43ad-b77f-977a2979f7d6')\"\n",
              "            title=\"Convert this dataframe to an interactive table.\"\n",
              "            style=\"display:none;\">\n",
              "\n",
              "  <svg xmlns=\"http://www.w3.org/2000/svg\" height=\"24px\" viewBox=\"0 -960 960 960\">\n",
              "    <path d=\"M120-120v-720h720v720H120Zm60-500h600v-160H180v160Zm220 220h160v-160H400v160Zm0 220h160v-160H400v160ZM180-400h160v-160H180v160Zm440 0h160v-160H620v160ZM180-180h160v-160H180v160Zm440 0h160v-160H620v160Z\"/>\n",
              "  </svg>\n",
              "    </button>\n",
              "\n",
              "  <style>\n",
              "    .colab-df-container {\n",
              "      display:flex;\n",
              "      gap: 12px;\n",
              "    }\n",
              "\n",
              "    .colab-df-convert {\n",
              "      background-color: #E8F0FE;\n",
              "      border: none;\n",
              "      border-radius: 50%;\n",
              "      cursor: pointer;\n",
              "      display: none;\n",
              "      fill: #1967D2;\n",
              "      height: 32px;\n",
              "      padding: 0 0 0 0;\n",
              "      width: 32px;\n",
              "    }\n",
              "\n",
              "    .colab-df-convert:hover {\n",
              "      background-color: #E2EBFA;\n",
              "      box-shadow: 0px 1px 2px rgba(60, 64, 67, 0.3), 0px 1px 3px 1px rgba(60, 64, 67, 0.15);\n",
              "      fill: #174EA6;\n",
              "    }\n",
              "\n",
              "    .colab-df-buttons div {\n",
              "      margin-bottom: 4px;\n",
              "    }\n",
              "\n",
              "    [theme=dark] .colab-df-convert {\n",
              "      background-color: #3B4455;\n",
              "      fill: #D2E3FC;\n",
              "    }\n",
              "\n",
              "    [theme=dark] .colab-df-convert:hover {\n",
              "      background-color: #434B5C;\n",
              "      box-shadow: 0px 1px 3px 1px rgba(0, 0, 0, 0.15);\n",
              "      filter: drop-shadow(0px 1px 2px rgba(0, 0, 0, 0.3));\n",
              "      fill: #FFFFFF;\n",
              "    }\n",
              "  </style>\n",
              "\n",
              "    <script>\n",
              "      const buttonEl =\n",
              "        document.querySelector('#df-98112af7-b5d8-43ad-b77f-977a2979f7d6 button.colab-df-convert');\n",
              "      buttonEl.style.display =\n",
              "        google.colab.kernel.accessAllowed ? 'block' : 'none';\n",
              "\n",
              "      async function convertToInteractive(key) {\n",
              "        const element = document.querySelector('#df-98112af7-b5d8-43ad-b77f-977a2979f7d6');\n",
              "        const dataTable =\n",
              "          await google.colab.kernel.invokeFunction('convertToInteractive',\n",
              "                                                    [key], {});\n",
              "        if (!dataTable) return;\n",
              "\n",
              "        const docLinkHtml = 'Like what you see? Visit the ' +\n",
              "          '<a target=\"_blank\" href=https://colab.research.google.com/notebooks/data_table.ipynb>data table notebook</a>'\n",
              "          + ' to learn more about interactive tables.';\n",
              "        element.innerHTML = '';\n",
              "        dataTable['output_type'] = 'display_data';\n",
              "        await google.colab.output.renderOutput(dataTable, element);\n",
              "        const docLink = document.createElement('div');\n",
              "        docLink.innerHTML = docLinkHtml;\n",
              "        element.appendChild(docLink);\n",
              "      }\n",
              "    </script>\n",
              "  </div>\n",
              "\n",
              "\n",
              "<div id=\"df-08910637-a90b-4141-9e6a-03e47de4392e\">\n",
              "  <button class=\"colab-df-quickchart\" onclick=\"quickchart('df-08910637-a90b-4141-9e6a-03e47de4392e')\"\n",
              "            title=\"Suggest charts\"\n",
              "            style=\"display:none;\">\n",
              "\n",
              "<svg xmlns=\"http://www.w3.org/2000/svg\" height=\"24px\"viewBox=\"0 0 24 24\"\n",
              "     width=\"24px\">\n",
              "    <g>\n",
              "        <path d=\"M19 3H5c-1.1 0-2 .9-2 2v14c0 1.1.9 2 2 2h14c1.1 0 2-.9 2-2V5c0-1.1-.9-2-2-2zM9 17H7v-7h2v7zm4 0h-2V7h2v10zm4 0h-2v-4h2v4z\"/>\n",
              "    </g>\n",
              "</svg>\n",
              "  </button>\n",
              "\n",
              "<style>\n",
              "  .colab-df-quickchart {\n",
              "      --bg-color: #E8F0FE;\n",
              "      --fill-color: #1967D2;\n",
              "      --hover-bg-color: #E2EBFA;\n",
              "      --hover-fill-color: #174EA6;\n",
              "      --disabled-fill-color: #AAA;\n",
              "      --disabled-bg-color: #DDD;\n",
              "  }\n",
              "\n",
              "  [theme=dark] .colab-df-quickchart {\n",
              "      --bg-color: #3B4455;\n",
              "      --fill-color: #D2E3FC;\n",
              "      --hover-bg-color: #434B5C;\n",
              "      --hover-fill-color: #FFFFFF;\n",
              "      --disabled-bg-color: #3B4455;\n",
              "      --disabled-fill-color: #666;\n",
              "  }\n",
              "\n",
              "  .colab-df-quickchart {\n",
              "    background-color: var(--bg-color);\n",
              "    border: none;\n",
              "    border-radius: 50%;\n",
              "    cursor: pointer;\n",
              "    display: none;\n",
              "    fill: var(--fill-color);\n",
              "    height: 32px;\n",
              "    padding: 0;\n",
              "    width: 32px;\n",
              "  }\n",
              "\n",
              "  .colab-df-quickchart:hover {\n",
              "    background-color: var(--hover-bg-color);\n",
              "    box-shadow: 0 1px 2px rgba(60, 64, 67, 0.3), 0 1px 3px 1px rgba(60, 64, 67, 0.15);\n",
              "    fill: var(--button-hover-fill-color);\n",
              "  }\n",
              "\n",
              "  .colab-df-quickchart-complete:disabled,\n",
              "  .colab-df-quickchart-complete:disabled:hover {\n",
              "    background-color: var(--disabled-bg-color);\n",
              "    fill: var(--disabled-fill-color);\n",
              "    box-shadow: none;\n",
              "  }\n",
              "\n",
              "  .colab-df-spinner {\n",
              "    border: 2px solid var(--fill-color);\n",
              "    border-color: transparent;\n",
              "    border-bottom-color: var(--fill-color);\n",
              "    animation:\n",
              "      spin 1s steps(1) infinite;\n",
              "  }\n",
              "\n",
              "  @keyframes spin {\n",
              "    0% {\n",
              "      border-color: transparent;\n",
              "      border-bottom-color: var(--fill-color);\n",
              "      border-left-color: var(--fill-color);\n",
              "    }\n",
              "    20% {\n",
              "      border-color: transparent;\n",
              "      border-left-color: var(--fill-color);\n",
              "      border-top-color: var(--fill-color);\n",
              "    }\n",
              "    30% {\n",
              "      border-color: transparent;\n",
              "      border-left-color: var(--fill-color);\n",
              "      border-top-color: var(--fill-color);\n",
              "      border-right-color: var(--fill-color);\n",
              "    }\n",
              "    40% {\n",
              "      border-color: transparent;\n",
              "      border-right-color: var(--fill-color);\n",
              "      border-top-color: var(--fill-color);\n",
              "    }\n",
              "    60% {\n",
              "      border-color: transparent;\n",
              "      border-right-color: var(--fill-color);\n",
              "    }\n",
              "    80% {\n",
              "      border-color: transparent;\n",
              "      border-right-color: var(--fill-color);\n",
              "      border-bottom-color: var(--fill-color);\n",
              "    }\n",
              "    90% {\n",
              "      border-color: transparent;\n",
              "      border-bottom-color: var(--fill-color);\n",
              "    }\n",
              "  }\n",
              "</style>\n",
              "\n",
              "  <script>\n",
              "    async function quickchart(key) {\n",
              "      const quickchartButtonEl =\n",
              "        document.querySelector('#' + key + ' button');\n",
              "      quickchartButtonEl.disabled = true;  // To prevent multiple clicks.\n",
              "      quickchartButtonEl.classList.add('colab-df-spinner');\n",
              "      try {\n",
              "        const charts = await google.colab.kernel.invokeFunction(\n",
              "            'suggestCharts', [key], {});\n",
              "      } catch (error) {\n",
              "        console.error('Error during call to suggestCharts:', error);\n",
              "      }\n",
              "      quickchartButtonEl.classList.remove('colab-df-spinner');\n",
              "      quickchartButtonEl.classList.add('colab-df-quickchart-complete');\n",
              "    }\n",
              "    (() => {\n",
              "      let quickchartButtonEl =\n",
              "        document.querySelector('#df-08910637-a90b-4141-9e6a-03e47de4392e button');\n",
              "      quickchartButtonEl.style.display =\n",
              "        google.colab.kernel.accessAllowed ? 'block' : 'none';\n",
              "    })();\n",
              "  </script>\n",
              "</div>\n",
              "\n",
              "    </div>\n",
              "  </div>\n"
            ],
            "application/vnd.google.colaboratory.intrinsic+json": {
              "type": "dataframe"
            }
          },
          "metadata": {},
          "execution_count": 12
        }
      ]
    },
    {
      "cell_type": "code",
      "source": [
        "negative_taxrate_count = (df_cleaned['TaxRate'] < 0).sum()\n",
        "negative_taxrate_values = df_cleaned[df_cleaned['TaxRate'] < 0]['TaxRate'].unique()\n",
        "\n",
        "negative_taxrate_count, negative_taxrate_values\n"
      ],
      "metadata": {
        "colab": {
          "base_uri": "https://localhost:8080/"
        },
        "id": "WyHfksbTdjbx",
        "outputId": "7ae1b5ab-c24f-4273-8ca1-e6dfc7ba9eca"
      },
      "execution_count": null,
      "outputs": [
        {
          "output_type": "execute_result",
          "data": {
            "text/plain": [
              "(np.int64(3946), array([-15, -10]))"
            ]
          },
          "metadata": {},
          "execution_count": 13
        }
      ]
    },
    {
      "cell_type": "markdown",
      "source": [
        "*Negative tax rates are all -15 and -10, we should update all negative tax rates by adding -1 to them in order to make them positive*"
      ],
      "metadata": {
        "id": "f_UojfrBdY_x"
      }
    },
    {
      "cell_type": "markdown",
      "source": [
        "12. Perform the action that you recommended above. What is the average TaxRate?"
      ],
      "metadata": {
        "id": "64uYZ4-LMcAw"
      }
    },
    {
      "cell_type": "code",
      "source": [
        "\n",
        "df['TaxRate'] = df['TaxRate'].abs()\n",
        "\n",
        "average_tax_rate = df['TaxRate'].mean()\n",
        "round(average_tax_rate,2)\n",
        "\n"
      ],
      "metadata": {
        "colab": {
          "base_uri": "https://localhost:8080/"
        },
        "id": "TDxH_8Mg8xEC",
        "outputId": "b19f9673-ff09-431e-9f19-29684454bf1f"
      },
      "execution_count": null,
      "outputs": [
        {
          "output_type": "execute_result",
          "data": {
            "text/plain": [
              "np.float64(14.98)"
            ]
          },
          "metadata": {},
          "execution_count": 86
        }
      ]
    },
    {
      "cell_type": "markdown",
      "source": [
        "13. Observe the column TaxAmount, which indicates the amount of tax paid for each invoice line. The TaxAmount can be calculated using the following formula:\n",
        "\n",
        "Tax Amount = unit price * Quanitity * tax rate / 100\n",
        "\n",
        "Based on this knowledge, the number of null values in the data set, and the questions being asked by the executives, what do you recommend doing to remove null values from this column?"
      ],
      "metadata": {
        "id": "NkcoiEE3Mecu"
      }
    },
    {
      "cell_type": "code",
      "source": [
        "df_cleaned[['TaxAmount']]"
      ],
      "metadata": {
        "colab": {
          "base_uri": "https://localhost:8080/",
          "height": 423
        },
        "id": "Ws5KwOab5lZa",
        "outputId": "051d5dba-e64c-4b1e-f4c9-4c96f35522cb"
      },
      "execution_count": null,
      "outputs": [
        {
          "output_type": "execute_result",
          "data": {
            "text/plain": [
              "        TaxAmount\n",
              "0          345.00\n",
              "1             NaN\n",
              "2           43.20\n",
              "3             NaN\n",
              "4             NaN\n",
              "...           ...\n",
              "230543      27.00\n",
              "230544        NaN\n",
              "230545        NaN\n",
              "230546       1.95\n",
              "230547        NaN\n",
              "\n",
              "[230087 rows x 1 columns]"
            ],
            "text/html": [
              "\n",
              "  <div id=\"df-935111e5-5496-4f4d-a5ed-19a1c613f0c8\" class=\"colab-df-container\">\n",
              "    <div>\n",
              "<style scoped>\n",
              "    .dataframe tbody tr th:only-of-type {\n",
              "        vertical-align: middle;\n",
              "    }\n",
              "\n",
              "    .dataframe tbody tr th {\n",
              "        vertical-align: top;\n",
              "    }\n",
              "\n",
              "    .dataframe thead th {\n",
              "        text-align: right;\n",
              "    }\n",
              "</style>\n",
              "<table border=\"1\" class=\"dataframe\">\n",
              "  <thead>\n",
              "    <tr style=\"text-align: right;\">\n",
              "      <th></th>\n",
              "      <th>TaxAmount</th>\n",
              "    </tr>\n",
              "  </thead>\n",
              "  <tbody>\n",
              "    <tr>\n",
              "      <th>0</th>\n",
              "      <td>345.00</td>\n",
              "    </tr>\n",
              "    <tr>\n",
              "      <th>1</th>\n",
              "      <td>NaN</td>\n",
              "    </tr>\n",
              "    <tr>\n",
              "      <th>2</th>\n",
              "      <td>43.20</td>\n",
              "    </tr>\n",
              "    <tr>\n",
              "      <th>3</th>\n",
              "      <td>NaN</td>\n",
              "    </tr>\n",
              "    <tr>\n",
              "      <th>4</th>\n",
              "      <td>NaN</td>\n",
              "    </tr>\n",
              "    <tr>\n",
              "      <th>...</th>\n",
              "      <td>...</td>\n",
              "    </tr>\n",
              "    <tr>\n",
              "      <th>230543</th>\n",
              "      <td>27.00</td>\n",
              "    </tr>\n",
              "    <tr>\n",
              "      <th>230544</th>\n",
              "      <td>NaN</td>\n",
              "    </tr>\n",
              "    <tr>\n",
              "      <th>230545</th>\n",
              "      <td>NaN</td>\n",
              "    </tr>\n",
              "    <tr>\n",
              "      <th>230546</th>\n",
              "      <td>1.95</td>\n",
              "    </tr>\n",
              "    <tr>\n",
              "      <th>230547</th>\n",
              "      <td>NaN</td>\n",
              "    </tr>\n",
              "  </tbody>\n",
              "</table>\n",
              "<p>230087 rows × 1 columns</p>\n",
              "</div>\n",
              "    <div class=\"colab-df-buttons\">\n",
              "\n",
              "  <div class=\"colab-df-container\">\n",
              "    <button class=\"colab-df-convert\" onclick=\"convertToInteractive('df-935111e5-5496-4f4d-a5ed-19a1c613f0c8')\"\n",
              "            title=\"Convert this dataframe to an interactive table.\"\n",
              "            style=\"display:none;\">\n",
              "\n",
              "  <svg xmlns=\"http://www.w3.org/2000/svg\" height=\"24px\" viewBox=\"0 -960 960 960\">\n",
              "    <path d=\"M120-120v-720h720v720H120Zm60-500h600v-160H180v160Zm220 220h160v-160H400v160Zm0 220h160v-160H400v160ZM180-400h160v-160H180v160Zm440 0h160v-160H620v160ZM180-180h160v-160H180v160Zm440 0h160v-160H620v160Z\"/>\n",
              "  </svg>\n",
              "    </button>\n",
              "\n",
              "  <style>\n",
              "    .colab-df-container {\n",
              "      display:flex;\n",
              "      gap: 12px;\n",
              "    }\n",
              "\n",
              "    .colab-df-convert {\n",
              "      background-color: #E8F0FE;\n",
              "      border: none;\n",
              "      border-radius: 50%;\n",
              "      cursor: pointer;\n",
              "      display: none;\n",
              "      fill: #1967D2;\n",
              "      height: 32px;\n",
              "      padding: 0 0 0 0;\n",
              "      width: 32px;\n",
              "    }\n",
              "\n",
              "    .colab-df-convert:hover {\n",
              "      background-color: #E2EBFA;\n",
              "      box-shadow: 0px 1px 2px rgba(60, 64, 67, 0.3), 0px 1px 3px 1px rgba(60, 64, 67, 0.15);\n",
              "      fill: #174EA6;\n",
              "    }\n",
              "\n",
              "    .colab-df-buttons div {\n",
              "      margin-bottom: 4px;\n",
              "    }\n",
              "\n",
              "    [theme=dark] .colab-df-convert {\n",
              "      background-color: #3B4455;\n",
              "      fill: #D2E3FC;\n",
              "    }\n",
              "\n",
              "    [theme=dark] .colab-df-convert:hover {\n",
              "      background-color: #434B5C;\n",
              "      box-shadow: 0px 1px 3px 1px rgba(0, 0, 0, 0.15);\n",
              "      filter: drop-shadow(0px 1px 2px rgba(0, 0, 0, 0.3));\n",
              "      fill: #FFFFFF;\n",
              "    }\n",
              "  </style>\n",
              "\n",
              "    <script>\n",
              "      const buttonEl =\n",
              "        document.querySelector('#df-935111e5-5496-4f4d-a5ed-19a1c613f0c8 button.colab-df-convert');\n",
              "      buttonEl.style.display =\n",
              "        google.colab.kernel.accessAllowed ? 'block' : 'none';\n",
              "\n",
              "      async function convertToInteractive(key) {\n",
              "        const element = document.querySelector('#df-935111e5-5496-4f4d-a5ed-19a1c613f0c8');\n",
              "        const dataTable =\n",
              "          await google.colab.kernel.invokeFunction('convertToInteractive',\n",
              "                                                    [key], {});\n",
              "        if (!dataTable) return;\n",
              "\n",
              "        const docLinkHtml = 'Like what you see? Visit the ' +\n",
              "          '<a target=\"_blank\" href=https://colab.research.google.com/notebooks/data_table.ipynb>data table notebook</a>'\n",
              "          + ' to learn more about interactive tables.';\n",
              "        element.innerHTML = '';\n",
              "        dataTable['output_type'] = 'display_data';\n",
              "        await google.colab.output.renderOutput(dataTable, element);\n",
              "        const docLink = document.createElement('div');\n",
              "        docLink.innerHTML = docLinkHtml;\n",
              "        element.appendChild(docLink);\n",
              "      }\n",
              "    </script>\n",
              "  </div>\n",
              "\n",
              "\n",
              "<div id=\"df-e8d95df5-2e18-4c48-a354-989b84a7a807\">\n",
              "  <button class=\"colab-df-quickchart\" onclick=\"quickchart('df-e8d95df5-2e18-4c48-a354-989b84a7a807')\"\n",
              "            title=\"Suggest charts\"\n",
              "            style=\"display:none;\">\n",
              "\n",
              "<svg xmlns=\"http://www.w3.org/2000/svg\" height=\"24px\"viewBox=\"0 0 24 24\"\n",
              "     width=\"24px\">\n",
              "    <g>\n",
              "        <path d=\"M19 3H5c-1.1 0-2 .9-2 2v14c0 1.1.9 2 2 2h14c1.1 0 2-.9 2-2V5c0-1.1-.9-2-2-2zM9 17H7v-7h2v7zm4 0h-2V7h2v10zm4 0h-2v-4h2v4z\"/>\n",
              "    </g>\n",
              "</svg>\n",
              "  </button>\n",
              "\n",
              "<style>\n",
              "  .colab-df-quickchart {\n",
              "      --bg-color: #E8F0FE;\n",
              "      --fill-color: #1967D2;\n",
              "      --hover-bg-color: #E2EBFA;\n",
              "      --hover-fill-color: #174EA6;\n",
              "      --disabled-fill-color: #AAA;\n",
              "      --disabled-bg-color: #DDD;\n",
              "  }\n",
              "\n",
              "  [theme=dark] .colab-df-quickchart {\n",
              "      --bg-color: #3B4455;\n",
              "      --fill-color: #D2E3FC;\n",
              "      --hover-bg-color: #434B5C;\n",
              "      --hover-fill-color: #FFFFFF;\n",
              "      --disabled-bg-color: #3B4455;\n",
              "      --disabled-fill-color: #666;\n",
              "  }\n",
              "\n",
              "  .colab-df-quickchart {\n",
              "    background-color: var(--bg-color);\n",
              "    border: none;\n",
              "    border-radius: 50%;\n",
              "    cursor: pointer;\n",
              "    display: none;\n",
              "    fill: var(--fill-color);\n",
              "    height: 32px;\n",
              "    padding: 0;\n",
              "    width: 32px;\n",
              "  }\n",
              "\n",
              "  .colab-df-quickchart:hover {\n",
              "    background-color: var(--hover-bg-color);\n",
              "    box-shadow: 0 1px 2px rgba(60, 64, 67, 0.3), 0 1px 3px 1px rgba(60, 64, 67, 0.15);\n",
              "    fill: var(--button-hover-fill-color);\n",
              "  }\n",
              "\n",
              "  .colab-df-quickchart-complete:disabled,\n",
              "  .colab-df-quickchart-complete:disabled:hover {\n",
              "    background-color: var(--disabled-bg-color);\n",
              "    fill: var(--disabled-fill-color);\n",
              "    box-shadow: none;\n",
              "  }\n",
              "\n",
              "  .colab-df-spinner {\n",
              "    border: 2px solid var(--fill-color);\n",
              "    border-color: transparent;\n",
              "    border-bottom-color: var(--fill-color);\n",
              "    animation:\n",
              "      spin 1s steps(1) infinite;\n",
              "  }\n",
              "\n",
              "  @keyframes spin {\n",
              "    0% {\n",
              "      border-color: transparent;\n",
              "      border-bottom-color: var(--fill-color);\n",
              "      border-left-color: var(--fill-color);\n",
              "    }\n",
              "    20% {\n",
              "      border-color: transparent;\n",
              "      border-left-color: var(--fill-color);\n",
              "      border-top-color: var(--fill-color);\n",
              "    }\n",
              "    30% {\n",
              "      border-color: transparent;\n",
              "      border-left-color: var(--fill-color);\n",
              "      border-top-color: var(--fill-color);\n",
              "      border-right-color: var(--fill-color);\n",
              "    }\n",
              "    40% {\n",
              "      border-color: transparent;\n",
              "      border-right-color: var(--fill-color);\n",
              "      border-top-color: var(--fill-color);\n",
              "    }\n",
              "    60% {\n",
              "      border-color: transparent;\n",
              "      border-right-color: var(--fill-color);\n",
              "    }\n",
              "    80% {\n",
              "      border-color: transparent;\n",
              "      border-right-color: var(--fill-color);\n",
              "      border-bottom-color: var(--fill-color);\n",
              "    }\n",
              "    90% {\n",
              "      border-color: transparent;\n",
              "      border-bottom-color: var(--fill-color);\n",
              "    }\n",
              "  }\n",
              "</style>\n",
              "\n",
              "  <script>\n",
              "    async function quickchart(key) {\n",
              "      const quickchartButtonEl =\n",
              "        document.querySelector('#' + key + ' button');\n",
              "      quickchartButtonEl.disabled = true;  // To prevent multiple clicks.\n",
              "      quickchartButtonEl.classList.add('colab-df-spinner');\n",
              "      try {\n",
              "        const charts = await google.colab.kernel.invokeFunction(\n",
              "            'suggestCharts', [key], {});\n",
              "      } catch (error) {\n",
              "        console.error('Error during call to suggestCharts:', error);\n",
              "      }\n",
              "      quickchartButtonEl.classList.remove('colab-df-spinner');\n",
              "      quickchartButtonEl.classList.add('colab-df-quickchart-complete');\n",
              "    }\n",
              "    (() => {\n",
              "      let quickchartButtonEl =\n",
              "        document.querySelector('#df-e8d95df5-2e18-4c48-a354-989b84a7a807 button');\n",
              "      quickchartButtonEl.style.display =\n",
              "        google.colab.kernel.accessAllowed ? 'block' : 'none';\n",
              "    })();\n",
              "  </script>\n",
              "</div>\n",
              "\n",
              "    </div>\n",
              "  </div>\n"
            ],
            "application/vnd.google.colaboratory.intrinsic+json": {
              "type": "dataframe"
            }
          },
          "metadata": {},
          "execution_count": 15
        }
      ]
    },
    {
      "cell_type": "markdown",
      "source": [
        "*I would recaluclate the missing tax amount as we have all the data to fix the missing information. we should do everything we can to provide the most up accurate representation of the data.*"
      ],
      "metadata": {
        "id": "1FXQpW8Wfodj"
      }
    },
    {
      "cell_type": "markdown",
      "source": [
        "14. Perform the action that you recommended above. What is the average TaxAmount after removing the null values?"
      ],
      "metadata": {
        "id": "MaJ1t4CeMhW5"
      }
    },
    {
      "cell_type": "code",
      "source": [
        "\n",
        "mask = df_cleaned['TaxAmount'].isna() & df_cleaned['UnitPrice'].notna() & df_cleaned['Quantity'].notna() & df_cleaned['TaxRate'].notna()\n",
        "\n",
        "\n",
        "df_cleaned.loc[mask, 'TaxAmount'] = (\n",
        "    df_cleaned.loc[mask, 'UnitPrice'] *\n",
        "    df_cleaned.loc[mask, 'Quantity'] *\n",
        "    df_cleaned.loc[mask, 'TaxRate'] / 100\n",
        ")\n",
        "average_taxamount = df_cleaned['TaxAmount'].dropna().mean()\n",
        "\n",
        "round(average_taxamount,2)\n"
      ],
      "metadata": {
        "colab": {
          "base_uri": "https://localhost:8080/"
        },
        "id": "off0vAMsgw9S",
        "outputId": "5fd41328-7eb6-4b26-99e6-2e1abd6d5377"
      },
      "execution_count": null,
      "outputs": [
        {
          "output_type": "execute_result",
          "data": {
            "text/plain": [
              "np.float64(112.95)"
            ]
          },
          "metadata": {},
          "execution_count": 16
        }
      ]
    },
    {
      "cell_type": "markdown",
      "source": [
        "15. Observe the column ExtendedPrice, which indicates the total price paid by the customer. The ExtendedPrice can be calculated using the following formula:\n",
        "\n",
        "extended price = (unitprice * quantity) + tax amount\n",
        "\n",
        "Based on this knowledge, the number of null values in the data set, and the questions being asked by the executives, what do you recommend doing to remove null values from this column?"
      ],
      "metadata": {
        "id": "sk1DgX_HM3ta"
      }
    },
    {
      "cell_type": "markdown",
      "source": [
        "*We should do the same thing as the missing tax amount. Using the unit price and quantity we should use the extended price formula to calculate te missing items*"
      ],
      "metadata": {
        "id": "hz-FQ2tTkqG_"
      }
    },
    {
      "cell_type": "markdown",
      "source": [
        "16. Perform the action that you recommended above. Treat the values of -999 as an input error and perform the recommended action on that value as well. After addressing these issues, what is the average ExtendedPrice?"
      ],
      "metadata": {
        "id": "ZJIy736tNEKZ"
      }
    },
    {
      "cell_type": "code",
      "source": [
        "df_cleaned.loc[df_cleaned['ExtendedPrice'] == -999, 'ExtendedPrice'] = pd.NA #Used chatgpt to help with this part\n",
        "mask = df_cleaned['ExtendedPrice'].isna() & df_cleaned['UnitPrice'].notna() & df_cleaned['Quantity'].notna() & df_cleaned['TaxAmount'].notna()\n",
        "\n",
        "\n",
        "\n",
        "df_cleaned.loc[mask, 'ExtendedPrice'] = (\n",
        "    df_cleaned.loc[mask, 'UnitPrice'] *\n",
        "    df_cleaned.loc[mask, 'Quantity'] +\n",
        "    df_cleaned.loc[mask, 'TaxAmount']\n",
        ")\n",
        "average_extended_price = df_cleaned['ExtendedPrice'].dropna().mean()\n",
        "\n",
        "round(average_extended_price,2)\n"
      ],
      "metadata": {
        "colab": {
          "base_uri": "https://localhost:8080/"
        },
        "id": "mAqG5gIBmIIw",
        "outputId": "553ae4bc-7068-43e9-937c-47a8ed107c07"
      },
      "execution_count": null,
      "outputs": [
        {
          "output_type": "execute_result",
          "data": {
            "text/plain": [
              "np.float64(867.64)"
            ]
          },
          "metadata": {},
          "execution_count": 17
        }
      ]
    },
    {
      "cell_type": "markdown",
      "source": [
        "17. Observe values in the Quantity and ExtendedPrice columns. Use the z-score method with a threshold of 3 to determine which rows are outliers in these columns. Make sure that you get rows that have a z-score greater than or equal to 3.\n",
        "\n",
        "Based on the Quantity column, how many rows could be considered outliers?"
      ],
      "metadata": {
        "id": "zKz-8rY_NGbP"
      }
    },
    {
      "cell_type": "code",
      "source": [
        "#couldnt figure it out, had to use Chatgpt to make it work\n",
        "\n",
        "from scipy.stats import zscore\n",
        "quantity_zscores = zscore(df_cleaned['Quantity'])\n",
        "quantity_outliers = df_cleaned[quantity_zscores >= 3]\n",
        "quantity_outlier_count = quantity_outliers.shape[0]\n",
        "\n",
        "quantity_outlier_count\n"
      ],
      "metadata": {
        "colab": {
          "base_uri": "https://localhost:8080/"
        },
        "id": "otxKyFLWoRmW",
        "outputId": "9643b439-f544-44c4-b789-83d19954a7fb"
      },
      "execution_count": null,
      "outputs": [
        {
          "output_type": "execute_result",
          "data": {
            "text/plain": [
              "5987"
            ]
          },
          "metadata": {},
          "execution_count": 18
        }
      ]
    },
    {
      "cell_type": "markdown",
      "source": [
        "18. Observe values in the Quantity and ExtendedPrice columns. Use the z-score method with a threshold of 3 to determine which rows are outliers in these columns. Make sure that you get rows that have a z-score greater than or equal to 3.\n",
        "\n",
        "Based on the ExtendedPrice column, how many rows could be considered outliers?"
      ],
      "metadata": {
        "id": "Fyl5xS_-NJMi"
      }
    },
    {
      "cell_type": "code",
      "source": [
        "# Used Chatgpt to help find the z-scores\n",
        "extendedprice_zscores = zscore(df_cleaned['ExtendedPrice'].dropna())\n",
        "extendedprice_zscores = pd.Series(extendedprice_zscores, index=df_cleaned['ExtendedPrice'].dropna().index)\n",
        "extendedprice_outliers = df_cleaned.loc[extendedprice_zscores[extendedprice_zscores >= 3].index]\n",
        "extendedprice_outlier_count = extendedprice_outliers.shape[0]\n",
        "extendedprice_outlier_count\n"
      ],
      "metadata": {
        "colab": {
          "base_uri": "https://localhost:8080/"
        },
        "id": "h9442tQfonH7",
        "outputId": "765dd311-4f3b-4757-bfcb-b96abf12ca1e"
      },
      "execution_count": null,
      "outputs": [
        {
          "output_type": "execute_result",
          "data": {
            "text/plain": [
              "4522"
            ]
          },
          "metadata": {},
          "execution_count": 19
        }
      ]
    },
    {
      "cell_type": "markdown",
      "source": [
        "19. Based on your understanding of outliers and the answer above, choose the most appropriate action to handle the outliers in the ExtendedPrice column."
      ],
      "metadata": {
        "id": "2P7eovOANMe-"
      }
    },
    {
      "cell_type": "markdown",
      "source": [
        "*That seems like a really high amount. It could be due to a number of items (over purchases, input error etc), but higher than the standard devation. We should keep them but flag them so they know that these could be pulling our data one way or another.*\n"
      ],
      "metadata": {
        "id": "M5EqDzfjo-RC"
      }
    },
    {
      "cell_type": "markdown",
      "source": [
        "20. The data set provided should have a unique ID for each invoice line, but there can be repeated invoice IDs. This is because several unique invoice lines can share the same invoice ID. Given this information, how would you approach checking for duplicate rows in the data set?"
      ],
      "metadata": {
        "id": "mxkNqnfUNRqO"
      }
    },
    {
      "cell_type": "markdown",
      "source": [
        "*We should search for duplicates using the invoicelineID since it should never be repeated. It is unique to each line items where invoiceId is unique to the invoice.*"
      ],
      "metadata": {
        "id": "l0r4LKZXtZnn"
      }
    },
    {
      "cell_type": "markdown",
      "source": [
        "21. Perform the action that you recommended above and drop duplicate rows from the data set. How many total rows are in the data set after performing this action?"
      ],
      "metadata": {
        "id": "wdZtM3oLNUhZ"
      }
    },
    {
      "cell_type": "code",
      "source": [
        "#find how many pulicates there are\n",
        "duplicate_invoiceline_ids = df_cleaned[df_cleaned.duplicated(subset='InvoiceLineID')]\n",
        "duplicate_invoiceline_count = duplicate_invoiceline_ids.shape[0]\n",
        "duplicate_invoiceline_count\n"
      ],
      "metadata": {
        "colab": {
          "base_uri": "https://localhost:8080/"
        },
        "id": "BDKVMgPfuJyO",
        "outputId": "72950e9a-51e4-46f7-cf72-f416c6ea695a"
      },
      "execution_count": null,
      "outputs": [
        {
          "output_type": "execute_result",
          "data": {
            "text/plain": [
              "2276"
            ]
          },
          "metadata": {},
          "execution_count": 20
        }
      ]
    },
    {
      "cell_type": "code",
      "source": [
        "# remove duplicates\n",
        "df_cleaned = df_cleaned.drop_duplicates(subset='InvoiceLineID', keep='first')\n",
        "remaining_rows_after = df_cleaned.shape[0]\n",
        "remaining_rows_after\n"
      ],
      "metadata": {
        "colab": {
          "base_uri": "https://localhost:8080/"
        },
        "id": "w1nX5EPTuvLM",
        "outputId": "5cc62c7f-9b18-4c04-daef-c0a109985bdf"
      },
      "execution_count": null,
      "outputs": [
        {
          "output_type": "execute_result",
          "data": {
            "text/plain": [
              "227811"
            ]
          },
          "metadata": {},
          "execution_count": 21
        }
      ]
    },
    {
      "cell_type": "markdown",
      "source": [
        "At this point, you should have a data set that is mostly free of null values (only has some null values in the Description column). Use this data set to answer the questions below."
      ],
      "metadata": {
        "id": "SZ__EijBNWxB"
      }
    },
    {
      "cell_type": "code",
      "source": [
        "df_cleaned.to_csv(\"invoices_cleaned.csv\", index=False) # saved cleaned file complete anaylsis with."
      ],
      "metadata": {
        "id": "rR1DW9A1voax"
      },
      "execution_count": null,
      "outputs": []
    },
    {
      "cell_type": "markdown",
      "source": [
        "22.Which item has the highest total quantity sold? Use the Description and Quantity columns."
      ],
      "metadata": {
        "id": "Bf_0wPxovmM4"
      }
    },
    {
      "cell_type": "code",
      "source": [
        "total_quantity_per_item = df_cleaned.groupby('Description')['Quantity'].sum()\n",
        "top_item_description = total_quantity_per_item.idxmax()\n",
        "top_item_quantity = total_quantity_per_item.max()\n",
        "\n",
        "top_item_description, top_item_quantity\n"
      ],
      "metadata": {
        "colab": {
          "base_uri": "https://localhost:8080/"
        },
        "id": "FaRdONYLvjr5",
        "outputId": "cb71e948-572f-4a78-aac4-a13593f3a1dd"
      },
      "execution_count": null,
      "outputs": [
        {
          "output_type": "execute_result",
          "data": {
            "text/plain": [
              "('Black and orange fragile despatch tape 48mmx75m', 207108)"
            ]
          },
          "metadata": {},
          "execution_count": 23
        }
      ]
    },
    {
      "cell_type": "markdown",
      "source": [
        "23. Which item has generated the most total profit? Use the Description and LineProfit columns."
      ],
      "metadata": {
        "id": "IA1HUy8HNZKR"
      }
    },
    {
      "cell_type": "code",
      "source": [
        "total_profit_per_item = df_cleaned.groupby('Description')['LineProfit'].sum()\n",
        "top_profit_item_description = total_profit_per_item.idxmax()\n",
        "top_profit_item_value = total_profit_per_item.max()\n",
        "\n",
        "top_profit_item_description, round(top_profit_item_value, 2)\n"
      ],
      "metadata": {
        "colab": {
          "base_uri": "https://localhost:8080/"
        },
        "id": "BGLdT_CRwbnb",
        "outputId": "9f91201c-cbd2-4d96-fee8-b2c0c83d20c7"
      },
      "execution_count": null,
      "outputs": [
        {
          "output_type": "execute_result",
          "data": {
            "text/plain": [
              "('20 mm Double sided bubble wrap 50m', 5283560.0)"
            ]
          },
          "metadata": {},
          "execution_count": 24
        }
      ]
    },
    {
      "cell_type": "markdown",
      "source": [
        "24. Which item is purchased in greatest quantities in a single order, on average? Use the Quantity and Description columns."
      ],
      "metadata": {
        "id": "p1OGWDWMNbUk"
      }
    },
    {
      "cell_type": "code",
      "source": [
        "avg_quantity_per_item = df_cleaned.groupby('Description')['Quantity'].mean()\n",
        "top_avg_quantity_item = avg_quantity_per_item.idxmax()\n",
        "top_avg_quantity_value = avg_quantity_per_item.max()\n",
        "\n",
        "top_avg_quantity_item, round(top_avg_quantity_value,2)\n"
      ],
      "metadata": {
        "colab": {
          "base_uri": "https://localhost:8080/"
        },
        "id": "2L2LA1-DwnhT",
        "outputId": "93e39c81-bba9-4995-da5b-0f6445b47bf5"
      },
      "execution_count": null,
      "outputs": [
        {
          "output_type": "execute_result",
          "data": {
            "text/plain": [
              "('Black and orange fragile despatch tape 48mmx75m', 199.53)"
            ]
          },
          "metadata": {},
          "execution_count": 25
        }
      ]
    },
    {
      "cell_type": "markdown",
      "source": [
        "#Conclusion\n",
        "\n",
        "After a through cleaning of the data we can see that the most purchases item is teh Black and Orange Fragile Despatch tape (48mm x 75mm). It has sold amost 200 units per invoice when ordered.\n",
        "\n",
        "Knowing what is selling the most will help the purchase managers know what and when to buy more stock."
      ],
      "metadata": {
        "id": "OpjHBDSXwGIP"
      }
    }
  ]
}