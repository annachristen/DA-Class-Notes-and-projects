{
  "nbformat": 4,
  "nbformat_minor": 0,
  "metadata": {
    "colab": {
      "provenance": []
    },
    "kernelspec": {
      "name": "python3",
      "display_name": "Python 3"
    },
    "language_info": {
      "name": "python"
    }
  },
  "cells": [
    {
      "cell_type": "markdown",
      "source": [
        "# Exploratory Data Analysis on Wine Reviews\n",
        "\n",
        "---\n",
        "\n",
        "\n",
        "⌨ Anna Christensen.\n",
        "\n",
        "This analysis explores wine reviews of wines around the world. Specifically, the goal is to determine which country produces the best wine.\n",
        "\n",
        "# About the data\n",
        "The dataset used in this project comprises wine reviews scraped from the Wine Enthusiast website (a magazine and ecommerce business) by Kaggle user zackthoutt during the week of June 15th, 2017. It includes various attributes such as the wine's country of origin, variety, points awarded, price, and detailed descriptions, among others."
      ],
      "metadata": {
        "id": "AK3vbjKSKQy2"
      }
    },
    {
      "cell_type": "code",
      "source": [
        "import pandas as pd\n",
        "df=pd.read_csv('/content/wine.csv')\n",
        "df.head()"
      ],
      "metadata": {
        "colab": {
          "base_uri": "https://localhost:8080/",
          "height": 327
        },
        "id": "QBl4i_QDLuWw",
        "outputId": "175c299e-6541-4296-82e7-62dfa1fe77d9"
      },
      "execution_count": null,
      "outputs": [
        {
          "output_type": "execute_result",
          "data": {
            "text/plain": [
              "    country                                        description  \\\n",
              "0     Italy  Aromas include tropical fruit, broom, brimston...   \n",
              "1  Portugal  This is ripe and fruity, a wine that is smooth...   \n",
              "2        US  Tart and snappy, the flavors of lime flesh and...   \n",
              "3        US  Pineapple rind, lemon pith and orange blossom ...   \n",
              "4        US  Much like the regular bottling from 2012, this...   \n",
              "\n",
              "                          designation  points  price           province  \\\n",
              "0                        Vulkà Bianco      87    NaN  Sicily & Sardinia   \n",
              "1                            Avidagos      87   15.0              Douro   \n",
              "2                                 NaN      87   14.0             Oregon   \n",
              "3                Reserve Late Harvest      87   13.0           Michigan   \n",
              "4  Vintner's Reserve Wild Child Block      87   65.0             Oregon   \n",
              "\n",
              "          taster_name taster_twitter_handle  \\\n",
              "0       Kerin O’Keefe          @kerinokeefe   \n",
              "1          Roger Voss            @vossroger   \n",
              "2        Paul Gregutt           @paulgwine    \n",
              "3  Alexander Peartree                   NaN   \n",
              "4        Paul Gregutt           @paulgwine    \n",
              "\n",
              "                                               title         variety  \\\n",
              "0                  Nicosia 2013 Vulkà Bianco  (Etna)     White Blend   \n",
              "1      Quinta dos Avidagos 2011 Avidagos Red (Douro)  Portuguese Red   \n",
              "2      Rainstorm 2013 Pinot Gris (Willamette Valley)      Pinot Gris   \n",
              "3  St. Julian 2013 Reserve Late Harvest Riesling ...        Riesling   \n",
              "4  Sweet Cheeks 2012 Vintner's Reserve Wild Child...      Pinot Noir   \n",
              "\n",
              "                winery  \n",
              "0              Nicosia  \n",
              "1  Quinta dos Avidagos  \n",
              "2            Rainstorm  \n",
              "3           St. Julian  \n",
              "4         Sweet Cheeks  "
            ],
            "text/html": [
              "\n",
              "  <div id=\"df-ffacc4a3-6e12-4807-bbd5-8d251d1a0e8d\" class=\"colab-df-container\">\n",
              "    <div>\n",
              "<style scoped>\n",
              "    .dataframe tbody tr th:only-of-type {\n",
              "        vertical-align: middle;\n",
              "    }\n",
              "\n",
              "    .dataframe tbody tr th {\n",
              "        vertical-align: top;\n",
              "    }\n",
              "\n",
              "    .dataframe thead th {\n",
              "        text-align: right;\n",
              "    }\n",
              "</style>\n",
              "<table border=\"1\" class=\"dataframe\">\n",
              "  <thead>\n",
              "    <tr style=\"text-align: right;\">\n",
              "      <th></th>\n",
              "      <th>country</th>\n",
              "      <th>description</th>\n",
              "      <th>designation</th>\n",
              "      <th>points</th>\n",
              "      <th>price</th>\n",
              "      <th>province</th>\n",
              "      <th>taster_name</th>\n",
              "      <th>taster_twitter_handle</th>\n",
              "      <th>title</th>\n",
              "      <th>variety</th>\n",
              "      <th>winery</th>\n",
              "    </tr>\n",
              "  </thead>\n",
              "  <tbody>\n",
              "    <tr>\n",
              "      <th>0</th>\n",
              "      <td>Italy</td>\n",
              "      <td>Aromas include tropical fruit, broom, brimston...</td>\n",
              "      <td>Vulkà Bianco</td>\n",
              "      <td>87</td>\n",
              "      <td>NaN</td>\n",
              "      <td>Sicily &amp; Sardinia</td>\n",
              "      <td>Kerin O’Keefe</td>\n",
              "      <td>@kerinokeefe</td>\n",
              "      <td>Nicosia 2013 Vulkà Bianco  (Etna)</td>\n",
              "      <td>White Blend</td>\n",
              "      <td>Nicosia</td>\n",
              "    </tr>\n",
              "    <tr>\n",
              "      <th>1</th>\n",
              "      <td>Portugal</td>\n",
              "      <td>This is ripe and fruity, a wine that is smooth...</td>\n",
              "      <td>Avidagos</td>\n",
              "      <td>87</td>\n",
              "      <td>15.0</td>\n",
              "      <td>Douro</td>\n",
              "      <td>Roger Voss</td>\n",
              "      <td>@vossroger</td>\n",
              "      <td>Quinta dos Avidagos 2011 Avidagos Red (Douro)</td>\n",
              "      <td>Portuguese Red</td>\n",
              "      <td>Quinta dos Avidagos</td>\n",
              "    </tr>\n",
              "    <tr>\n",
              "      <th>2</th>\n",
              "      <td>US</td>\n",
              "      <td>Tart and snappy, the flavors of lime flesh and...</td>\n",
              "      <td>NaN</td>\n",
              "      <td>87</td>\n",
              "      <td>14.0</td>\n",
              "      <td>Oregon</td>\n",
              "      <td>Paul Gregutt</td>\n",
              "      <td>@paulgwine</td>\n",
              "      <td>Rainstorm 2013 Pinot Gris (Willamette Valley)</td>\n",
              "      <td>Pinot Gris</td>\n",
              "      <td>Rainstorm</td>\n",
              "    </tr>\n",
              "    <tr>\n",
              "      <th>3</th>\n",
              "      <td>US</td>\n",
              "      <td>Pineapple rind, lemon pith and orange blossom ...</td>\n",
              "      <td>Reserve Late Harvest</td>\n",
              "      <td>87</td>\n",
              "      <td>13.0</td>\n",
              "      <td>Michigan</td>\n",
              "      <td>Alexander Peartree</td>\n",
              "      <td>NaN</td>\n",
              "      <td>St. Julian 2013 Reserve Late Harvest Riesling ...</td>\n",
              "      <td>Riesling</td>\n",
              "      <td>St. Julian</td>\n",
              "    </tr>\n",
              "    <tr>\n",
              "      <th>4</th>\n",
              "      <td>US</td>\n",
              "      <td>Much like the regular bottling from 2012, this...</td>\n",
              "      <td>Vintner's Reserve Wild Child Block</td>\n",
              "      <td>87</td>\n",
              "      <td>65.0</td>\n",
              "      <td>Oregon</td>\n",
              "      <td>Paul Gregutt</td>\n",
              "      <td>@paulgwine</td>\n",
              "      <td>Sweet Cheeks 2012 Vintner's Reserve Wild Child...</td>\n",
              "      <td>Pinot Noir</td>\n",
              "      <td>Sweet Cheeks</td>\n",
              "    </tr>\n",
              "  </tbody>\n",
              "</table>\n",
              "</div>\n",
              "    <div class=\"colab-df-buttons\">\n",
              "\n",
              "  <div class=\"colab-df-container\">\n",
              "    <button class=\"colab-df-convert\" onclick=\"convertToInteractive('df-ffacc4a3-6e12-4807-bbd5-8d251d1a0e8d')\"\n",
              "            title=\"Convert this dataframe to an interactive table.\"\n",
              "            style=\"display:none;\">\n",
              "\n",
              "  <svg xmlns=\"http://www.w3.org/2000/svg\" height=\"24px\" viewBox=\"0 -960 960 960\">\n",
              "    <path d=\"M120-120v-720h720v720H120Zm60-500h600v-160H180v160Zm220 220h160v-160H400v160Zm0 220h160v-160H400v160ZM180-400h160v-160H180v160Zm440 0h160v-160H620v160ZM180-180h160v-160H180v160Zm440 0h160v-160H620v160Z\"/>\n",
              "  </svg>\n",
              "    </button>\n",
              "\n",
              "  <style>\n",
              "    .colab-df-container {\n",
              "      display:flex;\n",
              "      gap: 12px;\n",
              "    }\n",
              "\n",
              "    .colab-df-convert {\n",
              "      background-color: #E8F0FE;\n",
              "      border: none;\n",
              "      border-radius: 50%;\n",
              "      cursor: pointer;\n",
              "      display: none;\n",
              "      fill: #1967D2;\n",
              "      height: 32px;\n",
              "      padding: 0 0 0 0;\n",
              "      width: 32px;\n",
              "    }\n",
              "\n",
              "    .colab-df-convert:hover {\n",
              "      background-color: #E2EBFA;\n",
              "      box-shadow: 0px 1px 2px rgba(60, 64, 67, 0.3), 0px 1px 3px 1px rgba(60, 64, 67, 0.15);\n",
              "      fill: #174EA6;\n",
              "    }\n",
              "\n",
              "    .colab-df-buttons div {\n",
              "      margin-bottom: 4px;\n",
              "    }\n",
              "\n",
              "    [theme=dark] .colab-df-convert {\n",
              "      background-color: #3B4455;\n",
              "      fill: #D2E3FC;\n",
              "    }\n",
              "\n",
              "    [theme=dark] .colab-df-convert:hover {\n",
              "      background-color: #434B5C;\n",
              "      box-shadow: 0px 1px 3px 1px rgba(0, 0, 0, 0.15);\n",
              "      filter: drop-shadow(0px 1px 2px rgba(0, 0, 0, 0.3));\n",
              "      fill: #FFFFFF;\n",
              "    }\n",
              "  </style>\n",
              "\n",
              "    <script>\n",
              "      const buttonEl =\n",
              "        document.querySelector('#df-ffacc4a3-6e12-4807-bbd5-8d251d1a0e8d button.colab-df-convert');\n",
              "      buttonEl.style.display =\n",
              "        google.colab.kernel.accessAllowed ? 'block' : 'none';\n",
              "\n",
              "      async function convertToInteractive(key) {\n",
              "        const element = document.querySelector('#df-ffacc4a3-6e12-4807-bbd5-8d251d1a0e8d');\n",
              "        const dataTable =\n",
              "          await google.colab.kernel.invokeFunction('convertToInteractive',\n",
              "                                                    [key], {});\n",
              "        if (!dataTable) return;\n",
              "\n",
              "        const docLinkHtml = 'Like what you see? Visit the ' +\n",
              "          '<a target=\"_blank\" href=https://colab.research.google.com/notebooks/data_table.ipynb>data table notebook</a>'\n",
              "          + ' to learn more about interactive tables.';\n",
              "        element.innerHTML = '';\n",
              "        dataTable['output_type'] = 'display_data';\n",
              "        await google.colab.output.renderOutput(dataTable, element);\n",
              "        const docLink = document.createElement('div');\n",
              "        docLink.innerHTML = docLinkHtml;\n",
              "        element.appendChild(docLink);\n",
              "      }\n",
              "    </script>\n",
              "  </div>\n",
              "\n",
              "\n",
              "<div id=\"df-8c41497c-75e8-4e73-9bbe-9989fb65c479\">\n",
              "  <button class=\"colab-df-quickchart\" onclick=\"quickchart('df-8c41497c-75e8-4e73-9bbe-9989fb65c479')\"\n",
              "            title=\"Suggest charts\"\n",
              "            style=\"display:none;\">\n",
              "\n",
              "<svg xmlns=\"http://www.w3.org/2000/svg\" height=\"24px\"viewBox=\"0 0 24 24\"\n",
              "     width=\"24px\">\n",
              "    <g>\n",
              "        <path d=\"M19 3H5c-1.1 0-2 .9-2 2v14c0 1.1.9 2 2 2h14c1.1 0 2-.9 2-2V5c0-1.1-.9-2-2-2zM9 17H7v-7h2v7zm4 0h-2V7h2v10zm4 0h-2v-4h2v4z\"/>\n",
              "    </g>\n",
              "</svg>\n",
              "  </button>\n",
              "\n",
              "<style>\n",
              "  .colab-df-quickchart {\n",
              "      --bg-color: #E8F0FE;\n",
              "      --fill-color: #1967D2;\n",
              "      --hover-bg-color: #E2EBFA;\n",
              "      --hover-fill-color: #174EA6;\n",
              "      --disabled-fill-color: #AAA;\n",
              "      --disabled-bg-color: #DDD;\n",
              "  }\n",
              "\n",
              "  [theme=dark] .colab-df-quickchart {\n",
              "      --bg-color: #3B4455;\n",
              "      --fill-color: #D2E3FC;\n",
              "      --hover-bg-color: #434B5C;\n",
              "      --hover-fill-color: #FFFFFF;\n",
              "      --disabled-bg-color: #3B4455;\n",
              "      --disabled-fill-color: #666;\n",
              "  }\n",
              "\n",
              "  .colab-df-quickchart {\n",
              "    background-color: var(--bg-color);\n",
              "    border: none;\n",
              "    border-radius: 50%;\n",
              "    cursor: pointer;\n",
              "    display: none;\n",
              "    fill: var(--fill-color);\n",
              "    height: 32px;\n",
              "    padding: 0;\n",
              "    width: 32px;\n",
              "  }\n",
              "\n",
              "  .colab-df-quickchart:hover {\n",
              "    background-color: var(--hover-bg-color);\n",
              "    box-shadow: 0 1px 2px rgba(60, 64, 67, 0.3), 0 1px 3px 1px rgba(60, 64, 67, 0.15);\n",
              "    fill: var(--button-hover-fill-color);\n",
              "  }\n",
              "\n",
              "  .colab-df-quickchart-complete:disabled,\n",
              "  .colab-df-quickchart-complete:disabled:hover {\n",
              "    background-color: var(--disabled-bg-color);\n",
              "    fill: var(--disabled-fill-color);\n",
              "    box-shadow: none;\n",
              "  }\n",
              "\n",
              "  .colab-df-spinner {\n",
              "    border: 2px solid var(--fill-color);\n",
              "    border-color: transparent;\n",
              "    border-bottom-color: var(--fill-color);\n",
              "    animation:\n",
              "      spin 1s steps(1) infinite;\n",
              "  }\n",
              "\n",
              "  @keyframes spin {\n",
              "    0% {\n",
              "      border-color: transparent;\n",
              "      border-bottom-color: var(--fill-color);\n",
              "      border-left-color: var(--fill-color);\n",
              "    }\n",
              "    20% {\n",
              "      border-color: transparent;\n",
              "      border-left-color: var(--fill-color);\n",
              "      border-top-color: var(--fill-color);\n",
              "    }\n",
              "    30% {\n",
              "      border-color: transparent;\n",
              "      border-left-color: var(--fill-color);\n",
              "      border-top-color: var(--fill-color);\n",
              "      border-right-color: var(--fill-color);\n",
              "    }\n",
              "    40% {\n",
              "      border-color: transparent;\n",
              "      border-right-color: var(--fill-color);\n",
              "      border-top-color: var(--fill-color);\n",
              "    }\n",
              "    60% {\n",
              "      border-color: transparent;\n",
              "      border-right-color: var(--fill-color);\n",
              "    }\n",
              "    80% {\n",
              "      border-color: transparent;\n",
              "      border-right-color: var(--fill-color);\n",
              "      border-bottom-color: var(--fill-color);\n",
              "    }\n",
              "    90% {\n",
              "      border-color: transparent;\n",
              "      border-bottom-color: var(--fill-color);\n",
              "    }\n",
              "  }\n",
              "</style>\n",
              "\n",
              "  <script>\n",
              "    async function quickchart(key) {\n",
              "      const quickchartButtonEl =\n",
              "        document.querySelector('#' + key + ' button');\n",
              "      quickchartButtonEl.disabled = true;  // To prevent multiple clicks.\n",
              "      quickchartButtonEl.classList.add('colab-df-spinner');\n",
              "      try {\n",
              "        const charts = await google.colab.kernel.invokeFunction(\n",
              "            'suggestCharts', [key], {});\n",
              "      } catch (error) {\n",
              "        console.error('Error during call to suggestCharts:', error);\n",
              "      }\n",
              "      quickchartButtonEl.classList.remove('colab-df-spinner');\n",
              "      quickchartButtonEl.classList.add('colab-df-quickchart-complete');\n",
              "    }\n",
              "    (() => {\n",
              "      let quickchartButtonEl =\n",
              "        document.querySelector('#df-8c41497c-75e8-4e73-9bbe-9989fb65c479 button');\n",
              "      quickchartButtonEl.style.display =\n",
              "        google.colab.kernel.accessAllowed ? 'block' : 'none';\n",
              "    })();\n",
              "  </script>\n",
              "</div>\n",
              "\n",
              "    </div>\n",
              "  </div>\n"
            ],
            "application/vnd.google.colaboratory.intrinsic+json": {
              "type": "dataframe",
              "variable_name": "df"
            }
          },
          "metadata": {},
          "execution_count": 1
        }
      ]
    },
    {
      "cell_type": "markdown",
      "source": [
        "#Analysis\n",
        "The analysis below explores which characteristics make a wine great and which ones do not. Specifically, it will answer the following questions:\n",
        "\n",
        "1. Which country produces wine with the most points, on average? (descriptive statistics)\n",
        "2. Which taster gives the lowest scores (points), on average?\n",
        "3. Which variety of wine is the most expensive, on average?\n",
        "4. Which year of wines has the best score (points), on average?\n",
        "5. Do reviews with the word \"depth\" in them tend to get better than average or worse than average points?\n",
        "6. Do reviews with the word \"fruity\" in them tend to get better than average or worse than average points?\n",
        "7. Do reviews with the word \"herbal\" in them tend to get better than average or worse than average points?\n",
        "8. Do reviews with more letters award more or less points, on average?\n",
        "9. Which region of the province Sicily & Sardinia produces the best wine, on average?"
      ],
      "metadata": {
        "id": "AwG2aCIpP5g1"
      }
    },
    {
      "cell_type": "markdown",
      "source": [
        "1.Which country produces wine with the most points, on average? (descriptive statistics)"
      ],
      "metadata": {
        "id": "QFk3A3usKRPS"
      }
    },
    {
      "cell_type": "code",
      "source": [
        "#Which country produces wine with the most points, on average?\n",
        "avg_points_by_country = df.groupby(\"country\")[\"points\"].mean().sort_values(ascending=False)\n",
        "top_country = avg_points_by_country.idxmax()\n",
        "top_avg_points = avg_points_by_country.max()\n",
        "top_country, round(top_avg_points,2)\n"
      ],
      "metadata": {
        "colab": {
          "base_uri": "https://localhost:8080/"
        },
        "id": "lHgK-79CNACy",
        "outputId": "ed47f76e-f1aa-4c79-cec6-f0a61dc951cd"
      },
      "execution_count": null,
      "outputs": [
        {
          "output_type": "execute_result",
          "data": {
            "text/plain": [
              "('England', 91.58)"
            ]
          },
          "metadata": {},
          "execution_count": 35
        }
      ]
    },
    {
      "cell_type": "markdown",
      "source": [
        "2.Which taster gives the lowest scores (points), on average?"
      ],
      "metadata": {
        "id": "G7dMsLcgKTVa"
      }
    },
    {
      "cell_type": "code",
      "source": [
        "\n",
        "avg_points_by_taster = df.groupby(\"taster_name\")[\"points\"].mean().dropna().sort_values()\n",
        "lowest_scoring_taster = avg_points_by_taster.idxmin()\n",
        "lowest_avg_points = round(avg_points_by_taster.min(), 2)\n",
        "lowest_scoring_taster, lowest_avg_points\n"
      ],
      "metadata": {
        "colab": {
          "base_uri": "https://localhost:8080/"
        },
        "id": "YwkrC3_KOn7-",
        "outputId": "434138f3-5a97-41f4-a4d8-db50fb1673ae"
      },
      "execution_count": null,
      "outputs": [
        {
          "output_type": "execute_result",
          "data": {
            "text/plain": [
              "('Alexander Peartree', 85.86)"
            ]
          },
          "metadata": {},
          "execution_count": 23
        }
      ]
    },
    {
      "cell_type": "markdown",
      "source": [
        "3.Which variety of wine is the most expensive, on average?"
      ],
      "metadata": {
        "id": "ZOhe3JmWKWLQ"
      }
    },
    {
      "cell_type": "code",
      "source": [
        "avg_price_by_variety = df.groupby(\"variety\")[\"price\"].mean().sort_values(ascending=False)\n",
        "most_expensive_variety = avg_price_by_variety.idxmax()\n",
        "highest_avg_price = avg_price_by_variety.max()\n",
        "most_expensive_variety, highest_avg_price\n"
      ],
      "metadata": {
        "colab": {
          "base_uri": "https://localhost:8080/"
        },
        "id": "o8mYxFJoPyr5",
        "outputId": "8867a058-a6b9-48c2-b3e9-835c4f59c969"
      },
      "execution_count": null,
      "outputs": [
        {
          "output_type": "execute_result",
          "data": {
            "text/plain": [
              "('Ramisco', 495.0)"
            ]
          },
          "metadata": {},
          "execution_count": 4
        }
      ]
    },
    {
      "cell_type": "code",
      "source": [
        "ramisco_wines = df[df[\"variety\"].str.contains(\"Ramisco\", case=False, na=False)]\n",
        "ramisco_wines"
      ],
      "metadata": {
        "colab": {
          "base_uri": "https://localhost:8080/",
          "height": 251
        },
        "id": "oIc-xQKKMD84",
        "outputId": "94effb9a-56b8-448f-f1b0-79e3d8f41eb6"
      },
      "execution_count": null,
      "outputs": [
        {
          "output_type": "execute_result",
          "data": {
            "text/plain": [
              "         country                                        description  \\\n",
              "107854  Portugal  This rare survival comes from Ramisco grapes p...   \n",
              "\n",
              "          designation  points  price province taster_name  \\\n",
              "107854  Reserva Velho      93  495.0  Colares  Roger Voss   \n",
              "\n",
              "       taster_twitter_handle  \\\n",
              "107854            @vossroger   \n",
              "\n",
              "                                                    title  variety  ...  year  \\\n",
              "107854  Adega Viuva Gomes 1934 Reserva Velho Red (Cola...  Ramisco  ...  1934   \n",
              "\n",
              "        contains_depth  contains_fruity  contains_herbal  review_length  \\\n",
              "107854           False             True            False            377   \n",
              "\n",
              "         region review_length_chars  depth  fruity  herbal  \n",
              "107854  Colares                 377  False    True   False  \n",
              "\n",
              "[1 rows x 21 columns]"
            ],
            "text/html": [
              "\n",
              "  <div id=\"df-35a5ea90-0296-4841-b2e8-ace6fec5ff63\" class=\"colab-df-container\">\n",
              "    <div>\n",
              "<style scoped>\n",
              "    .dataframe tbody tr th:only-of-type {\n",
              "        vertical-align: middle;\n",
              "    }\n",
              "\n",
              "    .dataframe tbody tr th {\n",
              "        vertical-align: top;\n",
              "    }\n",
              "\n",
              "    .dataframe thead th {\n",
              "        text-align: right;\n",
              "    }\n",
              "</style>\n",
              "<table border=\"1\" class=\"dataframe\">\n",
              "  <thead>\n",
              "    <tr style=\"text-align: right;\">\n",
              "      <th></th>\n",
              "      <th>country</th>\n",
              "      <th>description</th>\n",
              "      <th>designation</th>\n",
              "      <th>points</th>\n",
              "      <th>price</th>\n",
              "      <th>province</th>\n",
              "      <th>taster_name</th>\n",
              "      <th>taster_twitter_handle</th>\n",
              "      <th>title</th>\n",
              "      <th>variety</th>\n",
              "      <th>...</th>\n",
              "      <th>year</th>\n",
              "      <th>contains_depth</th>\n",
              "      <th>contains_fruity</th>\n",
              "      <th>contains_herbal</th>\n",
              "      <th>review_length</th>\n",
              "      <th>region</th>\n",
              "      <th>review_length_chars</th>\n",
              "      <th>depth</th>\n",
              "      <th>fruity</th>\n",
              "      <th>herbal</th>\n",
              "    </tr>\n",
              "  </thead>\n",
              "  <tbody>\n",
              "    <tr>\n",
              "      <th>107854</th>\n",
              "      <td>Portugal</td>\n",
              "      <td>This rare survival comes from Ramisco grapes p...</td>\n",
              "      <td>Reserva Velho</td>\n",
              "      <td>93</td>\n",
              "      <td>495.0</td>\n",
              "      <td>Colares</td>\n",
              "      <td>Roger Voss</td>\n",
              "      <td>@vossroger</td>\n",
              "      <td>Adega Viuva Gomes 1934 Reserva Velho Red (Cola...</td>\n",
              "      <td>Ramisco</td>\n",
              "      <td>...</td>\n",
              "      <td>1934</td>\n",
              "      <td>False</td>\n",
              "      <td>True</td>\n",
              "      <td>False</td>\n",
              "      <td>377</td>\n",
              "      <td>Colares</td>\n",
              "      <td>377</td>\n",
              "      <td>False</td>\n",
              "      <td>True</td>\n",
              "      <td>False</td>\n",
              "    </tr>\n",
              "  </tbody>\n",
              "</table>\n",
              "<p>1 rows × 21 columns</p>\n",
              "</div>\n",
              "    <div class=\"colab-df-buttons\">\n",
              "\n",
              "  <div class=\"colab-df-container\">\n",
              "    <button class=\"colab-df-convert\" onclick=\"convertToInteractive('df-35a5ea90-0296-4841-b2e8-ace6fec5ff63')\"\n",
              "            title=\"Convert this dataframe to an interactive table.\"\n",
              "            style=\"display:none;\">\n",
              "\n",
              "  <svg xmlns=\"http://www.w3.org/2000/svg\" height=\"24px\" viewBox=\"0 -960 960 960\">\n",
              "    <path d=\"M120-120v-720h720v720H120Zm60-500h600v-160H180v160Zm220 220h160v-160H400v160Zm0 220h160v-160H400v160ZM180-400h160v-160H180v160Zm440 0h160v-160H620v160ZM180-180h160v-160H180v160Zm440 0h160v-160H620v160Z\"/>\n",
              "  </svg>\n",
              "    </button>\n",
              "\n",
              "  <style>\n",
              "    .colab-df-container {\n",
              "      display:flex;\n",
              "      gap: 12px;\n",
              "    }\n",
              "\n",
              "    .colab-df-convert {\n",
              "      background-color: #E8F0FE;\n",
              "      border: none;\n",
              "      border-radius: 50%;\n",
              "      cursor: pointer;\n",
              "      display: none;\n",
              "      fill: #1967D2;\n",
              "      height: 32px;\n",
              "      padding: 0 0 0 0;\n",
              "      width: 32px;\n",
              "    }\n",
              "\n",
              "    .colab-df-convert:hover {\n",
              "      background-color: #E2EBFA;\n",
              "      box-shadow: 0px 1px 2px rgba(60, 64, 67, 0.3), 0px 1px 3px 1px rgba(60, 64, 67, 0.15);\n",
              "      fill: #174EA6;\n",
              "    }\n",
              "\n",
              "    .colab-df-buttons div {\n",
              "      margin-bottom: 4px;\n",
              "    }\n",
              "\n",
              "    [theme=dark] .colab-df-convert {\n",
              "      background-color: #3B4455;\n",
              "      fill: #D2E3FC;\n",
              "    }\n",
              "\n",
              "    [theme=dark] .colab-df-convert:hover {\n",
              "      background-color: #434B5C;\n",
              "      box-shadow: 0px 1px 3px 1px rgba(0, 0, 0, 0.15);\n",
              "      filter: drop-shadow(0px 1px 2px rgba(0, 0, 0, 0.3));\n",
              "      fill: #FFFFFF;\n",
              "    }\n",
              "  </style>\n",
              "\n",
              "    <script>\n",
              "      const buttonEl =\n",
              "        document.querySelector('#df-35a5ea90-0296-4841-b2e8-ace6fec5ff63 button.colab-df-convert');\n",
              "      buttonEl.style.display =\n",
              "        google.colab.kernel.accessAllowed ? 'block' : 'none';\n",
              "\n",
              "      async function convertToInteractive(key) {\n",
              "        const element = document.querySelector('#df-35a5ea90-0296-4841-b2e8-ace6fec5ff63');\n",
              "        const dataTable =\n",
              "          await google.colab.kernel.invokeFunction('convertToInteractive',\n",
              "                                                    [key], {});\n",
              "        if (!dataTable) return;\n",
              "\n",
              "        const docLinkHtml = 'Like what you see? Visit the ' +\n",
              "          '<a target=\"_blank\" href=https://colab.research.google.com/notebooks/data_table.ipynb>data table notebook</a>'\n",
              "          + ' to learn more about interactive tables.';\n",
              "        element.innerHTML = '';\n",
              "        dataTable['output_type'] = 'display_data';\n",
              "        await google.colab.output.renderOutput(dataTable, element);\n",
              "        const docLink = document.createElement('div');\n",
              "        docLink.innerHTML = docLinkHtml;\n",
              "        element.appendChild(docLink);\n",
              "      }\n",
              "    </script>\n",
              "  </div>\n",
              "\n",
              "\n",
              "  <div id=\"id_744836ee-9511-454c-b000-cbffa8fab094\">\n",
              "    <style>\n",
              "      .colab-df-generate {\n",
              "        background-color: #E8F0FE;\n",
              "        border: none;\n",
              "        border-radius: 50%;\n",
              "        cursor: pointer;\n",
              "        display: none;\n",
              "        fill: #1967D2;\n",
              "        height: 32px;\n",
              "        padding: 0 0 0 0;\n",
              "        width: 32px;\n",
              "      }\n",
              "\n",
              "      .colab-df-generate:hover {\n",
              "        background-color: #E2EBFA;\n",
              "        box-shadow: 0px 1px 2px rgba(60, 64, 67, 0.3), 0px 1px 3px 1px rgba(60, 64, 67, 0.15);\n",
              "        fill: #174EA6;\n",
              "      }\n",
              "\n",
              "      [theme=dark] .colab-df-generate {\n",
              "        background-color: #3B4455;\n",
              "        fill: #D2E3FC;\n",
              "      }\n",
              "\n",
              "      [theme=dark] .colab-df-generate:hover {\n",
              "        background-color: #434B5C;\n",
              "        box-shadow: 0px 1px 3px 1px rgba(0, 0, 0, 0.15);\n",
              "        filter: drop-shadow(0px 1px 2px rgba(0, 0, 0, 0.3));\n",
              "        fill: #FFFFFF;\n",
              "      }\n",
              "    </style>\n",
              "    <button class=\"colab-df-generate\" onclick=\"generateWithVariable('ramisco_wines')\"\n",
              "            title=\"Generate code using this dataframe.\"\n",
              "            style=\"display:none;\">\n",
              "\n",
              "  <svg xmlns=\"http://www.w3.org/2000/svg\" height=\"24px\"viewBox=\"0 0 24 24\"\n",
              "       width=\"24px\">\n",
              "    <path d=\"M7,19H8.4L18.45,9,17,7.55,7,17.6ZM5,21V16.75L18.45,3.32a2,2,0,0,1,2.83,0l1.4,1.43a1.91,1.91,0,0,1,.58,1.4,1.91,1.91,0,0,1-.58,1.4L9.25,21ZM18.45,9,17,7.55Zm-12,3A5.31,5.31,0,0,0,4.9,8.1,5.31,5.31,0,0,0,1,6.5,5.31,5.31,0,0,0,4.9,4.9,5.31,5.31,0,0,0,6.5,1,5.31,5.31,0,0,0,8.1,4.9,5.31,5.31,0,0,0,12,6.5,5.46,5.46,0,0,0,6.5,12Z\"/>\n",
              "  </svg>\n",
              "    </button>\n",
              "    <script>\n",
              "      (() => {\n",
              "      const buttonEl =\n",
              "        document.querySelector('#id_744836ee-9511-454c-b000-cbffa8fab094 button.colab-df-generate');\n",
              "      buttonEl.style.display =\n",
              "        google.colab.kernel.accessAllowed ? 'block' : 'none';\n",
              "\n",
              "      buttonEl.onclick = () => {\n",
              "        google.colab.notebook.generateWithVariable('ramisco_wines');\n",
              "      }\n",
              "      })();\n",
              "    </script>\n",
              "  </div>\n",
              "\n",
              "    </div>\n",
              "  </div>\n"
            ],
            "application/vnd.google.colaboratory.intrinsic+json": {
              "type": "dataframe",
              "variable_name": "ramisco_wines"
            }
          },
          "metadata": {},
          "execution_count": 39
        }
      ]
    },
    {
      "cell_type": "markdown",
      "source": [
        "4.Which year of wines has the best score (points), on average?\n",
        "\n",
        "---\n",
        "\n"
      ],
      "metadata": {
        "id": "NxOM5BGzKeFo"
      }
    },
    {
      "cell_type": "code",
      "source": [
        "# Extract the year from the 'title' column using the regular expression (\\d{4})\n",
        "df[\"year\"] = df[\"title\"].str.extract(r'(\\d{4})').astype(\"Int64\")  # Convert to integer type\n",
        "\n",
        "# Calculate the average points per year\n",
        "avg_points_by_year = df.groupby(\"year\")[\"points\"].mean().dropna().sort_values(ascending=False)\n",
        "\n",
        "# Find the year with the highest average points\n",
        "best_year = avg_points_by_year.idxmax()\n",
        "best_avg_points = round(avg_points_by_year.max(), 2)\n",
        "\n",
        "# Display the result\n",
        "best_year, best_avg_points\n",
        "\n"
      ],
      "metadata": {
        "colab": {
          "base_uri": "https://localhost:8080/"
        },
        "id": "kb5dfHyUUfJn",
        "outputId": "7d8a488e-9ea5-4f61-cfda-0f12747698bc"
      },
      "execution_count": null,
      "outputs": [
        {
          "output_type": "execute_result",
          "data": {
            "text/plain": [
              "(1969, 98.0)"
            ]
          },
          "metadata": {},
          "execution_count": 24
        }
      ]
    },
    {
      "cell_type": "markdown",
      "source": [
        "5.Do reviews with the word \"depth\" in them tend to get better than average or worse than average points?"
      ],
      "metadata": {
        "id": "lyDOzUVGKgz-"
      }
    },
    {
      "cell_type": "code",
      "source": [
        "df.head()\n",
        "# Create a new column 'depth' that is True if 'depth' appears in the description, otherwise False\n",
        "df[\"depth\"] = df[\"description\"].str.contains(r'\\bdepth\\b', case=False, na=False)\n",
        "\n",
        "# Calculate the average points for reviews containing \"depth\"\n",
        "avg_points_with_depth = round(df[df[\"depth\"]][\"points\"].mean(), 2)\n",
        "\n",
        "# Calculate the overall average points\n",
        "overall_avg_points = round(df[\"points\"].mean(), 2)\n",
        "\n",
        "# Compare the two averages\n",
        "avg_points_with_depth, overall_avg_points\n",
        "\n"
      ],
      "metadata": {
        "colab": {
          "base_uri": "https://localhost:8080/"
        },
        "id": "VyL6CGcuk6FM",
        "outputId": "0da70e66-05ae-40c1-c017-a2a859678037"
      },
      "execution_count": null,
      "outputs": [
        {
          "output_type": "execute_result",
          "data": {
            "text/plain": [
              "(90.09, 88.45)"
            ]
          },
          "metadata": {},
          "execution_count": 33
        }
      ]
    },
    {
      "cell_type": "markdown",
      "source": [
        "6.Do reviews with the word \"fruity\" in them tend to get better than average or worse than average points?"
      ],
      "metadata": {
        "id": "QWMrlMA-KhLC"
      }
    },
    {
      "cell_type": "code",
      "source": [
        "# Create a new column 'fruity' that is True if 'depth' appears in the description, otherwise False\n",
        "df[\"fruity\"] = df[\"description\"].str.contains(r'\\bfruity\\b', case=False, na=False)\n",
        "\n",
        "# Calculate the average points for reviews containing \"fruity\"\n",
        "avg_points_with_fruity = round(df[df[\"fruity\"]][\"points\"].mean(), 2)\n",
        "\n",
        "# Calculate the overall average points\n",
        "overall_avg_points = round(df[\"points\"].mean(), 2)\n",
        "\n",
        "# Compare the two averages\n",
        "avg_points_with_fruity, overall_avg_points\n"
      ],
      "metadata": {
        "colab": {
          "base_uri": "https://localhost:8080/"
        },
        "id": "NtWqMnIPBywe",
        "outputId": "afdfac94-a2b0-4412-ea99-b44130246043"
      },
      "execution_count": null,
      "outputs": [
        {
          "output_type": "execute_result",
          "data": {
            "text/plain": [
              "(87.6, 88.45)"
            ]
          },
          "metadata": {},
          "execution_count": 32
        }
      ]
    },
    {
      "cell_type": "markdown",
      "source": [
        "7.Do reviews with the word \"herbal\" in them tend to get better than average or worse than average points?"
      ],
      "metadata": {
        "id": "AM35XvJaKhlC"
      }
    },
    {
      "cell_type": "code",
      "source": [
        "# Create a new column 'herbal' that is True if 'depth' appears in the description, otherwise False\n",
        "df[\"herbal\"] = df[\"description\"].str.contains(r'\\bherbal\\b', case=False, na=False)\n",
        "\n",
        "# Calculate the average points for reviews containing \"herbal\"\n",
        "avg_points_with_herbal = round(df[df[\"herbal\"]][\"points\"].mean(), 2)\n",
        "\n",
        "# Calculate the overall average points\n",
        "overall_avg_points = round(df[\"points\"].mean(), 2)\n",
        "\n",
        "# Compare the two averages\n",
        "avg_points_with_herbal, overall_avg_points\n"
      ],
      "metadata": {
        "colab": {
          "base_uri": "https://localhost:8080/"
        },
        "id": "dROTUJl6B6BY",
        "outputId": "d650f5c4-3221-4885-dda9-960e10e25ff1"
      },
      "execution_count": null,
      "outputs": [
        {
          "output_type": "execute_result",
          "data": {
            "text/plain": [
              "(87.42, 88.45)"
            ]
          },
          "metadata": {},
          "execution_count": 34
        }
      ]
    },
    {
      "cell_type": "markdown",
      "source": [
        "8.Do reviews with more letters award more or less points, on average?"
      ],
      "metadata": {
        "id": "fcIoQEsyEQdz"
      }
    },
    {
      "cell_type": "code",
      "source": [
        "# Calculate the correlation between review length (characters) and points\n",
        "correlation_chars_points = round(df[\"review_length_chars\"].corr(df[\"points\"]), 2)\n",
        "\n",
        "# Calculate the average points for longer vs. shorter reviews\n",
        "median_length = df[\"review_length_chars\"].median()\n",
        "avg_points_long_reviews = round(df[df[\"review_length_chars\"] > median_length][\"points\"].mean(), 2)\n",
        "avg_points_short_reviews = round(df[df[\"review_length_chars\"] <= median_length][\"points\"].mean(), 2)\n",
        "\n",
        "# Display the results\n",
        "correlation_chars_points, avg_points_long_reviews, avg_points_short_reviews\n"
      ],
      "metadata": {
        "colab": {
          "base_uri": "https://localhost:8080/"
        },
        "id": "4uR5I80UI4Cz",
        "outputId": "4a641d54-753d-47aa-cb77-05d5f46bc6ee"
      },
      "execution_count": null,
      "outputs": [
        {
          "output_type": "execute_result",
          "data": {
            "text/plain": [
              "(0.56, 89.82, 87.09)"
            ]
          },
          "metadata": {},
          "execution_count": 29
        }
      ]
    },
    {
      "cell_type": "code",
      "source": [
        "#Use string functions to create a new column that indicates the number of characters in a wine review (description).\n",
        "#Then, determine the correlation between the length of a review in characters and points.\n",
        "#What is the relationship between number of characters and points?\n",
        "\n",
        "\n",
        "# Create a new column that stores the number of characters in each wine review\n",
        "df[\"review_length_chars\"] = df[\"description\"].str.len()\n",
        "\n",
        "# Calculate the correlation between review length (characters) and points\n",
        "correlation_chars_points = df[\"review_length_chars\"].corr(df[\"points\"])\n",
        "\n",
        "# Display the correlation result\n",
        "round(correlation_chars_points,2)"
      ],
      "metadata": {
        "colab": {
          "base_uri": "https://localhost:8080/"
        },
        "id": "fLnEugy7CJOD",
        "outputId": "fc6a3f33-e576-4b34-e8fa-f2632cff887b"
      },
      "execution_count": null,
      "outputs": [
        {
          "output_type": "execute_result",
          "data": {
            "text/plain": [
              "0.56"
            ]
          },
          "metadata": {},
          "execution_count": 30
        }
      ]
    },
    {
      "cell_type": "markdown",
      "source": [
        "9.Which region of the province Sicily & Sardinia produces the best wine, on average?"
      ],
      "metadata": {
        "id": "uefw7U5lKiYk"
      }
    },
    {
      "cell_type": "code",
      "source": [
        "# Extract region names from the 'title' column using single parentheses\n",
        "df[\"region\"] = df[\"title\"].str.extract(r'\\(([^)]+)\\)')\n",
        "\n",
        "# Filter data for the province \"Sicily & Sardinia\"\n",
        "sicily_sardinia_wines = df[df[\"province\"] == \"Sicily & Sardinia\"]\n",
        "\n",
        "# Calculate the average points for each extracted region within Sicily & Sardinia\n",
        "avg_points_by_region = sicily_sardinia_wines.groupby(\"region\")[\"points\"].mean().dropna().sort_values(ascending=False)\n",
        "\n",
        "# Find the region with the highest average points\n",
        "best_region = avg_points_by_region.idxmax()\n",
        "best_avg_points = round(avg_points_by_region.max(), 2)\n",
        "\n",
        "# Display the result\n",
        "best_region, best_avg_points\n"
      ],
      "metadata": {
        "colab": {
          "base_uri": "https://localhost:8080/"
        },
        "id": "gR0kxLyMDMve",
        "outputId": "e24fdb25-d9ac-4fe0-ad61-d68cdc370fea"
      },
      "execution_count": null,
      "outputs": [
        {
          "output_type": "execute_result",
          "data": {
            "text/plain": [
              "('Faro', 94.0)"
            ]
          },
          "metadata": {},
          "execution_count": 19
        }
      ]
    },
    {
      "cell_type": "markdown",
      "source": [
        "# Conclusion\n",
        "\n",
        "---\n",
        "*   England produces the highest-rated wines on average, with a score of 91.58 points.\n",
        "*   Ramisco is the most expensive variety, with an average price of $495.00.\n",
        "Best Year for Wine (by average score)\n",
        "*  1969 wines had the highest average rating of 98.0 points.\n",
        "*  Reviews containing \"depth\" tend to score higher than average (90.09 points vs. 88.45 points).\n",
        "*  Longer reviews tend to give higher scores (correlation: 0.56).\n",
        "*  Longer reviews (above median length): 89.82 points\n",
        "Shorter reviews: 87.09 points\n",
        "*  The Faro region produces the highest-rated wines in Sicily & Sardinia, with an average score of 94.0 points.\n",
        "*  Alexander Peartree gives the lowest scores on average (85.86 points).\n",
        "\n",
        "Final takeaway -\n",
        "Wines with detailed reviews and descriptors like \"depth\" tend to receive higher ratings than those with \"fruity\", or \"herbal\".\n",
        "An expensive wine (Ramisco) does not always guarantee the highest ratings.\n",
        "Certain tasters are harsher critics, which skews the average scores.\n",
        "England, Faro (Sicily & Sardinia), and 1969 wines stand out in quality for the wines reviewed.\n"
      ],
      "metadata": {
        "id": "gKkNIH5_KiyD"
      }
    }
  ]
}