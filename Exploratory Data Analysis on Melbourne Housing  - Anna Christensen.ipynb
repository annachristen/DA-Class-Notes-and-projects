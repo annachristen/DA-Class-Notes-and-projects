{
  "nbformat": 4,
  "nbformat_minor": 0,
  "metadata": {
    "colab": {
      "provenance": [],
      "authorship_tag": "ABX9TyO3oYS6wPmqBV2L3CT6oe91",
      "include_colab_link": true
    },
    "kernelspec": {
      "name": "python3",
      "display_name": "Python 3"
    },
    "language_info": {
      "name": "python"
    }
  },
  "cells": [
    {
      "cell_type": "markdown",
      "metadata": {
        "id": "view-in-github",
        "colab_type": "text"
      },
      "source": [
        "<a href=\"https://colab.research.google.com/github/annachristen/DA-Class-Notes-and-projects/blob/main/Exploratory%20Data%20Analysis%20on%20Melbourne%20Housing%20%20-%20Anna%20Christensen.ipynb\" target=\"_parent\"><img src=\"https://colab.research.google.com/assets/colab-badge.svg\" alt=\"Open In Colab\"/></a>"
      ]
    },
    {
      "cell_type": "markdown",
      "source": [
        "Melbourne, Australia's second-largest city, is known for its vibrant cultural scene, diverse population, and beautiful parks. It boasts iconic landmarks like Federation Square and the Royal Botanic Gardens, as well as a thriving coffee culture. Melbourne is famous for its sports passion, hosting events like the Australian Open and Melbourne Cup, making it a dynamic and cosmopolitan destination.\n",
        "\n",
        "Recently, the housing market in Melbourne has seen explosive growth. In this project, you will conduct an exploratory data analysis to analyze trends in the housing market and try to determine trends that might be useful to an investor."
      ],
      "metadata": {
        "id": "nYvvgXIaPTDX"
      }
    },
    {
      "cell_type": "code",
      "execution_count": null,
      "metadata": {
        "id": "nf0Z-Um9PR56"
      },
      "outputs": [],
      "source": []
    }
  ]
}