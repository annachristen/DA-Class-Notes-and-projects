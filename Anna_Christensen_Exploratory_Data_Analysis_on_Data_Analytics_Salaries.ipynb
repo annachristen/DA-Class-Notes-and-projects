{
  "nbformat": 4,
  "nbformat_minor": 0,
  "metadata": {
    "colab": {
      "private_outputs": true,
      "provenance": []
    },
    "kernelspec": {
      "name": "python3",
      "display_name": "Python 3"
    },
    "language_info": {
      "name": "python"
    }
  },
  "cells": [
    {
      "cell_type": "markdown",
      "source": [
        "# Exploratory Data Analysis on Data Analytics Salaries\n",
        "\n",
        "⌨ Write your name here.\n",
        "\n",
        "This analysis explores salaries of data analytics professionals around the world to find patterns in the data. Specifically, the goal is to determine which factors influence pay rates around the world and learn more about what a career path might look like for somebody starting out in Data Analytics.\n",
        "\n",
        "## About the data\n",
        "This data set comes from Kaggle user [randomarnab](https://www.kaggle.com/datasets/arnabchaki/data-science-salaries-2023) and contains information about various roles in data analytics from around the world. The data was gathered in 2023 and contains details about each role's experience level, job title, salary, remote ratio, company location, and company size."
      ],
      "metadata": {
        "id": "yfZYmnUK-nXS"
      }
    },
    {
      "cell_type": "code",
      "execution_count": null,
      "metadata": {
        "id": "_JbG77Cr-hH1"
      },
      "outputs": [],
      "source": [
        "import pandas as pd\n",
        "df = pd.read_csv('data_analytics_salaries.csv')"
      ]
    },
    {
      "cell_type": "markdown",
      "source": [
        "## Analysis\n",
        "The analysis below explores salaries of data analytics professionals. Specifically, it will explore the following different topics:\n",
        "\n",
        "- How does experience level affect salary?\n",
        "- How does experience level affect remote ratio?\n",
        "- Which job titles are the most common in the United States and how does the job title affect salary?\n",
        "- How have salaries changed between 2020 and 2022 for Data Analysts?\n",
        "- Where are most data analytics positions located (according to this data set)? Which countries pay the most?\n",
        "- What percent of employees are based in another country but are paid in USD?\n",
        "\n",
        "One notable aspect of this data set is the presence of both `salary` and `salary_in_usd` columns. The former details the salary for the position in the local currency where the company is based, whereas the latter column standardizes all of the salaries into USD. Thus, this analysis will exclusively use the `salary_in_usd` column for comparisons."
      ],
      "metadata": {
        "id": "siXLCBgYWADj"
      }
    },
    {
      "cell_type": "code",
      "source": [
        "df.head()"
      ],
      "metadata": {
        "id": "x1m-EkygUxU3"
      },
      "execution_count": null,
      "outputs": []
    },
    {
      "cell_type": "code",
      "source": [
        "df.info()"
      ],
      "metadata": {
        "id": "rr6FM_VSWDWZ"
      },
      "execution_count": null,
      "outputs": []
    },
    {
      "cell_type": "code",
      "source": [
        "df.describe()"
      ],
      "metadata": {
        "id": "1XPDVVxZayOK"
      },
      "execution_count": null,
      "outputs": []
    },
    {
      "cell_type": "markdown",
      "source": [
        "### How does experience level affect salary?\n",
        "👉 Use the example text below to model your own responses futher below.\n",
        "\n",
        "\n",
        "At first glance, experience level seems to be the obvious candidate for the most influential variable in determining salary for data analytics professionals. This analysis assumes that the experiences levels are, in order from least amount of experience to greatest:\n",
        "\n",
        "1. EN - Entry level\n",
        "2. MI - Mid-level\n",
        "3. SE - Senior level\n",
        "4. EX - Executive level\n",
        "\n",
        "According to the output of the code below, average salary tends to increase, as hypothesized, as experience level increases. However, these figures may be skewed because part-time salaries are included in the data set. Because part-time workers are more likely to be entry level and mid-level, the lower salaries of these positions (which are caused by working few hours) should be removed for this part of the analysis."
      ],
      "metadata": {
        "id": "NdengnC1dVP-"
      }
    },
    {
      "cell_type": "code",
      "source": [
        "# Code provided as an example\n",
        "round(df[['experience_level', 'salary_in_usd']].groupby('experience_level').mean().sort_values(by='salary_in_usd'),2)"
      ],
      "metadata": {
        "id": "jlwALIS5bXhj"
      },
      "execution_count": null,
      "outputs": []
    },
    {
      "cell_type": "markdown",
      "source": [
        "The code below creates a subset of the data that contains only positions that were full time. Recalculating the average salary for each experience level among this new subset brought the average salaries closer together only slightly. The change in average salary was most unnoticeable."
      ],
      "metadata": {
        "id": "eFk6DGuLlGPQ"
      }
    },
    {
      "cell_type": "code",
      "source": [
        "# Get a subset that only includes full time (FT)\n",
        "# Your code here\n",
        "df.head()\n",
        "df_ft= df[df['employment_type']== 'FT']\n",
        "df_ft\n",
        "round(df_ft[['experience_level', 'salary_in_usd']].groupby('experience_level').mean().sort_values(by='salary_in_usd'),2)"
      ],
      "metadata": {
        "id": "4FQlCFUpjFdb"
      },
      "execution_count": null,
      "outputs": []
    },
    {
      "cell_type": "markdown",
      "source": [
        "From this analysis, I can conclude that experience is necessary to obtaining a higher salary. Salaries tend to vary greatly across different experience levels, meaning that experience is likely very influential for determining a person's salary."
      ],
      "metadata": {
        "id": "zrCCF-45lgT-"
      }
    },
    {
      "cell_type": "markdown",
      "source": [
        "### How does experience level affect remote ratio?\n",
        "When determining how much employees are allowed to work remotely, I immediately think that senior employees are given more liberty to work from home than employees with less experience.\n",
        "\n",
        "However, according to the results of the code below...\n",
        "\n",
        "👉 Talk about your results here. Type code below.\n",
        "\n",
        "  My results show that the mid-level employees are using less remote work than the entry level employees."
      ],
      "metadata": {
        "id": "O5QnhMvyldET"
      }
    },
    {
      "cell_type": "code",
      "source": [
        "df.head()\n",
        "\n",
        "round(df[['experience_level', 'remote_ratio']].groupby('experience_level').mean().sort_values(by='remote_ratio'),2)"
      ],
      "metadata": {
        "id": "4HYC8YvVlBmW"
      },
      "execution_count": null,
      "outputs": []
    },
    {
      "cell_type": "markdown",
      "source": [
        "The year 2022 saw an increase in the remote ratio for employees in several different experience levels. Which one saw the biggest increase in average remote ratio?\n",
        "\n",
        "Executive Level"
      ],
      "metadata": {
        "id": "MONPe3L53u95"
      }
    },
    {
      "cell_type": "code",
      "source": [
        "df.head()\n",
        "df2=df[df['work_year']==2022]\n",
        "df2\n",
        "round(df2[['experience_level', 'remote_ratio']].groupby('experience_level').mean().sort_values(by='remote_ratio'),2)"
      ],
      "metadata": {
        "id": "njaKtsXBwSpR"
      },
      "execution_count": null,
      "outputs": []
    },
    {
      "cell_type": "markdown",
      "source": [
        "Which experience level saw a reduction in its ability to work remotely in 2022? (ie. smaller average remote ratio).\n",
        "\n",
        "Mid Level"
      ],
      "metadata": {
        "id": "ovV6xNk_8UC1"
      }
    },
    {
      "cell_type": "code",
      "source": [
        "df.head()\n",
        "df2=df[df['work_year']==2022]\n",
        "df2\n",
        "round(df2[['experience_level', 'remote_ratio']].groupby('experience_level').mean().sort_values(by='remote_ratio'),2)"
      ],
      "metadata": {
        "collapsed": true,
        "id": "ONjDattVB9c1"
      },
      "execution_count": null,
      "outputs": []
    },
    {
      "cell_type": "markdown",
      "source": [
        "### Which job titles are the most common in the United States and how do they affect salary?\n",
        "\n",
        "---\n",
        "\n",
        "\n",
        "👉 Follow the pattern above to write about your findings and talk about your results here. Type code below.\n",
        "\n",
        "When determining which job titles are the most common in the United States, I immediately think that the more common jobs will pay higher than the less common jobs,\n",
        "However, according to the results of the code below...\n",
        "One of the least popular jobs ( Data Analytics Lead) is the highest paid position. The most common positions are mid to lower level of pay.  \n"
      ],
      "metadata": {
        "id": "OXtrvpR43QIC"
      }
    },
    {
      "cell_type": "code",
      "source": [
        "df.head()\n",
        "df_us=df[df['company_location'] == 'US']\n",
        "df_us.head()\n",
        "df_us.value_counts('job_title')\n",
        "df_us[['job_title', 'salary_in_usd']].groupby('job_title').count().sort_values(by='salary_in_usd',ascending= False)"
      ],
      "metadata": {
        "id": "6QuH1I6r2pCn",
        "collapsed": true
      },
      "execution_count": null,
      "outputs": []
    },
    {
      "cell_type": "markdown",
      "source": [
        "Some of the job titles below are listed only once in the United States. Which ones are they? (Select all that apply)\n",
        "Group of answer choices\n",
        "\n",
        "*  Big Data Engineer\n",
        "*  Data Analytics Engineer\n",
        "*  Cloud Data Engineer\n"
      ],
      "metadata": {
        "id": "ipbEaicKCe7c"
      }
    },
    {
      "cell_type": "code",
      "source": [
        "round(df_us[['job_title', 'salary_in_usd']].groupby('job_title').mean().sort_values(by='salary_in_usd', ascending=False),2)\n"
      ],
      "metadata": {
        "collapsed": true,
        "id": "SHpwnVzthQLc"
      },
      "execution_count": null,
      "outputs": []
    },
    {
      "cell_type": "code",
      "source": [
        "#Standard Deviation\n",
        "round(df_us[['job_title', 'salary_in_usd']].groupby('job_title').std().sort_values(by='salary_in_usd', ascending=False),2)"
      ],
      "metadata": {
        "collapsed": true,
        "id": "vx3wiJnYx49C"
      },
      "execution_count": null,
      "outputs": []
    },
    {
      "cell_type": "code",
      "source": [
        "#rounded to nearest cent\n",
        "round(df_us[['job_title', 'salary_in_usd']].groupby('job_title').mean().sort_values(by='salary_in_usd', ascending=False),1)\n"
      ],
      "metadata": {
        "collapsed": true,
        "id": "pkCuKu36x8Kf"
      },
      "execution_count": null,
      "outputs": []
    },
    {
      "cell_type": "markdown",
      "source": [
        "### How have salaries changed between 2020 and 2022 for Data Analysts?\n",
        "\n",
        "👉 Talk about your results here. Type code below.\n",
        "\n",
        "When determining how salaries have changed between 2020 & 2022, My immediately thought is that salaries have gone up, but only slightly, However, according to the results of the code below...  there was a significant increase in salaries between 2020 & 2022."
      ],
      "metadata": {
        "id": "phmwboOc_CRc"
      }
    },
    {
      "cell_type": "code",
      "source": [
        "df\n",
        "df_ana=df[df['job_title'] == 'Data Analyst']\n",
        "#df_ana\n",
        "round(df_ana[['work_year', 'salary_in_usd']].groupby('work_year').mean().sort_values(by='salary_in_usd'),2)"
      ],
      "metadata": {
        "id": "BO4Xf-o2925B",
        "collapsed": true
      },
      "execution_count": null,
      "outputs": []
    },
    {
      "cell_type": "markdown",
      "source": [
        "### Where are most data analytics positions located (according to this data set)? Which countries pay the most?\n",
        "\n",
        "👉 Talk about your results here. Type code below."
      ],
      "metadata": {
        "id": "4sk7XAF3BXRD"
      }
    },
    {
      "cell_type": "code",
      "source": [
        "df\n",
        "df_ana=df[df['job_title'] == 'Data Analyst']\n",
        "round(df_ana[['company_location', 'salary_in_usd']].groupby('company_location').mean().sort_values(by='salary_in_usd',ascending=False),2)"
      ],
      "metadata": {
        "id": "5DHaVSQ4A9xJ",
        "collapsed": true
      },
      "execution_count": null,
      "outputs": []
    },
    {
      "cell_type": "markdown",
      "source": [
        "Which country has 30 job openings available?"
      ],
      "metadata": {
        "id": "Jpo5Ej9NNcvv"
      }
    },
    {
      "cell_type": "code",
      "source": [
        "df\n",
        "df.value_counts('company_location')\n"
      ],
      "metadata": {
        "collapsed": true,
        "id": "TPz5XUTeNaTB"
      },
      "execution_count": null,
      "outputs": []
    },
    {
      "cell_type": "markdown",
      "source": [
        "What is the average salary (USD) for people who work in China (CN)?\n",
        "\n",
        "\n",
        "\n",
        "*   71665.50\n",
        "\n",
        "\n"
      ],
      "metadata": {
        "id": "zpekE-lTSgoE"
      }
    },
    {
      "cell_type": "code",
      "source": [
        "df\n",
        "df_ana=df[df['job_title'] == 'Data Analyst']\n",
        "round(df[['company_location', 'salary_in_usd']].groupby('company_location').mean().sort_values(by='salary_in_usd',ascending=False),2)"
      ],
      "metadata": {
        "collapsed": true,
        "id": "DM_nvh7tTVjc"
      },
      "execution_count": null,
      "outputs": []
    },
    {
      "cell_type": "markdown",
      "source": [
        "Which countries have the top three number of data positions?"
      ],
      "metadata": {
        "id": "VBa_Q98zSjef"
      }
    },
    {
      "cell_type": "code",
      "source": [
        "df\n",
        "df.value_counts('company_location')"
      ],
      "metadata": {
        "collapsed": true,
        "id": "fXHngotET8Sp"
      },
      "execution_count": null,
      "outputs": []
    },
    {
      "cell_type": "markdown",
      "source": [
        "### What percent of employees are based in another country but are paid in USD?\n",
        "This is a tricky one.\n",
        "\n",
        "To figure this out, I'll need to make a filter that gets out only employees that are in countries that are not the United States and whose salary currency is USD. Then, I can see how many rows that dataframe has and divide it by the number of rows in the original dataframe to get the answer.\n",
        "\n",
        "---\n",
        "\n",
        "\n",
        "\n",
        "👉 Talk about your results here. Type code below."
      ],
      "metadata": {
        "id": "Js42Iut5DzQ-"
      }
    },
    {
      "cell_type": "code",
      "source": [
        "filtered_df = df[(df['salary_currency'] == 'USD') & (df['company_location'] != 'US')]\n",
        "\n",
        "# Calculate percentage\n",
        "percentage = (len(filtered_df) / len(df)) * 100\n",
        "\n",
        "print(f\"Percentage of employees working for a company based outside the US but paid in USD: {percentage:.2f}%\")"
      ],
      "metadata": {
        "id": "umV4y3byWhRI"
      },
      "execution_count": null,
      "outputs": []
    },
    {
      "cell_type": "code",
      "source": [
        "\n"
      ],
      "metadata": {
        "id": "o1foPBeXYPZ5"
      },
      "execution_count": null,
      "outputs": []
    },
    {
      "cell_type": "markdown",
      "source": [
        "## Conclusion\n",
        "👉 Write a brief conclusion about what you learned from the data here."
      ],
      "metadata": {
        "id": "TWCvnB1JEaXd"
      }
    }
  ]
}