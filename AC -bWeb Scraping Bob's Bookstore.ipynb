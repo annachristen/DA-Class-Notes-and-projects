{
  "nbformat": 4,
  "nbformat_minor": 0,
  "metadata": {
    "colab": {
      "provenance": [],
      "authorship_tag": "ABX9TyNc+TBXqq8bhPXCpgd6GQx6",
      "include_colab_link": true
    },
    "kernelspec": {
      "name": "python3",
      "display_name": "Python 3"
    },
    "language_info": {
      "name": "python"
    }
  },
  "cells": [
    {
      "cell_type": "markdown",
      "metadata": {
        "id": "view-in-github",
        "colab_type": "text"
      },
      "source": [
        "<a href=\"https://colab.research.google.com/github/annachristen/DA-Class-Notes-and-projects/blob/main/AC%20-bWeb%20Scraping%20Bob's%20Bookstore.ipynb\" target=\"_parent\"><img src=\"https://colab.research.google.com/assets/colab-badge.svg\" alt=\"Open In Colab\"/></a>"
      ]
    },
    {
      "cell_type": "code",
      "source": [
        "import pandas as pd\n",
        "import requests\n",
        "from bs4 import BeautifulSoup\n",
        "from collections import Counter"
      ],
      "metadata": {
        "id": "KGoUU4dw0zpc"
      },
      "execution_count": 13,
      "outputs": []
    },
    {
      "cell_type": "code",
      "execution_count": 14,
      "metadata": {
        "id": "rLNgs5TH0jKa"
      },
      "outputs": [],
      "source": [
        "response = requests.get('https://btech-data-analytics.github.io/bridgerland-technical-college/bookstore.html').text"
      ]
    },
    {
      "cell_type": "code",
      "source": [
        "soup = BeautifulSoup(response,'html.parser')\n",
        "#soup"
      ],
      "metadata": {
        "id": "aAZaDdWV0_Jx"
      },
      "execution_count": 15,
      "outputs": []
    },
    {
      "cell_type": "markdown",
      "source": [
        "1.Which author has the most books listed at Bob's Bookstore?"
      ],
      "metadata": {
        "id": "yxvFXqFa0qkW"
      }
    },
    {
      "cell_type": "code",
      "source": [
        "soup.find('table')\n",
        "rows = soup.find_all(\"tr\")[1:]\n"
      ],
      "metadata": {
        "id": "An_KeIS-1eS2"
      },
      "execution_count": 20,
      "outputs": []
    },
    {
      "cell_type": "code",
      "source": [
        "authors = []\n",
        "\n",
        "for row in rows:\n",
        "    columns = row.find_all(\"td\")\n",
        "    if len(columns) >= 3:\n",
        "        author_name = columns[2].text.strip()\n",
        "        authors.append(author_name)\n",
        "\n",
        "author_counts = Counter(authors)\n",
        "most_common = author_counts.most_common(1)[0]\n",
        "author_counts\n",
        "most_common"
      ],
      "metadata": {
        "colab": {
          "base_uri": "https://localhost:8080/"
        },
        "id": "JBIgDlM413w7",
        "outputId": "04b1c296-d0f8-4d55-815d-8edf08a5294d"
      },
      "execution_count": 22,
      "outputs": [
        {
          "output_type": "execute_result",
          "data": {
            "text/plain": [
              "('Penelope Wainwright', 4)"
            ]
          },
          "metadata": {},
          "execution_count": 22
        }
      ]
    },
    {
      "cell_type": "markdown",
      "source": [
        "2. Which is the most popular topic among books at Bob's Bookstore (which topic occurs most frequently)?"
      ],
      "metadata": {
        "id": "pte9ODIT0r9z"
      }
    },
    {
      "cell_type": "code",
      "source": [
        "soup.find('table')\n",
        "rows = soup.find_all(\"tr\")[5:]\n",
        "rows[5]"
      ],
      "metadata": {
        "colab": {
          "base_uri": "https://localhost:8080/"
        },
        "id": "W8Q7iCwM3Na_",
        "outputId": "46404aa5-ad9e-4da1-edfd-a9f8844952aa"
      },
      "execution_count": 26,
      "outputs": [
        {
          "output_type": "execute_result",
          "data": {
            "text/plain": [
              "<tr class=\"book\">\n",
              "<td>978-0123456789</td>\n",
              "<td>Fur and Friendship: Stories of Feline Companions</td>\n",
              "<td>Seraphina Montague</td>\n",
              "<td>English</td>\n",
              "<td>176</td>\n",
              "<td>Cats</td>\n",
              "<td>$12.99</td>\n",
              "<td><button>Buy now</button></td>\n",
              "</tr>"
            ]
          },
          "metadata": {},
          "execution_count": 26
        }
      ]
    },
    {
      "cell_type": "code",
      "source": [
        "rows = soup.find_all(\"tr\")[1:]\n",
        "topics = []\n",
        "\n",
        "for row in rows:\n",
        "    columns = row.find_all(\"td\")\n",
        "    if len(columns) >= 6:\n",
        "        topic_name = columns[5].get_text(strip=True)\n",
        "        topics.append(topic_name)\n",
        "topic_counts = Counter(topics)\n",
        "most_common_topic = topic_counts.most_common(1)[0]\n",
        "most_common_topic"
      ],
      "metadata": {
        "colab": {
          "base_uri": "https://localhost:8080/"
        },
        "id": "XxCrx1as30xA",
        "outputId": "8003652d-eda0-4099-8f2e-e02076307f5a"
      },
      "execution_count": 38,
      "outputs": [
        {
          "output_type": "execute_result",
          "data": {
            "text/plain": [
              "('Cats', 10)"
            ]
          },
          "metadata": {},
          "execution_count": 38
        }
      ]
    },
    {
      "cell_type": "markdown",
      "source": [
        "3. Which topic of books is the most expensive, on average?\n"
      ],
      "metadata": {
        "id": "-hXPQh_Z0udP"
      }
    },
    {
      "cell_type": "code",
      "source": [
        "rows = soup.find_all(\"tr\")[1:]\n",
        "\n",
        "total_price = {}\n",
        "book_count = {}\n",
        "for row in rows:\n",
        "    columns = row.find_all(\"td\")\n",
        "    if len(columns) >= 7:\n",
        "        topic = columns[5].get_text(strip=True)\n",
        "        price_str = columns[6].get_text(strip=True).replace(\"$\", \"\")\n",
        "\n",
        "        try:\n",
        "            price = float(price_str)\n",
        "        except ValueError:\n",
        "            continue\n",
        "\n",
        "        if topic in total_price:\n",
        "            total_price[topic] += price\n",
        "            book_count[topic] += 1\n",
        "        else:\n",
        "            total_price[topic] = price\n",
        "            book_count[topic] = 1\n",
        "\n",
        "avg_price = {}\n",
        "for topic in total_price:\n",
        "    avg_price[topic] = total_price[topic] / book_count[topic]\n",
        "\n",
        "most_expensive_topic = max(avg_price.items(), key=lambda x: x[1])\n",
        "print(f\"💰 Most expensive topic (avg): {most_expensive_topic[0]} (${most_expensive_topic[1]:.2f})\")\n"
      ],
      "metadata": {
        "colab": {
          "base_uri": "https://localhost:8080/"
        },
        "id": "Z_5o9rHZ5NZg",
        "outputId": "84011ea2-ca4f-4594-d688-6a86e1211399"
      },
      "execution_count": 43,
      "outputs": [
        {
          "output_type": "stream",
          "name": "stdout",
          "text": [
            "💰 Most expensive topic (avg): Dogs ($26.59)\n"
          ]
        }
      ]
    },
    {
      "cell_type": "markdown",
      "source": [
        "4. Which topic of book has the most pages, on average?\n"
      ],
      "metadata": {
        "id": "kKYdeoqt0w16"
      }
    },
    {
      "cell_type": "code",
      "source": [
        "rows = soup.find_all(\"tr\")[1:]\n",
        "total_pages = {}\n",
        "book_count = {}\n",
        "\n",
        "for row in rows:\n",
        "    columns = row.find_all(\"td\")\n",
        "\n",
        "    if len(columns) >= 6:\n",
        "        topic = columns[5].get_text(strip=True)\n",
        "        pages_text = columns[4].get_text(strip=True)\n",
        "\n",
        "        try:\n",
        "            pages = int(pages_text)\n",
        "        except ValueError:\n",
        "            continue\n",
        "\n",
        "        if topic in total_pages:\n",
        "            total_pages[topic] += pages\n",
        "            book_count[topic] += 1\n",
        "        else:\n",
        "            total_pages[topic] = pages\n",
        "            book_count[topic] = 1\n",
        "\n",
        "average_pages = {}\n",
        "\n",
        "for topic in total_pages:\n",
        "    average_pages[topic] = total_pages[topic] / book_count[topic]\n",
        "\n",
        "most_pages_topic = max(average_pages.items(), key=lambda x: x[1])\n",
        "\n",
        "print(f\"📖 Topic with most pages on average: {most_pages_topic[0]}\")\n",
        "print(f\"Average number of pages: {most_pages_topic[1]:.1f}\")\n"
      ],
      "metadata": {
        "colab": {
          "base_uri": "https://localhost:8080/"
        },
        "id": "CLoDREqp6KoP",
        "outputId": "70599c85-015e-441f-db4f-bd9cd88f8298"
      },
      "execution_count": 45,
      "outputs": [
        {
          "output_type": "stream",
          "name": "stdout",
          "text": [
            "📖 Topic with most pages on average: Dogs\n",
            "Average number of pages: 256.0\n"
          ]
        }
      ]
    }
  ]
}